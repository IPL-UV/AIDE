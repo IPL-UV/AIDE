{
 "cells": [
  {
   "cell_type": "markdown",
   "metadata": {
    "id": "vZngc3J4XAhC"
   },
   "source": [
    "<img src=\"imgs/xaida_logo.png\" width=100 height=100 />"
   ]
  },
  {
   "cell_type": "markdown",
   "metadata": {
    "id": "5mHAmZduLi3R"
   },
   "source": [
    "# **Artificial Intelligence for Disentangling Extremes (AIDE) Toolbox**\n",
    "## **Tutorial: Drought Detection using DroughtED Database and Outlier Detection Algorithms**\n",
    "### September 2023"
   ]
  },
  {
   "cell_type": "markdown",
   "metadata": {},
   "source": [
    "###  This notebook aims to provide users with practical experience in utilising the toolbox...... \n",
    "\n",
    ">    <span style=\"font-size: 16px; color: red;\" > To gain a comprehensive understanding of the toolbox's structure and detailed usage instructions, we highly recommend referring to the user guide available in the \"Read the Docs\" reference. Familiarising yourself with the user guide will ensure you have a solid foundation to make the most out of the tutorial and leverage the toolbox effectively."
   ]
  },
  {
   "cell_type": "markdown",
   "metadata": {
    "id": "GHHhTHM7Li3R"
   },
   "source": [
    "---\n",
    "## Tutorial workflow\n",
    "---"
   ]
  },
  {
   "cell_type": "markdown",
   "metadata": {
    "id": "82AIm8OdLi3S"
   },
   "source": [
    "    1. PREREQUISITES OF THE TOOLBOX\n",
    "\n",
    "    2. USER'S SET-UP\n",
    "\n",
    "  >  2.1 DATASET \n",
    "  \n",
    "  >  2.2 CHOOSING A MODEL\n",
    "  \n",
    "  >  2.2 CONFIGURATION FILE\n",
    "    \n",
    "    3. TRAINING\n",
    "\n",
    "    4. EVALUATION AND VISUALIZATION"
   ]
  },
  {
   "cell_type": "markdown",
   "metadata": {
    "id": "z9RjLMH8Li3T"
   },
   "source": [
    "---\n",
    "## 1. Prerequisites of the toolbox\n",
    "---"
   ]
  },
  {
   "cell_type": "markdown",
   "metadata": {
    "id": "sAe99gSILi3T"
   },
   "source": [
    "Please, start running the following cells to check out the contents of the toolbox, install its dependencies and import the required libraries to make use of it."
   ]
  },
  {
   "cell_type": "markdown",
   "metadata": {
    "id": "YIUAkhoKLi3U"
   },
   "source": [
    "#### a) Check out the contents of the AIDE toolbox"
   ]
  },
  {
   "cell_type": "code",
   "execution_count": 1,
   "metadata": {
    "colab": {
     "base_uri": "https://localhost:8080/"
    },
    "executionInfo": {
     "elapsed": 3000,
     "status": "ok",
     "timestamp": 1665646542149,
     "user": {
      "displayName": "Maria Gonzalez",
      "userId": "05698012333486838551"
     },
     "user_tz": -120
    },
    "id": "RksUsiA1M8Zi",
    "outputId": "e78ba75d-1d31-4eb7-83cb-74ca797258a9"
   },
   "outputs": [],
   "source": [
    "# Uncomment to run the notebook in Google Colab\n",
    "# from google.colab import drive\n",
    "# drive.mount('/content/drive/')"
   ]
  },
  {
   "cell_type": "code",
   "execution_count": 2,
   "metadata": {
    "colab": {
     "base_uri": "https://localhost:8080/"
    },
    "executionInfo": {
     "elapsed": 4,
     "status": "ok",
     "timestamp": 1665646543109,
     "user": {
      "displayName": "Maria Gonzalez",
      "userId": "05698012333486838551"
     },
     "user_tz": -120
    },
    "id": "SqQ-aDraNBQb",
    "outputId": "20a0017b-15b6-4008-c096-870839285c26"
   },
   "outputs": [],
   "source": [
    "# %cd /content/drive/MyDrive/AIDE/AIDE/notebooks"
   ]
  },
  {
   "cell_type": "code",
   "execution_count": 3,
   "metadata": {
    "colab": {
     "base_uri": "https://localhost:8080/"
    },
    "executionInfo": {
     "elapsed": 4,
     "status": "ok",
     "timestamp": 1665646544181,
     "user": {
      "displayName": "Maria Gonzalez",
      "userId": "05698012333486838551"
     },
     "user_tz": -120
    },
    "id": "vagXjmvKLi3U",
    "outputId": "f3605e09-6f94-4579-ad02-cea17d097658"
   },
   "outputs": [
    {
     "name": "stdout",
     "output_type": "stream",
     "text": [
      "/Users/tristanw/Documents/XAIDA/toolbox/AIDE_private-main/AIDE\n",
      "\u001b[34mbackbones\u001b[m\u001b[m/    \u001b[34metc\u001b[m\u001b[m/          \u001b[34mlib\u001b[m\u001b[m/          \u001b[34mtutorials\u001b[m\u001b[m/\n",
      "\u001b[34mbin\u001b[m\u001b[m/          \u001b[34mevaluators\u001b[m\u001b[m/   \u001b[31mmain.py\u001b[m\u001b[m*      \u001b[34muser_defined\u001b[m\u001b[m/\n",
      "\u001b[34mconfigs\u001b[m\u001b[m/      \u001b[34mexperiments\u001b[m\u001b[m/  pyvenv.cfg    \u001b[34mutils\u001b[m\u001b[m/\n",
      "\u001b[34mdatabases\u001b[m\u001b[m/    \u001b[34minclude\u001b[m\u001b[m/      \u001b[34mshare\u001b[m\u001b[m/        \u001b[34mx4d\u001b[m\u001b[m/\n"
     ]
    }
   ],
   "source": [
    "a = %pwd\n",
    "\n",
    "if a.split(\"/\")[-1] != \"AIDE\":\n",
    "    %cd ../\n",
    "%ls -h"
   ]
  },
  {
   "cell_type": "markdown",
   "metadata": {
    "id": "qLQPG5y7Li3W"
   },
   "source": [
    "#### b) Install dependencies"
   ]
  },
  {
   "cell_type": "code",
   "execution_count": 4,
   "metadata": {
    "colab": {
     "base_uri": "https://localhost:8080/"
    },
    "executionInfo": {
     "elapsed": 1927,
     "status": "ok",
     "timestamp": 1665646553525,
     "user": {
      "displayName": "Maria Gonzalez",
      "userId": "05698012333486838551"
     },
     "user_tz": -120
    },
    "id": "IcV6xOUELi3W",
    "outputId": "753a197e-acb1-4928-d022-99227d31a8f3"
   },
   "outputs": [
    {
     "name": "stdout",
     "output_type": "stream",
     "text": [
      "Requirement already satisfied: dask~=2022.7.1 in /Users/tristanw/Documents/XAIDA/toolbox/AIDE_private-main/aide/lib/python3.9/site-packages (from -r ../requirements.txt (line 1)) (2022.7.1)\n",
      "Requirement already satisfied: matplotlib==3.5.2 in /Users/tristanw/Documents/XAIDA/toolbox/AIDE_private-main/aide/lib/python3.9/site-packages (from -r ../requirements.txt (line 2)) (3.5.2)\n",
      "Requirement already satisfied: numpy~=1.23.5 in /Users/tristanw/Documents/XAIDA/toolbox/AIDE_private-main/aide/lib/python3.9/site-packages (from -r ../requirements.txt (line 3)) (1.23.5)\n",
      "Requirement already satisfied: pandas==1.4.3 in /Users/tristanw/Documents/XAIDA/toolbox/AIDE_private-main/aide/lib/python3.9/site-packages (from -r ../requirements.txt (line 4)) (1.4.3)\n",
      "Requirement already satisfied: PyYAML==6.0 in /Users/tristanw/Documents/XAIDA/toolbox/AIDE_private-main/aide/lib/python3.9/site-packages (from -r ../requirements.txt (line 5)) (6.0)\n",
      "Requirement already satisfied: scipy==1.8.1 in /Users/tristanw/Documents/XAIDA/toolbox/AIDE_private-main/aide/lib/python3.9/site-packages (from -r ../requirements.txt (line 6)) (1.8.1)\n",
      "Requirement already satisfied: seaborn==0.12.2 in /Users/tristanw/Documents/XAIDA/toolbox/AIDE_private-main/aide/lib/python3.9/site-packages (from -r ../requirements.txt (line 7)) (0.12.2)\n",
      "Requirement already satisfied: torch==2.0.1 in /Users/tristanw/Documents/XAIDA/toolbox/AIDE_private-main/aide/lib/python3.9/site-packages (from -r ../requirements.txt (line 8)) (2.0.1)\n",
      "Requirement already satisfied: torchmetrics==0.11.1 in /Users/tristanw/Documents/XAIDA/toolbox/AIDE_private-main/aide/lib/python3.9/site-packages (from -r ../requirements.txt (line 9)) (0.11.1)\n",
      "Requirement already satisfied: tqdm==4.64.0 in /Users/tristanw/Documents/XAIDA/toolbox/AIDE_private-main/aide/lib/python3.9/site-packages (from -r ../requirements.txt (line 10)) (4.64.0)\n",
      "Requirement already satisfied: xarray==2022.6.0 in /Users/tristanw/Documents/XAIDA/toolbox/AIDE_private-main/aide/lib/python3.9/site-packages (from -r ../requirements.txt (line 11)) (2022.6.0)\n",
      "Requirement already satisfied: pyod~=1.0.5 in /Users/tristanw/Documents/XAIDA/toolbox/AIDE_private-main/aide/lib/python3.9/site-packages (from -r ../requirements.txt (line 12)) (1.0.9)\n",
      "Requirement already satisfied: cartopy==0.21.0 in /Users/tristanw/Documents/XAIDA/toolbox/AIDE_private-main/aide/lib/python3.9/site-packages (from -r ../requirements.txt (line 13)) (0.21.0)\n",
      "Requirement already satisfied: scikit-image~=0.20.0 in /Users/tristanw/Documents/XAIDA/toolbox/AIDE_private-main/aide/lib/python3.9/site-packages (from -r ../requirements.txt (line 14)) (0.20.0)\n",
      "Requirement already satisfied: scikit-learn~=1.1.1 in /Users/tristanw/Documents/XAIDA/toolbox/AIDE_private-main/aide/lib/python3.9/site-packages (from -r ../requirements.txt (line 15)) (1.1.3)\n",
      "Requirement already satisfied: pytorch_lightning~=1.7.6 in /Users/tristanw/Documents/XAIDA/toolbox/AIDE_private-main/aide/lib/python3.9/site-packages (from -r ../requirements.txt (line 16)) (1.7.7)\n",
      "Requirement already satisfied: segmentation-models-pytorch~=0.3.0 in /Users/tristanw/Documents/XAIDA/toolbox/AIDE_private-main/aide/lib/python3.9/site-packages (from -r ../requirements.txt (line 17)) (0.3.3)\n",
      "Requirement already satisfied: zarr~=2.12.0 in /Users/tristanw/Documents/XAIDA/toolbox/AIDE_private-main/aide/lib/python3.9/site-packages (from -r ../requirements.txt (line 18)) (2.12.0)\n",
      "Requirement already satisfied: shapely in /Users/tristanw/Documents/XAIDA/toolbox/AIDE_private-main/aide/lib/python3.9/site-packages (from -r ../requirements.txt (line 19)) (1.8.5.post1)\n",
      "Requirement already satisfied: imageio~=2.22.0 in /Users/tristanw/Documents/XAIDA/toolbox/AIDE_private-main/aide/lib/python3.9/site-packages (from -r ../requirements.txt (line 20)) (2.22.4)\n",
      "Requirement already satisfied: tsai~=0.3.4 in /Users/tristanw/Documents/XAIDA/toolbox/AIDE_private-main/aide/lib/python3.9/site-packages (from -r ../requirements.txt (line 21)) (0.3.6)\n",
      "Requirement already satisfied: captum==0.6.0 in /Users/tristanw/Documents/XAIDA/toolbox/AIDE_private-main/aide/lib/python3.9/site-packages (from -r ../requirements.txt (line 22)) (0.6.0)\n",
      "Requirement already satisfied: sphinx_rtd_theme in /Users/tristanw/Documents/XAIDA/toolbox/AIDE_private-main/aide/lib/python3.9/site-packages (from -r ../requirements.txt (line 23)) (1.3.0)\n",
      "Requirement already satisfied: python_docs_theme in /Users/tristanw/Documents/XAIDA/toolbox/AIDE_private-main/aide/lib/python3.9/site-packages (from -r ../requirements.txt (line 24)) (2023.7)\n",
      "Requirement already satisfied: ipywidgets in /Users/tristanw/Documents/XAIDA/toolbox/AIDE_private-main/aide/lib/python3.9/site-packages (from -r ../requirements.txt (line 25)) (8.1.0)\n",
      "Requirement already satisfied: notebook~=7.0.0 in /Users/tristanw/Documents/XAIDA/toolbox/AIDE_private-main/aide/lib/python3.9/site-packages (from -r ../requirements.txt (line 26)) (7.0.2)\n",
      "Requirement already satisfied: cycler>=0.10 in /Users/tristanw/Documents/XAIDA/toolbox/AIDE_private-main/aide/lib/python3.9/site-packages (from matplotlib==3.5.2->-r ../requirements.txt (line 2)) (0.11.0)\n",
      "Requirement already satisfied: fonttools>=4.22.0 in /Users/tristanw/Documents/XAIDA/toolbox/AIDE_private-main/aide/lib/python3.9/site-packages (from matplotlib==3.5.2->-r ../requirements.txt (line 2)) (4.42.1)\n",
      "Requirement already satisfied: python-dateutil>=2.7 in /Users/tristanw/Documents/XAIDA/toolbox/AIDE_private-main/aide/lib/python3.9/site-packages (from matplotlib==3.5.2->-r ../requirements.txt (line 2)) (2.8.2)\n",
      "Requirement already satisfied: packaging>=20.0 in /Users/tristanw/Documents/XAIDA/toolbox/AIDE_private-main/aide/lib/python3.9/site-packages (from matplotlib==3.5.2->-r ../requirements.txt (line 2)) (23.1)\n",
      "Requirement already satisfied: kiwisolver>=1.0.1 in /Users/tristanw/Documents/XAIDA/toolbox/AIDE_private-main/aide/lib/python3.9/site-packages (from matplotlib==3.5.2->-r ../requirements.txt (line 2)) (1.4.5)\n",
      "Requirement already satisfied: pillow>=6.2.0 in /Users/tristanw/Documents/XAIDA/toolbox/AIDE_private-main/aide/lib/python3.9/site-packages (from matplotlib==3.5.2->-r ../requirements.txt (line 2)) (10.0.0)\n",
      "Requirement already satisfied: pyparsing>=2.2.1 in /Users/tristanw/Documents/XAIDA/toolbox/AIDE_private-main/aide/lib/python3.9/site-packages (from matplotlib==3.5.2->-r ../requirements.txt (line 2)) (3.1.1)\n",
      "Requirement already satisfied: pytz>=2020.1 in /Users/tristanw/Documents/XAIDA/toolbox/AIDE_private-main/aide/lib/python3.9/site-packages (from pandas==1.4.3->-r ../requirements.txt (line 4)) (2023.3)\n",
      "Requirement already satisfied: filelock in /Users/tristanw/Documents/XAIDA/toolbox/AIDE_private-main/aide/lib/python3.9/site-packages (from torch==2.0.1->-r ../requirements.txt (line 8)) (3.12.3)\n",
      "Requirement already satisfied: typing-extensions in /Users/tristanw/Documents/XAIDA/toolbox/AIDE_private-main/aide/lib/python3.9/site-packages (from torch==2.0.1->-r ../requirements.txt (line 8)) (4.7.1)\n",
      "Requirement already satisfied: networkx in /Users/tristanw/Documents/XAIDA/toolbox/AIDE_private-main/aide/lib/python3.9/site-packages (from torch==2.0.1->-r ../requirements.txt (line 8)) (3.1)\n",
      "Requirement already satisfied: sympy in /Users/tristanw/Documents/XAIDA/toolbox/AIDE_private-main/aide/lib/python3.9/site-packages (from torch==2.0.1->-r ../requirements.txt (line 8)) (1.12)\n",
      "Requirement already satisfied: jinja2 in /Users/tristanw/Documents/XAIDA/toolbox/AIDE_private-main/aide/lib/python3.9/site-packages (from torch==2.0.1->-r ../requirements.txt (line 8)) (3.1.2)\n",
      "Requirement already satisfied: pyproj>=3.0.0 in /Users/tristanw/Documents/XAIDA/toolbox/AIDE_private-main/aide/lib/python3.9/site-packages (from cartopy==0.21.0->-r ../requirements.txt (line 13)) (3.6.0)\n",
      "Requirement already satisfied: pyshp>=2.1 in /Users/tristanw/Documents/XAIDA/toolbox/AIDE_private-main/aide/lib/python3.9/site-packages (from cartopy==0.21.0->-r ../requirements.txt (line 13)) (2.3.1)\n",
      "Requirement already satisfied: cloudpickle>=1.1.1 in /Users/tristanw/Documents/XAIDA/toolbox/AIDE_private-main/aide/lib/python3.9/site-packages (from dask~=2022.7.1->-r ../requirements.txt (line 1)) (2.2.1)\n",
      "Requirement already satisfied: toolz>=0.8.2 in /Users/tristanw/Documents/XAIDA/toolbox/AIDE_private-main/aide/lib/python3.9/site-packages (from dask~=2022.7.1->-r ../requirements.txt (line 1)) (0.12.0)\n",
      "Requirement already satisfied: fsspec>=0.6.0 in /Users/tristanw/Documents/XAIDA/toolbox/AIDE_private-main/aide/lib/python3.9/site-packages (from dask~=2022.7.1->-r ../requirements.txt (line 1)) (2023.6.0)\n",
      "Requirement already satisfied: partd>=0.3.10 in /Users/tristanw/Documents/XAIDA/toolbox/AIDE_private-main/aide/lib/python3.9/site-packages (from dask~=2022.7.1->-r ../requirements.txt (line 1)) (1.4.0)\n",
      "Requirement already satisfied: six in /Users/tristanw/Documents/XAIDA/toolbox/AIDE_private-main/aide/lib/python3.9/site-packages (from pyod~=1.0.5->-r ../requirements.txt (line 12)) (1.16.0)\n",
      "Requirement already satisfied: joblib in /Users/tristanw/Documents/XAIDA/toolbox/AIDE_private-main/aide/lib/python3.9/site-packages (from pyod~=1.0.5->-r ../requirements.txt (line 12)) (1.3.2)\n",
      "Requirement already satisfied: numba>=0.51 in /Users/tristanw/Documents/XAIDA/toolbox/AIDE_private-main/aide/lib/python3.9/site-packages (from pyod~=1.0.5->-r ../requirements.txt (line 12)) (0.57.1)\n",
      "Requirement already satisfied: tifffile>=2019.7.26 in /Users/tristanw/Documents/XAIDA/toolbox/AIDE_private-main/aide/lib/python3.9/site-packages (from scikit-image~=0.20.0->-r ../requirements.txt (line 14)) (2023.8.25)\n",
      "Requirement already satisfied: PyWavelets>=1.1.1 in /Users/tristanw/Documents/XAIDA/toolbox/AIDE_private-main/aide/lib/python3.9/site-packages (from scikit-image~=0.20.0->-r ../requirements.txt (line 14)) (1.4.1)\n",
      "Requirement already satisfied: lazy_loader>=0.1 in /Users/tristanw/Documents/XAIDA/toolbox/AIDE_private-main/aide/lib/python3.9/site-packages (from scikit-image~=0.20.0->-r ../requirements.txt (line 14)) (0.3)\n",
      "Requirement already satisfied: threadpoolctl>=2.0.0 in /Users/tristanw/Documents/XAIDA/toolbox/AIDE_private-main/aide/lib/python3.9/site-packages (from scikit-learn~=1.1.1->-r ../requirements.txt (line 15)) (3.2.0)\n",
      "Requirement already satisfied: tensorboard>=2.9.1 in /Users/tristanw/Documents/XAIDA/toolbox/AIDE_private-main/aide/lib/python3.9/site-packages (from pytorch_lightning~=1.7.6->-r ../requirements.txt (line 16)) (2.14.0)\n",
      "Requirement already satisfied: pyDeprecate>=0.3.1 in /Users/tristanw/Documents/XAIDA/toolbox/AIDE_private-main/aide/lib/python3.9/site-packages (from pytorch_lightning~=1.7.6->-r ../requirements.txt (line 16)) (0.3.2)\n",
      "Requirement already satisfied: pretrainedmodels==0.7.4 in /Users/tristanw/Documents/XAIDA/toolbox/AIDE_private-main/aide/lib/python3.9/site-packages (from segmentation-models-pytorch~=0.3.0->-r ../requirements.txt (line 17)) (0.7.4)\n",
      "Requirement already satisfied: torchvision>=0.5.0 in /Users/tristanw/Documents/XAIDA/toolbox/AIDE_private-main/aide/lib/python3.9/site-packages (from segmentation-models-pytorch~=0.3.0->-r ../requirements.txt (line 17)) (0.15.2)\n",
      "Requirement already satisfied: efficientnet-pytorch==0.7.1 in /Users/tristanw/Documents/XAIDA/toolbox/AIDE_private-main/aide/lib/python3.9/site-packages (from segmentation-models-pytorch~=0.3.0->-r ../requirements.txt (line 17)) (0.7.1)\n",
      "Requirement already satisfied: timm==0.9.2 in /Users/tristanw/Documents/XAIDA/toolbox/AIDE_private-main/aide/lib/python3.9/site-packages (from segmentation-models-pytorch~=0.3.0->-r ../requirements.txt (line 17)) (0.9.2)\n",
      "Requirement already satisfied: munch in /Users/tristanw/Documents/XAIDA/toolbox/AIDE_private-main/aide/lib/python3.9/site-packages (from pretrainedmodels==0.7.4->segmentation-models-pytorch~=0.3.0->-r ../requirements.txt (line 17)) (4.0.0)\n",
      "Requirement already satisfied: safetensors in /Users/tristanw/Documents/XAIDA/toolbox/AIDE_private-main/aide/lib/python3.9/site-packages (from timm==0.9.2->segmentation-models-pytorch~=0.3.0->-r ../requirements.txt (line 17)) (0.3.3)\n",
      "Requirement already satisfied: huggingface-hub in /Users/tristanw/Documents/XAIDA/toolbox/AIDE_private-main/aide/lib/python3.9/site-packages (from timm==0.9.2->segmentation-models-pytorch~=0.3.0->-r ../requirements.txt (line 17)) (0.16.4)\n",
      "Requirement already satisfied: numcodecs>=0.6.4 in /Users/tristanw/Documents/XAIDA/toolbox/AIDE_private-main/aide/lib/python3.9/site-packages (from zarr~=2.12.0->-r ../requirements.txt (line 18)) (0.11.0)\n",
      "Requirement already satisfied: fasteners in /Users/tristanw/Documents/XAIDA/toolbox/AIDE_private-main/aide/lib/python3.9/site-packages (from zarr~=2.12.0->-r ../requirements.txt (line 18)) (0.18)\n",
      "Requirement already satisfied: asciitree in /Users/tristanw/Documents/XAIDA/toolbox/AIDE_private-main/aide/lib/python3.9/site-packages (from zarr~=2.12.0->-r ../requirements.txt (line 18)) (0.3.3)\n",
      "Requirement already satisfied: fastai>=2.7.12 in /Users/tristanw/Documents/XAIDA/toolbox/AIDE_private-main/aide/lib/python3.9/site-packages (from tsai~=0.3.4->-r ../requirements.txt (line 21)) (2.7.12)\n",
      "Requirement already satisfied: imbalanced-learn>=0.8.0 in /Users/tristanw/Documents/XAIDA/toolbox/AIDE_private-main/aide/lib/python3.9/site-packages (from tsai~=0.3.4->-r ../requirements.txt (line 21)) (0.11.0)\n",
      "Requirement already satisfied: pyts>=0.12.0 in /Users/tristanw/Documents/XAIDA/toolbox/AIDE_private-main/aide/lib/python3.9/site-packages (from tsai~=0.3.4->-r ../requirements.txt (line 21)) (0.12.0)\n",
      "Requirement already satisfied: psutil>=5.4.8 in /Users/tristanw/Documents/XAIDA/toolbox/AIDE_private-main/aide/lib/python3.9/site-packages (from tsai~=0.3.4->-r ../requirements.txt (line 21)) (5.9.5)\n",
      "Requirement already satisfied: sphinxcontrib-jquery<5,>=4 in /Users/tristanw/Documents/XAIDA/toolbox/AIDE_private-main/aide/lib/python3.9/site-packages (from sphinx_rtd_theme->-r ../requirements.txt (line 23)) (4.1)\n",
      "Requirement already satisfied: docutils<0.19 in /Users/tristanw/Documents/XAIDA/toolbox/AIDE_private-main/aide/lib/python3.9/site-packages (from sphinx_rtd_theme->-r ../requirements.txt (line 23)) (0.18.1)\n",
      "Requirement already satisfied: sphinx<8,>=1.6 in /Users/tristanw/Documents/XAIDA/toolbox/AIDE_private-main/aide/lib/python3.9/site-packages (from sphinx_rtd_theme->-r ../requirements.txt (line 23)) (7.2.4)\n",
      "Requirement already satisfied: traitlets>=4.3.1 in /Users/tristanw/Documents/XAIDA/toolbox/AIDE_private-main/aide/lib/python3.9/site-packages (from ipywidgets->-r ../requirements.txt (line 25)) (5.9.0)\n",
      "Requirement already satisfied: ipython>=6.1.0 in /Users/tristanw/Documents/XAIDA/toolbox/AIDE_private-main/aide/lib/python3.9/site-packages (from ipywidgets->-r ../requirements.txt (line 25)) (8.14.0)\n",
      "Requirement already satisfied: comm>=0.1.3 in /Users/tristanw/Documents/XAIDA/toolbox/AIDE_private-main/aide/lib/python3.9/site-packages (from ipywidgets->-r ../requirements.txt (line 25)) (0.1.4)\n",
      "Requirement already satisfied: jupyterlab-widgets~=3.0.7 in /Users/tristanw/Documents/XAIDA/toolbox/AIDE_private-main/aide/lib/python3.9/site-packages (from ipywidgets->-r ../requirements.txt (line 25)) (3.0.8)\n",
      "Requirement already satisfied: widgetsnbextension~=4.0.7 in /Users/tristanw/Documents/XAIDA/toolbox/AIDE_private-main/aide/lib/python3.9/site-packages (from ipywidgets->-r ../requirements.txt (line 25)) (4.0.8)\n",
      "Requirement already satisfied: jupyterlab<5,>=4.0.2 in /Users/tristanw/Documents/XAIDA/toolbox/AIDE_private-main/aide/lib/python3.9/site-packages (from notebook~=7.0.0->-r ../requirements.txt (line 26)) (4.0.5)\n",
      "Requirement already satisfied: tornado>=6.2.0 in /Users/tristanw/Documents/XAIDA/toolbox/AIDE_private-main/aide/lib/python3.9/site-packages (from notebook~=7.0.0->-r ../requirements.txt (line 26)) (6.3.3)\n",
      "Requirement already satisfied: notebook-shim<0.3,>=0.2 in /Users/tristanw/Documents/XAIDA/toolbox/AIDE_private-main/aide/lib/python3.9/site-packages (from notebook~=7.0.0->-r ../requirements.txt (line 26)) (0.2.3)\n",
      "Requirement already satisfied: jupyter-server<3,>=2.4.0 in /Users/tristanw/Documents/XAIDA/toolbox/AIDE_private-main/aide/lib/python3.9/site-packages (from notebook~=7.0.0->-r ../requirements.txt (line 26)) (2.7.2)\n",
      "Requirement already satisfied: jupyterlab-server<3,>=2.22.1 in /Users/tristanw/Documents/XAIDA/toolbox/AIDE_private-main/aide/lib/python3.9/site-packages (from notebook~=7.0.0->-r ../requirements.txt (line 26)) (2.24.0)\n",
      "Requirement already satisfied: spacy<4 in /Users/tristanw/Documents/XAIDA/toolbox/AIDE_private-main/aide/lib/python3.9/site-packages (from fastai>=2.7.12->tsai~=0.3.4->-r ../requirements.txt (line 21)) (3.6.1)\n",
      "Requirement already satisfied: fastprogress>=0.2.4 in /Users/tristanw/Documents/XAIDA/toolbox/AIDE_private-main/aide/lib/python3.9/site-packages (from fastai>=2.7.12->tsai~=0.3.4->-r ../requirements.txt (line 21)) (1.0.3)\n",
      "Requirement already satisfied: requests in /Users/tristanw/Documents/XAIDA/toolbox/AIDE_private-main/aide/lib/python3.9/site-packages (from fastai>=2.7.12->tsai~=0.3.4->-r ../requirements.txt (line 21)) (2.31.0)\n",
      "Requirement already satisfied: pip in /Users/tristanw/Documents/XAIDA/toolbox/AIDE_private-main/aide/lib/python3.9/site-packages (from fastai>=2.7.12->tsai~=0.3.4->-r ../requirements.txt (line 21)) (22.0.4)\n",
      "Requirement already satisfied: fastcore<1.6,>=1.5.29 in /Users/tristanw/Documents/XAIDA/toolbox/AIDE_private-main/aide/lib/python3.9/site-packages (from fastai>=2.7.12->tsai~=0.3.4->-r ../requirements.txt (line 21)) (1.5.29)\n",
      "Requirement already satisfied: fastdownload<2,>=0.0.5 in /Users/tristanw/Documents/XAIDA/toolbox/AIDE_private-main/aide/lib/python3.9/site-packages (from fastai>=2.7.12->tsai~=0.3.4->-r ../requirements.txt (line 21)) (0.0.7)\n",
      "Requirement already satisfied: aiohttp!=4.0.0a0,!=4.0.0a1 in /Users/tristanw/Documents/XAIDA/toolbox/AIDE_private-main/aide/lib/python3.9/site-packages (from fsspec>=0.6.0->dask~=2022.7.1->-r ../requirements.txt (line 1)) (3.8.5)\n",
      "Requirement already satisfied: backcall in /Users/tristanw/Documents/XAIDA/toolbox/AIDE_private-main/aide/lib/python3.9/site-packages (from ipython>=6.1.0->ipywidgets->-r ../requirements.txt (line 25)) (0.2.0)\n",
      "Requirement already satisfied: matplotlib-inline in /Users/tristanw/Documents/XAIDA/toolbox/AIDE_private-main/aide/lib/python3.9/site-packages (from ipython>=6.1.0->ipywidgets->-r ../requirements.txt (line 25)) (0.1.6)\n",
      "Requirement already satisfied: pexpect>4.3 in /Users/tristanw/Documents/XAIDA/toolbox/AIDE_private-main/aide/lib/python3.9/site-packages (from ipython>=6.1.0->ipywidgets->-r ../requirements.txt (line 25)) (4.8.0)\n",
      "Requirement already satisfied: stack-data in /Users/tristanw/Documents/XAIDA/toolbox/AIDE_private-main/aide/lib/python3.9/site-packages (from ipython>=6.1.0->ipywidgets->-r ../requirements.txt (line 25)) (0.6.2)\n",
      "Requirement already satisfied: prompt-toolkit!=3.0.37,<3.1.0,>=3.0.30 in /Users/tristanw/Documents/XAIDA/toolbox/AIDE_private-main/aide/lib/python3.9/site-packages (from ipython>=6.1.0->ipywidgets->-r ../requirements.txt (line 25)) (3.0.39)\n",
      "Requirement already satisfied: decorator in /Users/tristanw/Documents/XAIDA/toolbox/AIDE_private-main/aide/lib/python3.9/site-packages (from ipython>=6.1.0->ipywidgets->-r ../requirements.txt (line 25)) (5.1.1)\n",
      "Requirement already satisfied: pickleshare in /Users/tristanw/Documents/XAIDA/toolbox/AIDE_private-main/aide/lib/python3.9/site-packages (from ipython>=6.1.0->ipywidgets->-r ../requirements.txt (line 25)) (0.7.5)\n",
      "Requirement already satisfied: jedi>=0.16 in /Users/tristanw/Documents/XAIDA/toolbox/AIDE_private-main/aide/lib/python3.9/site-packages (from ipython>=6.1.0->ipywidgets->-r ../requirements.txt (line 25)) (0.19.0)\n",
      "Requirement already satisfied: appnope in /Users/tristanw/Documents/XAIDA/toolbox/AIDE_private-main/aide/lib/python3.9/site-packages (from ipython>=6.1.0->ipywidgets->-r ../requirements.txt (line 25)) (0.1.3)\n",
      "Requirement already satisfied: pygments>=2.4.0 in /Users/tristanw/Documents/XAIDA/toolbox/AIDE_private-main/aide/lib/python3.9/site-packages (from ipython>=6.1.0->ipywidgets->-r ../requirements.txt (line 25)) (2.16.1)\n",
      "Requirement already satisfied: jupyter-events>=0.6.0 in /Users/tristanw/Documents/XAIDA/toolbox/AIDE_private-main/aide/lib/python3.9/site-packages (from jupyter-server<3,>=2.4.0->notebook~=7.0.0->-r ../requirements.txt (line 26)) (0.7.0)\n",
      "Requirement already satisfied: terminado>=0.8.3 in /Users/tristanw/Documents/XAIDA/toolbox/AIDE_private-main/aide/lib/python3.9/site-packages (from jupyter-server<3,>=2.4.0->notebook~=7.0.0->-r ../requirements.txt (line 26)) (0.17.1)\n",
      "Requirement already satisfied: jupyter-core!=5.0.*,>=4.12 in /Users/tristanw/Documents/XAIDA/toolbox/AIDE_private-main/aide/lib/python3.9/site-packages (from jupyter-server<3,>=2.4.0->notebook~=7.0.0->-r ../requirements.txt (line 26)) (5.3.1)\n",
      "Requirement already satisfied: pyzmq>=24 in /Users/tristanw/Documents/XAIDA/toolbox/AIDE_private-main/aide/lib/python3.9/site-packages (from jupyter-server<3,>=2.4.0->notebook~=7.0.0->-r ../requirements.txt (line 26)) (25.1.1)\n",
      "Requirement already satisfied: nbformat>=5.3.0 in /Users/tristanw/Documents/XAIDA/toolbox/AIDE_private-main/aide/lib/python3.9/site-packages (from jupyter-server<3,>=2.4.0->notebook~=7.0.0->-r ../requirements.txt (line 26)) (5.9.2)\n",
      "Requirement already satisfied: prometheus-client in /Users/tristanw/Documents/XAIDA/toolbox/AIDE_private-main/aide/lib/python3.9/site-packages (from jupyter-server<3,>=2.4.0->notebook~=7.0.0->-r ../requirements.txt (line 26)) (0.17.1)\n",
      "Requirement already satisfied: nbconvert>=6.4.4 in /Users/tristanw/Documents/XAIDA/toolbox/AIDE_private-main/aide/lib/python3.9/site-packages (from jupyter-server<3,>=2.4.0->notebook~=7.0.0->-r ../requirements.txt (line 26)) (7.8.0)\n",
      "Requirement already satisfied: send2trash>=1.8.2 in /Users/tristanw/Documents/XAIDA/toolbox/AIDE_private-main/aide/lib/python3.9/site-packages (from jupyter-server<3,>=2.4.0->notebook~=7.0.0->-r ../requirements.txt (line 26)) (1.8.2)\n",
      "Requirement already satisfied: argon2-cffi in /Users/tristanw/Documents/XAIDA/toolbox/AIDE_private-main/aide/lib/python3.9/site-packages (from jupyter-server<3,>=2.4.0->notebook~=7.0.0->-r ../requirements.txt (line 26)) (23.1.0)\n",
      "Requirement already satisfied: websocket-client in /Users/tristanw/Documents/XAIDA/toolbox/AIDE_private-main/aide/lib/python3.9/site-packages (from jupyter-server<3,>=2.4.0->notebook~=7.0.0->-r ../requirements.txt (line 26)) (1.6.2)\n",
      "Requirement already satisfied: jupyter-server-terminals in /Users/tristanw/Documents/XAIDA/toolbox/AIDE_private-main/aide/lib/python3.9/site-packages (from jupyter-server<3,>=2.4.0->notebook~=7.0.0->-r ../requirements.txt (line 26)) (0.4.4)\n",
      "Requirement already satisfied: overrides in /Users/tristanw/Documents/XAIDA/toolbox/AIDE_private-main/aide/lib/python3.9/site-packages (from jupyter-server<3,>=2.4.0->notebook~=7.0.0->-r ../requirements.txt (line 26)) (7.4.0)\n",
      "Requirement already satisfied: jupyter-client>=7.4.4 in /Users/tristanw/Documents/XAIDA/toolbox/AIDE_private-main/aide/lib/python3.9/site-packages (from jupyter-server<3,>=2.4.0->notebook~=7.0.0->-r ../requirements.txt (line 26)) (8.3.1)\n",
      "Requirement already satisfied: anyio>=3.1.0 in /Users/tristanw/Documents/XAIDA/toolbox/AIDE_private-main/aide/lib/python3.9/site-packages (from jupyter-server<3,>=2.4.0->notebook~=7.0.0->-r ../requirements.txt (line 26)) (3.7.1)\n",
      "Requirement already satisfied: jupyter-lsp>=2.0.0 in /Users/tristanw/Documents/XAIDA/toolbox/AIDE_private-main/aide/lib/python3.9/site-packages (from jupyterlab<5,>=4.0.2->notebook~=7.0.0->-r ../requirements.txt (line 26)) (2.2.0)\n",
      "Requirement already satisfied: ipykernel in /Users/tristanw/Documents/XAIDA/toolbox/AIDE_private-main/aide/lib/python3.9/site-packages (from jupyterlab<5,>=4.0.2->notebook~=7.0.0->-r ../requirements.txt (line 26)) (6.25.1)\n",
      "Requirement already satisfied: importlib-metadata>=4.8.3 in /Users/tristanw/Documents/XAIDA/toolbox/AIDE_private-main/aide/lib/python3.9/site-packages (from jupyterlab<5,>=4.0.2->notebook~=7.0.0->-r ../requirements.txt (line 26)) (6.8.0)\n",
      "Requirement already satisfied: tomli in /Users/tristanw/Documents/XAIDA/toolbox/AIDE_private-main/aide/lib/python3.9/site-packages (from jupyterlab<5,>=4.0.2->notebook~=7.0.0->-r ../requirements.txt (line 26)) (2.0.1)\n",
      "Requirement already satisfied: async-lru>=1.0.0 in /Users/tristanw/Documents/XAIDA/toolbox/AIDE_private-main/aide/lib/python3.9/site-packages (from jupyterlab<5,>=4.0.2->notebook~=7.0.0->-r ../requirements.txt (line 26)) (2.0.4)\n",
      "Requirement already satisfied: MarkupSafe>=2.0 in /Users/tristanw/Documents/XAIDA/toolbox/AIDE_private-main/aide/lib/python3.9/site-packages (from jinja2->torch==2.0.1->-r ../requirements.txt (line 8)) (2.1.3)\n",
      "Requirement already satisfied: babel>=2.10 in /Users/tristanw/Documents/XAIDA/toolbox/AIDE_private-main/aide/lib/python3.9/site-packages (from jupyterlab-server<3,>=2.22.1->notebook~=7.0.0->-r ../requirements.txt (line 26)) (2.12.1)\n",
      "Requirement already satisfied: jsonschema>=4.17.3 in /Users/tristanw/Documents/XAIDA/toolbox/AIDE_private-main/aide/lib/python3.9/site-packages (from jupyterlab-server<3,>=2.22.1->notebook~=7.0.0->-r ../requirements.txt (line 26)) (4.19.0)\n",
      "Requirement already satisfied: json5>=0.9.0 in /Users/tristanw/Documents/XAIDA/toolbox/AIDE_private-main/aide/lib/python3.9/site-packages (from jupyterlab-server<3,>=2.22.1->notebook~=7.0.0->-r ../requirements.txt (line 26)) (0.9.14)\n",
      "Requirement already satisfied: llvmlite<0.41,>=0.40.0dev0 in /Users/tristanw/Documents/XAIDA/toolbox/AIDE_private-main/aide/lib/python3.9/site-packages (from numba>=0.51->pyod~=1.0.5->-r ../requirements.txt (line 12)) (0.40.1)\n",
      "Requirement already satisfied: entrypoints in /Users/tristanw/Documents/XAIDA/toolbox/AIDE_private-main/aide/lib/python3.9/site-packages (from numcodecs>=0.6.4->zarr~=2.12.0->-r ../requirements.txt (line 18)) (0.4)\n",
      "Requirement already satisfied: locket in /Users/tristanw/Documents/XAIDA/toolbox/AIDE_private-main/aide/lib/python3.9/site-packages (from partd>=0.3.10->dask~=2022.7.1->-r ../requirements.txt (line 1)) (1.0.0)\n",
      "Requirement already satisfied: certifi in /Users/tristanw/Documents/XAIDA/toolbox/AIDE_private-main/aide/lib/python3.9/site-packages (from pyproj>=3.0.0->cartopy==0.21.0->-r ../requirements.txt (line 13)) (2023.7.22)\n",
      "Requirement already satisfied: sphinxcontrib-qthelp in /Users/tristanw/Documents/XAIDA/toolbox/AIDE_private-main/aide/lib/python3.9/site-packages (from sphinx<8,>=1.6->sphinx_rtd_theme->-r ../requirements.txt (line 23)) (1.0.6)\n",
      "Requirement already satisfied: snowballstemmer>=2.0 in /Users/tristanw/Documents/XAIDA/toolbox/AIDE_private-main/aide/lib/python3.9/site-packages (from sphinx<8,>=1.6->sphinx_rtd_theme->-r ../requirements.txt (line 23)) (2.2.0)\n",
      "Requirement already satisfied: sphinxcontrib-serializinghtml>=1.1.9 in /Users/tristanw/Documents/XAIDA/toolbox/AIDE_private-main/aide/lib/python3.9/site-packages (from sphinx<8,>=1.6->sphinx_rtd_theme->-r ../requirements.txt (line 23)) (1.1.9)\n",
      "Requirement already satisfied: sphinxcontrib-htmlhelp>=2.0.0 in /Users/tristanw/Documents/XAIDA/toolbox/AIDE_private-main/aide/lib/python3.9/site-packages (from sphinx<8,>=1.6->sphinx_rtd_theme->-r ../requirements.txt (line 23)) (2.0.4)\n",
      "Requirement already satisfied: alabaster<0.8,>=0.7 in /Users/tristanw/Documents/XAIDA/toolbox/AIDE_private-main/aide/lib/python3.9/site-packages (from sphinx<8,>=1.6->sphinx_rtd_theme->-r ../requirements.txt (line 23)) (0.7.13)\n",
      "Requirement already satisfied: sphinxcontrib-devhelp in /Users/tristanw/Documents/XAIDA/toolbox/AIDE_private-main/aide/lib/python3.9/site-packages (from sphinx<8,>=1.6->sphinx_rtd_theme->-r ../requirements.txt (line 23)) (1.0.5)\n",
      "Requirement already satisfied: imagesize>=1.3 in /Users/tristanw/Documents/XAIDA/toolbox/AIDE_private-main/aide/lib/python3.9/site-packages (from sphinx<8,>=1.6->sphinx_rtd_theme->-r ../requirements.txt (line 23)) (1.4.1)\n",
      "Requirement already satisfied: sphinxcontrib-jsmath in /Users/tristanw/Documents/XAIDA/toolbox/AIDE_private-main/aide/lib/python3.9/site-packages (from sphinx<8,>=1.6->sphinx_rtd_theme->-r ../requirements.txt (line 23)) (1.0.1)\n",
      "Requirement already satisfied: sphinxcontrib-applehelp in /Users/tristanw/Documents/XAIDA/toolbox/AIDE_private-main/aide/lib/python3.9/site-packages (from sphinx<8,>=1.6->sphinx_rtd_theme->-r ../requirements.txt (line 23)) (1.0.7)\n",
      "Requirement already satisfied: wheel>=0.26 in /Users/tristanw/Documents/XAIDA/toolbox/AIDE_private-main/aide/lib/python3.9/site-packages (from tensorboard>=2.9.1->pytorch_lightning~=1.7.6->-r ../requirements.txt (line 16)) (0.41.2)\n",
      "Requirement already satisfied: werkzeug>=1.0.1 in /Users/tristanw/Documents/XAIDA/toolbox/AIDE_private-main/aide/lib/python3.9/site-packages (from tensorboard>=2.9.1->pytorch_lightning~=1.7.6->-r ../requirements.txt (line 16)) (2.3.7)\n",
      "Requirement already satisfied: absl-py>=0.4 in /Users/tristanw/Documents/XAIDA/toolbox/AIDE_private-main/aide/lib/python3.9/site-packages (from tensorboard>=2.9.1->pytorch_lightning~=1.7.6->-r ../requirements.txt (line 16)) (1.4.0)\n",
      "Requirement already satisfied: setuptools>=41.0.0 in /Users/tristanw/Documents/XAIDA/toolbox/AIDE_private-main/aide/lib/python3.9/site-packages (from tensorboard>=2.9.1->pytorch_lightning~=1.7.6->-r ../requirements.txt (line 16)) (58.1.0)\n",
      "Requirement already satisfied: google-auth<3,>=1.6.3 in /Users/tristanw/Documents/XAIDA/toolbox/AIDE_private-main/aide/lib/python3.9/site-packages (from tensorboard>=2.9.1->pytorch_lightning~=1.7.6->-r ../requirements.txt (line 16)) (2.22.0)\n",
      "Requirement already satisfied: google-auth-oauthlib<1.1,>=0.5 in /Users/tristanw/Documents/XAIDA/toolbox/AIDE_private-main/aide/lib/python3.9/site-packages (from tensorboard>=2.9.1->pytorch_lightning~=1.7.6->-r ../requirements.txt (line 16)) (1.0.0)\n",
      "Requirement already satisfied: tensorboard-data-server<0.8.0,>=0.7.0 in /Users/tristanw/Documents/XAIDA/toolbox/AIDE_private-main/aide/lib/python3.9/site-packages (from tensorboard>=2.9.1->pytorch_lightning~=1.7.6->-r ../requirements.txt (line 16)) (0.7.1)\n",
      "Requirement already satisfied: markdown>=2.6.8 in /Users/tristanw/Documents/XAIDA/toolbox/AIDE_private-main/aide/lib/python3.9/site-packages (from tensorboard>=2.9.1->pytorch_lightning~=1.7.6->-r ../requirements.txt (line 16)) (3.4.4)\n",
      "Requirement already satisfied: protobuf>=3.19.6 in /Users/tristanw/Documents/XAIDA/toolbox/AIDE_private-main/aide/lib/python3.9/site-packages (from tensorboard>=2.9.1->pytorch_lightning~=1.7.6->-r ../requirements.txt (line 16)) (4.24.2)\n",
      "Requirement already satisfied: grpcio>=1.48.2 in /Users/tristanw/Documents/XAIDA/toolbox/AIDE_private-main/aide/lib/python3.9/site-packages (from tensorboard>=2.9.1->pytorch_lightning~=1.7.6->-r ../requirements.txt (line 16)) (1.57.0)\n",
      "Requirement already satisfied: mpmath>=0.19 in /Users/tristanw/Documents/XAIDA/toolbox/AIDE_private-main/aide/lib/python3.9/site-packages (from sympy->torch==2.0.1->-r ../requirements.txt (line 8)) (1.3.0)\n",
      "Requirement already satisfied: multidict<7.0,>=4.5 in /Users/tristanw/Documents/XAIDA/toolbox/AIDE_private-main/aide/lib/python3.9/site-packages (from aiohttp!=4.0.0a0,!=4.0.0a1->fsspec>=0.6.0->dask~=2022.7.1->-r ../requirements.txt (line 1)) (6.0.4)\n",
      "Requirement already satisfied: aiosignal>=1.1.2 in /Users/tristanw/Documents/XAIDA/toolbox/AIDE_private-main/aide/lib/python3.9/site-packages (from aiohttp!=4.0.0a0,!=4.0.0a1->fsspec>=0.6.0->dask~=2022.7.1->-r ../requirements.txt (line 1)) (1.3.1)\n",
      "Requirement already satisfied: attrs>=17.3.0 in /Users/tristanw/Documents/XAIDA/toolbox/AIDE_private-main/aide/lib/python3.9/site-packages (from aiohttp!=4.0.0a0,!=4.0.0a1->fsspec>=0.6.0->dask~=2022.7.1->-r ../requirements.txt (line 1)) (23.1.0)\n",
      "Requirement already satisfied: charset-normalizer<4.0,>=2.0 in /Users/tristanw/Documents/XAIDA/toolbox/AIDE_private-main/aide/lib/python3.9/site-packages (from aiohttp!=4.0.0a0,!=4.0.0a1->fsspec>=0.6.0->dask~=2022.7.1->-r ../requirements.txt (line 1)) (3.2.0)\n",
      "Requirement already satisfied: frozenlist>=1.1.1 in /Users/tristanw/Documents/XAIDA/toolbox/AIDE_private-main/aide/lib/python3.9/site-packages (from aiohttp!=4.0.0a0,!=4.0.0a1->fsspec>=0.6.0->dask~=2022.7.1->-r ../requirements.txt (line 1)) (1.4.0)\n",
      "Requirement already satisfied: async-timeout<5.0,>=4.0.0a3 in /Users/tristanw/Documents/XAIDA/toolbox/AIDE_private-main/aide/lib/python3.9/site-packages (from aiohttp!=4.0.0a0,!=4.0.0a1->fsspec>=0.6.0->dask~=2022.7.1->-r ../requirements.txt (line 1)) (4.0.3)\n",
      "Requirement already satisfied: yarl<2.0,>=1.0 in /Users/tristanw/Documents/XAIDA/toolbox/AIDE_private-main/aide/lib/python3.9/site-packages (from aiohttp!=4.0.0a0,!=4.0.0a1->fsspec>=0.6.0->dask~=2022.7.1->-r ../requirements.txt (line 1)) (1.9.2)\n",
      "Requirement already satisfied: exceptiongroup in /Users/tristanw/Documents/XAIDA/toolbox/AIDE_private-main/aide/lib/python3.9/site-packages (from anyio>=3.1.0->jupyter-server<3,>=2.4.0->notebook~=7.0.0->-r ../requirements.txt (line 26)) (1.1.3)\n",
      "Requirement already satisfied: sniffio>=1.1 in /Users/tristanw/Documents/XAIDA/toolbox/AIDE_private-main/aide/lib/python3.9/site-packages (from anyio>=3.1.0->jupyter-server<3,>=2.4.0->notebook~=7.0.0->-r ../requirements.txt (line 26)) (1.3.0)\n",
      "Requirement already satisfied: idna>=2.8 in /Users/tristanw/Documents/XAIDA/toolbox/AIDE_private-main/aide/lib/python3.9/site-packages (from anyio>=3.1.0->jupyter-server<3,>=2.4.0->notebook~=7.0.0->-r ../requirements.txt (line 26)) (3.4)\n",
      "Requirement already satisfied: rsa<5,>=3.1.4 in /Users/tristanw/Documents/XAIDA/toolbox/AIDE_private-main/aide/lib/python3.9/site-packages (from google-auth<3,>=1.6.3->tensorboard>=2.9.1->pytorch_lightning~=1.7.6->-r ../requirements.txt (line 16)) (4.9)\n",
      "Requirement already satisfied: urllib3<2.0 in /Users/tristanw/Documents/XAIDA/toolbox/AIDE_private-main/aide/lib/python3.9/site-packages (from google-auth<3,>=1.6.3->tensorboard>=2.9.1->pytorch_lightning~=1.7.6->-r ../requirements.txt (line 16)) (1.26.16)\n",
      "Requirement already satisfied: pyasn1-modules>=0.2.1 in /Users/tristanw/Documents/XAIDA/toolbox/AIDE_private-main/aide/lib/python3.9/site-packages (from google-auth<3,>=1.6.3->tensorboard>=2.9.1->pytorch_lightning~=1.7.6->-r ../requirements.txt (line 16)) (0.3.0)\n",
      "Requirement already satisfied: cachetools<6.0,>=2.0.0 in /Users/tristanw/Documents/XAIDA/toolbox/AIDE_private-main/aide/lib/python3.9/site-packages (from google-auth<3,>=1.6.3->tensorboard>=2.9.1->pytorch_lightning~=1.7.6->-r ../requirements.txt (line 16)) (5.3.1)\n",
      "Requirement already satisfied: requests-oauthlib>=0.7.0 in /Users/tristanw/Documents/XAIDA/toolbox/AIDE_private-main/aide/lib/python3.9/site-packages (from google-auth-oauthlib<1.1,>=0.5->tensorboard>=2.9.1->pytorch_lightning~=1.7.6->-r ../requirements.txt (line 16)) (1.3.1)\n",
      "Requirement already satisfied: zipp>=0.5 in /Users/tristanw/Documents/XAIDA/toolbox/AIDE_private-main/aide/lib/python3.9/site-packages (from importlib-metadata>=4.8.3->jupyterlab<5,>=4.0.2->notebook~=7.0.0->-r ../requirements.txt (line 26)) (3.16.2)\n",
      "Requirement already satisfied: parso<0.9.0,>=0.8.3 in /Users/tristanw/Documents/XAIDA/toolbox/AIDE_private-main/aide/lib/python3.9/site-packages (from jedi>=0.16->ipython>=6.1.0->ipywidgets->-r ../requirements.txt (line 25)) (0.8.3)\n",
      "Requirement already satisfied: referencing>=0.28.4 in /Users/tristanw/Documents/XAIDA/toolbox/AIDE_private-main/aide/lib/python3.9/site-packages (from jsonschema>=4.17.3->jupyterlab-server<3,>=2.22.1->notebook~=7.0.0->-r ../requirements.txt (line 26)) (0.30.2)\n",
      "Requirement already satisfied: rpds-py>=0.7.1 in /Users/tristanw/Documents/XAIDA/toolbox/AIDE_private-main/aide/lib/python3.9/site-packages (from jsonschema>=4.17.3->jupyterlab-server<3,>=2.22.1->notebook~=7.0.0->-r ../requirements.txt (line 26)) (0.10.0)\n",
      "Requirement already satisfied: jsonschema-specifications>=2023.03.6 in /Users/tristanw/Documents/XAIDA/toolbox/AIDE_private-main/aide/lib/python3.9/site-packages (from jsonschema>=4.17.3->jupyterlab-server<3,>=2.22.1->notebook~=7.0.0->-r ../requirements.txt (line 26)) (2023.7.1)\n",
      "Requirement already satisfied: platformdirs>=2.5 in /Users/tristanw/Documents/XAIDA/toolbox/AIDE_private-main/aide/lib/python3.9/site-packages (from jupyter-core!=5.0.*,>=4.12->jupyter-server<3,>=2.4.0->notebook~=7.0.0->-r ../requirements.txt (line 26)) (3.10.0)\n",
      "Requirement already satisfied: python-json-logger>=2.0.4 in /Users/tristanw/Documents/XAIDA/toolbox/AIDE_private-main/aide/lib/python3.9/site-packages (from jupyter-events>=0.6.0->jupyter-server<3,>=2.4.0->notebook~=7.0.0->-r ../requirements.txt (line 26)) (2.0.7)\n",
      "Requirement already satisfied: rfc3986-validator>=0.1.1 in /Users/tristanw/Documents/XAIDA/toolbox/AIDE_private-main/aide/lib/python3.9/site-packages (from jupyter-events>=0.6.0->jupyter-server<3,>=2.4.0->notebook~=7.0.0->-r ../requirements.txt (line 26)) (0.1.1)\n",
      "Requirement already satisfied: rfc3339-validator in /Users/tristanw/Documents/XAIDA/toolbox/AIDE_private-main/aide/lib/python3.9/site-packages (from jupyter-events>=0.6.0->jupyter-server<3,>=2.4.0->notebook~=7.0.0->-r ../requirements.txt (line 26)) (0.1.4)\n",
      "Requirement already satisfied: defusedxml in /Users/tristanw/Documents/XAIDA/toolbox/AIDE_private-main/aide/lib/python3.9/site-packages (from nbconvert>=6.4.4->jupyter-server<3,>=2.4.0->notebook~=7.0.0->-r ../requirements.txt (line 26)) (0.7.1)\n",
      "Requirement already satisfied: bleach!=5.0.0 in /Users/tristanw/Documents/XAIDA/toolbox/AIDE_private-main/aide/lib/python3.9/site-packages (from nbconvert>=6.4.4->jupyter-server<3,>=2.4.0->notebook~=7.0.0->-r ../requirements.txt (line 26)) (6.0.0)\n",
      "Requirement already satisfied: mistune<4,>=2.0.3 in /Users/tristanw/Documents/XAIDA/toolbox/AIDE_private-main/aide/lib/python3.9/site-packages (from nbconvert>=6.4.4->jupyter-server<3,>=2.4.0->notebook~=7.0.0->-r ../requirements.txt (line 26)) (3.0.1)\n",
      "Requirement already satisfied: pandocfilters>=1.4.1 in /Users/tristanw/Documents/XAIDA/toolbox/AIDE_private-main/aide/lib/python3.9/site-packages (from nbconvert>=6.4.4->jupyter-server<3,>=2.4.0->notebook~=7.0.0->-r ../requirements.txt (line 26)) (1.5.0)\n",
      "Requirement already satisfied: tinycss2 in /Users/tristanw/Documents/XAIDA/toolbox/AIDE_private-main/aide/lib/python3.9/site-packages (from nbconvert>=6.4.4->jupyter-server<3,>=2.4.0->notebook~=7.0.0->-r ../requirements.txt (line 26)) (1.2.1)\n",
      "Requirement already satisfied: nbclient>=0.5.0 in /Users/tristanw/Documents/XAIDA/toolbox/AIDE_private-main/aide/lib/python3.9/site-packages (from nbconvert>=6.4.4->jupyter-server<3,>=2.4.0->notebook~=7.0.0->-r ../requirements.txt (line 26)) (0.8.0)\n",
      "Requirement already satisfied: jupyterlab-pygments in /Users/tristanw/Documents/XAIDA/toolbox/AIDE_private-main/aide/lib/python3.9/site-packages (from nbconvert>=6.4.4->jupyter-server<3,>=2.4.0->notebook~=7.0.0->-r ../requirements.txt (line 26)) (0.2.2)\n",
      "Requirement already satisfied: beautifulsoup4 in /Users/tristanw/Documents/XAIDA/toolbox/AIDE_private-main/aide/lib/python3.9/site-packages (from nbconvert>=6.4.4->jupyter-server<3,>=2.4.0->notebook~=7.0.0->-r ../requirements.txt (line 26)) (4.12.2)\n",
      "Requirement already satisfied: fastjsonschema in /Users/tristanw/Documents/XAIDA/toolbox/AIDE_private-main/aide/lib/python3.9/site-packages (from nbformat>=5.3.0->jupyter-server<3,>=2.4.0->notebook~=7.0.0->-r ../requirements.txt (line 26)) (2.18.0)\n",
      "Requirement already satisfied: ptyprocess>=0.5 in /Users/tristanw/Documents/XAIDA/toolbox/AIDE_private-main/aide/lib/python3.9/site-packages (from pexpect>4.3->ipython>=6.1.0->ipywidgets->-r ../requirements.txt (line 25)) (0.7.0)\n",
      "Requirement already satisfied: wcwidth in /Users/tristanw/Documents/XAIDA/toolbox/AIDE_private-main/aide/lib/python3.9/site-packages (from prompt-toolkit!=3.0.37,<3.1.0,>=3.0.30->ipython>=6.1.0->ipywidgets->-r ../requirements.txt (line 25)) (0.2.6)\n",
      "Requirement already satisfied: murmurhash<1.1.0,>=0.28.0 in /Users/tristanw/Documents/XAIDA/toolbox/AIDE_private-main/aide/lib/python3.9/site-packages (from spacy<4->fastai>=2.7.12->tsai~=0.3.4->-r ../requirements.txt (line 21)) (1.0.9)\n",
      "Requirement already satisfied: langcodes<4.0.0,>=3.2.0 in /Users/tristanw/Documents/XAIDA/toolbox/AIDE_private-main/aide/lib/python3.9/site-packages (from spacy<4->fastai>=2.7.12->tsai~=0.3.4->-r ../requirements.txt (line 21)) (3.3.0)\n",
      "Requirement already satisfied: pathy>=0.10.0 in /Users/tristanw/Documents/XAIDA/toolbox/AIDE_private-main/aide/lib/python3.9/site-packages (from spacy<4->fastai>=2.7.12->tsai~=0.3.4->-r ../requirements.txt (line 21)) (0.10.2)\n",
      "Requirement already satisfied: srsly<3.0.0,>=2.4.3 in /Users/tristanw/Documents/XAIDA/toolbox/AIDE_private-main/aide/lib/python3.9/site-packages (from spacy<4->fastai>=2.7.12->tsai~=0.3.4->-r ../requirements.txt (line 21)) (2.4.7)\n",
      "Requirement already satisfied: spacy-legacy<3.1.0,>=3.0.11 in /Users/tristanw/Documents/XAIDA/toolbox/AIDE_private-main/aide/lib/python3.9/site-packages (from spacy<4->fastai>=2.7.12->tsai~=0.3.4->-r ../requirements.txt (line 21)) (3.0.12)\n",
      "Requirement already satisfied: thinc<8.2.0,>=8.1.8 in /Users/tristanw/Documents/XAIDA/toolbox/AIDE_private-main/aide/lib/python3.9/site-packages (from spacy<4->fastai>=2.7.12->tsai~=0.3.4->-r ../requirements.txt (line 21)) (8.1.12)\n",
      "Requirement already satisfied: catalogue<2.1.0,>=2.0.6 in /Users/tristanw/Documents/XAIDA/toolbox/AIDE_private-main/aide/lib/python3.9/site-packages (from spacy<4->fastai>=2.7.12->tsai~=0.3.4->-r ../requirements.txt (line 21)) (2.0.9)\n",
      "Requirement already satisfied: wasabi<1.2.0,>=0.9.1 in /Users/tristanw/Documents/XAIDA/toolbox/AIDE_private-main/aide/lib/python3.9/site-packages (from spacy<4->fastai>=2.7.12->tsai~=0.3.4->-r ../requirements.txt (line 21)) (1.1.2)\n",
      "Requirement already satisfied: preshed<3.1.0,>=3.0.2 in /Users/tristanw/Documents/XAIDA/toolbox/AIDE_private-main/aide/lib/python3.9/site-packages (from spacy<4->fastai>=2.7.12->tsai~=0.3.4->-r ../requirements.txt (line 21)) (3.0.8)\n",
      "Requirement already satisfied: cymem<2.1.0,>=2.0.2 in /Users/tristanw/Documents/XAIDA/toolbox/AIDE_private-main/aide/lib/python3.9/site-packages (from spacy<4->fastai>=2.7.12->tsai~=0.3.4->-r ../requirements.txt (line 21)) (2.0.7)\n",
      "Requirement already satisfied: smart-open<7.0.0,>=5.2.1 in /Users/tristanw/Documents/XAIDA/toolbox/AIDE_private-main/aide/lib/python3.9/site-packages (from spacy<4->fastai>=2.7.12->tsai~=0.3.4->-r ../requirements.txt (line 21)) (6.3.0)\n",
      "Requirement already satisfied: spacy-loggers<2.0.0,>=1.0.0 in /Users/tristanw/Documents/XAIDA/toolbox/AIDE_private-main/aide/lib/python3.9/site-packages (from spacy<4->fastai>=2.7.12->tsai~=0.3.4->-r ../requirements.txt (line 21)) (1.0.4)\n",
      "Requirement already satisfied: pydantic!=1.8,!=1.8.1,<3.0.0,>=1.7.4 in /Users/tristanw/Documents/XAIDA/toolbox/AIDE_private-main/aide/lib/python3.9/site-packages (from spacy<4->fastai>=2.7.12->tsai~=0.3.4->-r ../requirements.txt (line 21)) (2.3.0)\n",
      "Requirement already satisfied: typer<0.10.0,>=0.3.0 in /Users/tristanw/Documents/XAIDA/toolbox/AIDE_private-main/aide/lib/python3.9/site-packages (from spacy<4->fastai>=2.7.12->tsai~=0.3.4->-r ../requirements.txt (line 21)) (0.9.0)\n",
      "Requirement already satisfied: argon2-cffi-bindings in /Users/tristanw/Documents/XAIDA/toolbox/AIDE_private-main/aide/lib/python3.9/site-packages (from argon2-cffi->jupyter-server<3,>=2.4.0->notebook~=7.0.0->-r ../requirements.txt (line 26)) (21.2.0)\n",
      "Requirement already satisfied: nest-asyncio in /Users/tristanw/Documents/XAIDA/toolbox/AIDE_private-main/aide/lib/python3.9/site-packages (from ipykernel->jupyterlab<5,>=4.0.2->notebook~=7.0.0->-r ../requirements.txt (line 26)) (1.5.7)\n",
      "Requirement already satisfied: debugpy>=1.6.5 in /Users/tristanw/Documents/XAIDA/toolbox/AIDE_private-main/aide/lib/python3.9/site-packages (from ipykernel->jupyterlab<5,>=4.0.2->notebook~=7.0.0->-r ../requirements.txt (line 26)) (1.6.7.post1)\n",
      "Requirement already satisfied: executing>=1.2.0 in /Users/tristanw/Documents/XAIDA/toolbox/AIDE_private-main/aide/lib/python3.9/site-packages (from stack-data->ipython>=6.1.0->ipywidgets->-r ../requirements.txt (line 25)) (1.2.0)\n",
      "Requirement already satisfied: asttokens>=2.1.0 in /Users/tristanw/Documents/XAIDA/toolbox/AIDE_private-main/aide/lib/python3.9/site-packages (from stack-data->ipython>=6.1.0->ipywidgets->-r ../requirements.txt (line 25)) (2.2.1)\n",
      "Requirement already satisfied: pure-eval in /Users/tristanw/Documents/XAIDA/toolbox/AIDE_private-main/aide/lib/python3.9/site-packages (from stack-data->ipython>=6.1.0->ipywidgets->-r ../requirements.txt (line 25)) (0.2.2)\n",
      "Requirement already satisfied: webencodings in /Users/tristanw/Documents/XAIDA/toolbox/AIDE_private-main/aide/lib/python3.9/site-packages (from bleach!=5.0.0->nbconvert>=6.4.4->jupyter-server<3,>=2.4.0->notebook~=7.0.0->-r ../requirements.txt (line 26)) (0.5.1)\n",
      "Requirement already satisfied: fqdn in /Users/tristanw/Documents/XAIDA/toolbox/AIDE_private-main/aide/lib/python3.9/site-packages (from jsonschema>=4.17.3->jupyterlab-server<3,>=2.22.1->notebook~=7.0.0->-r ../requirements.txt (line 26)) (1.5.1)\n",
      "Requirement already satisfied: isoduration in /Users/tristanw/Documents/XAIDA/toolbox/AIDE_private-main/aide/lib/python3.9/site-packages (from jsonschema>=4.17.3->jupyterlab-server<3,>=2.22.1->notebook~=7.0.0->-r ../requirements.txt (line 26)) (20.11.0)\n",
      "Requirement already satisfied: uri-template in /Users/tristanw/Documents/XAIDA/toolbox/AIDE_private-main/aide/lib/python3.9/site-packages (from jsonschema>=4.17.3->jupyterlab-server<3,>=2.22.1->notebook~=7.0.0->-r ../requirements.txt (line 26)) (1.3.0)\n",
      "Requirement already satisfied: jsonpointer>1.13 in /Users/tristanw/Documents/XAIDA/toolbox/AIDE_private-main/aide/lib/python3.9/site-packages (from jsonschema>=4.17.3->jupyterlab-server<3,>=2.22.1->notebook~=7.0.0->-r ../requirements.txt (line 26)) (2.4)\n",
      "Requirement already satisfied: webcolors>=1.11 in /Users/tristanw/Documents/XAIDA/toolbox/AIDE_private-main/aide/lib/python3.9/site-packages (from jsonschema>=4.17.3->jupyterlab-server<3,>=2.22.1->notebook~=7.0.0->-r ../requirements.txt (line 26)) (1.13)\n",
      "Requirement already satisfied: pyasn1<0.6.0,>=0.4.6 in /Users/tristanw/Documents/XAIDA/toolbox/AIDE_private-main/aide/lib/python3.9/site-packages (from pyasn1-modules>=0.2.1->google-auth<3,>=1.6.3->tensorboard>=2.9.1->pytorch_lightning~=1.7.6->-r ../requirements.txt (line 16)) (0.5.0)\n",
      "Requirement already satisfied: annotated-types>=0.4.0 in /Users/tristanw/Documents/XAIDA/toolbox/AIDE_private-main/aide/lib/python3.9/site-packages (from pydantic!=1.8,!=1.8.1,<3.0.0,>=1.7.4->spacy<4->fastai>=2.7.12->tsai~=0.3.4->-r ../requirements.txt (line 21)) (0.5.0)\n",
      "Requirement already satisfied: pydantic-core==2.6.3 in /Users/tristanw/Documents/XAIDA/toolbox/AIDE_private-main/aide/lib/python3.9/site-packages (from pydantic!=1.8,!=1.8.1,<3.0.0,>=1.7.4->spacy<4->fastai>=2.7.12->tsai~=0.3.4->-r ../requirements.txt (line 21)) (2.6.3)\n",
      "Requirement already satisfied: oauthlib>=3.0.0 in /Users/tristanw/Documents/XAIDA/toolbox/AIDE_private-main/aide/lib/python3.9/site-packages (from requests-oauthlib>=0.7.0->google-auth-oauthlib<1.1,>=0.5->tensorboard>=2.9.1->pytorch_lightning~=1.7.6->-r ../requirements.txt (line 16)) (3.2.2)\n",
      "Requirement already satisfied: blis<0.8.0,>=0.7.8 in /Users/tristanw/Documents/XAIDA/toolbox/AIDE_private-main/aide/lib/python3.9/site-packages (from thinc<8.2.0,>=8.1.8->spacy<4->fastai>=2.7.12->tsai~=0.3.4->-r ../requirements.txt (line 21)) (0.7.10)\n",
      "Requirement already satisfied: confection<1.0.0,>=0.0.1 in /Users/tristanw/Documents/XAIDA/toolbox/AIDE_private-main/aide/lib/python3.9/site-packages (from thinc<8.2.0,>=8.1.8->spacy<4->fastai>=2.7.12->tsai~=0.3.4->-r ../requirements.txt (line 21)) (0.1.1)\n",
      "Requirement already satisfied: click<9.0.0,>=7.1.1 in /Users/tristanw/Documents/XAIDA/toolbox/AIDE_private-main/aide/lib/python3.9/site-packages (from typer<0.10.0,>=0.3.0->spacy<4->fastai>=2.7.12->tsai~=0.3.4->-r ../requirements.txt (line 21)) (8.1.7)\n",
      "Requirement already satisfied: cffi>=1.0.1 in /Users/tristanw/Documents/XAIDA/toolbox/AIDE_private-main/aide/lib/python3.9/site-packages (from argon2-cffi-bindings->argon2-cffi->jupyter-server<3,>=2.4.0->notebook~=7.0.0->-r ../requirements.txt (line 26)) (1.15.1)\n",
      "Requirement already satisfied: soupsieve>1.2 in /Users/tristanw/Documents/XAIDA/toolbox/AIDE_private-main/aide/lib/python3.9/site-packages (from beautifulsoup4->nbconvert>=6.4.4->jupyter-server<3,>=2.4.0->notebook~=7.0.0->-r ../requirements.txt (line 26)) (2.4.1)\n",
      "Requirement already satisfied: pycparser in /Users/tristanw/Documents/XAIDA/toolbox/AIDE_private-main/aide/lib/python3.9/site-packages (from cffi>=1.0.1->argon2-cffi-bindings->argon2-cffi->jupyter-server<3,>=2.4.0->notebook~=7.0.0->-r ../requirements.txt (line 26)) (2.21)\n",
      "Requirement already satisfied: arrow>=0.15.0 in /Users/tristanw/Documents/XAIDA/toolbox/AIDE_private-main/aide/lib/python3.9/site-packages (from isoduration->jsonschema>=4.17.3->jupyterlab-server<3,>=2.22.1->notebook~=7.0.0->-r ../requirements.txt (line 26)) (1.2.3)\n",
      "\u001b[33mWARNING: You are using pip version 22.0.4; however, version 23.2.1 is available.\n",
      "You should consider upgrading via the '/Users/tristanw/Documents/XAIDA/toolbox/AIDE_private-main/aide/bin/python3 -m pip install --upgrade pip' command.\u001b[0m\u001b[33m\n",
      "\u001b[0m"
     ]
    }
   ],
   "source": [
    "import sys\n",
    "!{sys.executable} -m pip install -r ../requirements.txt"
   ]
  },
  {
   "cell_type": "markdown",
   "metadata": {
    "id": "0x7p3D-YLi3X"
   },
   "source": [
    "#### c)  Import required libraries"
   ]
  },
  {
   "cell_type": "code",
   "execution_count": 5,
   "metadata": {
    "executionInfo": {
     "elapsed": 9,
     "status": "ok",
     "timestamp": 1665646575256,
     "user": {
      "displayName": "Maria Gonzalez",
      "userId": "05698012333486838551"
     },
     "user_tz": -120
    },
    "id": "tpWOLB_bLi3X"
   },
   "outputs": [],
   "source": [
    "# GENERAL\n",
    "import os, sys\n",
    "from os.path import dirname, abspath\n",
    "\n",
    "# NUMPY\n",
    "import numpy as np\n",
    "\n",
    "# PANDAS\n",
    "import pandas as pd\n",
    "\n",
    "# XARRAY\n",
    "import xarray as xr\n",
    "\n",
    "# ITERTOOLS\n",
    "import itertools\n",
    "\n",
    "# TIME, DATETIME\n",
    "import time\n",
    "from datetime import datetime\n",
    "\n",
    "# SCIPY\n",
    "from scipy.interpolate import interp1d\n",
    "\n",
    "# SKLEARN\n",
    "from sklearn.preprocessing import RobustScaler\n",
    "\n",
    "# DATASET CLASSES\n",
    "from databases import *\n",
    "\n",
    "# MODEL TEMPLATE CLASS\n",
    "from  backbones import *\n",
    "\n",
    "# EVALUATION\n",
    "from evaluators import *\n",
    "\n",
    "# METRICS\n",
    "from utils.misc import * \n",
    "from utils.setup_config import setup\n",
    "\n",
    "import yaml\n",
    "from os.path import dirname, abspath\n",
    "from pathlib import Path\n",
    "import sys\n",
    "\n",
    "# MATPLOTLIB\n",
    "import matplotlib as mpl\n",
    "mpl.rcParams['figure.dpi'] = 300\n",
    "pd.set_option('display.max_rows', 50)"
   ]
  },
  {
   "cell_type": "code",
   "execution_count": 6,
   "metadata": {
    "executionInfo": {
     "elapsed": 9,
     "status": "ok",
     "timestamp": 1665646575256,
     "user": {
      "displayName": "Maria Gonzalez",
      "userId": "05698012333486838551"
     },
     "user_tz": -120
    },
    "id": "nOe3TZZ1Li3Y"
   },
   "outputs": [],
   "source": [
    "# Add current path into Python path\n",
    "current_d = dirname(abspath(\"__file__\"))\n",
    "sys.path.insert(0, current_d)"
   ]
  },
  {
   "cell_type": "markdown",
   "metadata": {
    "id": "ZUgTiBaLLi3Z"
   },
   "source": [
    "---\n",
    "## 2. User-defined set-up\n",
    "---"
   ]
  },
  {
   "cell_type": "markdown",
   "metadata": {
    "id": "yvtpJfYWLi3Z"
   },
   "source": [
    "### 2.1 DATABASE"
   ]
  },
  {
   "cell_type": "markdown",
   "metadata": {
    "id": "4JUuYWDCLi3Z"
   },
   "source": [
    "#### 2.1.1 DroughtED\n",
    "\n",
    "The DroughtED classification database [Minixhofer, C] consists of globally available meteorological features paired with location meta-data. It can be downloaded by using [this link](https://www.kaggle.com/datasets/cdminix/us-drought-meteorological-data/download). \n",
    "\n",
    "- Data dimensionality:\n",
    "\n",
    "Each entry is a daily drought level at a specific point in time in a specific US county, accompanied by 18 meteorological indicators.\n",
    "\n",
    "- Drought levels:\n",
    "\n",
    "DroughtED is a classification dataset with six levels of drought, depicted in the following image:\n",
    "\n",
    "![](https://drive.google.com/uc?export=view&id=1DV-BjfcTV5e8iSSuQS93Hrt3mrRsakot)\n",
    "\n",
    "\n",
    "To work with the Outlier Detection algorithms, we binarize the categorization to obtain our anomalous and non-anomalous classes:\n",
    "\n",
    "![](https://drive.google.com/uc?export=view&id=1nGUn_VOttbepgMaG_t5Ccdhe32qP0jNr)\n",
    "\n",
    "- Meteorological indicators:\n",
    "\n",
    "The DroughtED database contains 18 meteorological indicators. \n",
    "\n",
    " ||||\n",
    " |---|---|---|\n",
    " |- Minimum Wind Speed at 10 Meters (m/s) | - Specific Humidity at 2 Meters (g/kg) | - Temperature Range at 2 Meters (C)|\n",
    " |- Wind Speed at 10 Meters (m/s)|- Temperature at 2 Meters (C)|- Minimum Wind Speed at 50 Meters (m/s)|\n",
    " |- Maximum Temperature at 2 Meters (C)|- Wind Speed at 50 Meters (m/s)|- Earth Skin Temperature (C)|\n",
    " |- Wind Speed Range at 50 Meters (m/s)|- Maximum Wind Speed at 50 Meters (m/s)|- Maximum Wind Speed at 10 Meters (m/s)|\n",
    " |- Wind Speed Range at 10 Meters (m/s)|- Surface Pressure (kPa)|- Dew/Frost Point at 2 Meters (C)|\n",
    " |- Minimum Temperature at 2 Meters (C)|- Wet Bulb Temperature at 2 Meters (C)|- Precipitation (mm day-1)|\n",
    "\n",
    "- Data subsets:\n",
    "\n",
    "This dataset contains data from 2000 up until 2020. For simplicity, in this tutorial we define the data subsets as follows: \n",
    "\n",
    "| Split |  Year Range (inclusive) |\n",
    "|---|---|\n",
    "| Train | 2018|\n",
    "| Validation  | 2019  |\n",
    "| Test  | 2020  |\n"
   ]
  },
  {
   "cell_type": "code",
   "execution_count": 7,
   "metadata": {
    "colab": {
     "base_uri": "https://localhost:8080/"
    },
    "executionInfo": {
     "elapsed": 6530,
     "status": "ok",
     "timestamp": 1665646639727,
     "user": {
      "displayName": "Maria Gonzalez",
      "userId": "05698012333486838551"
     },
     "user_tz": -120
    },
    "id": "VnhNqXTvLi3a",
    "outputId": "1ab18ac4-565e-4559-8cca-dd53fc217b91"
   },
   "outputs": [],
   "source": [
    "#files = {}\n",
    "\n",
    "#for dirname, _, filenames in os.walk('databases/DroughtED/'):\n",
    "#    for filename in filenames:\n",
    "#        if 'valid' in filename:\n",
    "#            files['valid'] = os.path.join(dirname, filename)\n",
    "#dfs = {\n",
    "#    k: pd.read_csv(files[k]).set_index(['fips', 'date'])\n",
    "#    for k in files.keys()\n",
    "#}\n",
    "#print(dfs['valid'])"
   ]
  },
  {
   "cell_type": "markdown",
   "metadata": {
    "id": "X97UGlcKLi3a"
   },
   "source": [
    "#### 2.1.2 The dataset file\n",
    "\n",
    "For the users to be able to work with their own dataset, they have to create a dataset file NAME_database.py (DroughtED_database.py in this example) which will define a class NAME (DroughtED in this example). This class DroughtED will read, split the data and perform any preprocessing needed.\n",
    "\n",
    "Unsupervised outlier detection algorithms available in the Python Outlier Detection (PyOD) library used as backend work with the whole set of data at the same time, so the function required in the DroughtED_database.py for this group of algorithms has to have the following structure:\n",
    "\n",
    "![](https://drive.google.com/uc?export=view&id=17nlpNcz5KkzAaJ10tEx9UHvbZ5BEdgK8)\n",
    "\n",
    "Without going into detail about the whole script, in the following image you can see a snippet of how it should be: \n",
    "\n",
    "![](https://drive.google.com/uc?export=view&id=19nsksFHqmwNpBoHrKll2BmkElkw6I9wR)\n",
    "\n",
    "The function returns x and labels, which have the following dimensionality:"
   ]
  },
  {
   "cell_type": "code",
   "execution_count": 8,
   "metadata": {
    "colab": {
     "base_uri": "https://localhost:8080/",
     "height": 165,
     "referenced_widgets": [
      "d4916ce5943a434cb8e73678cffbd875",
      "0b859d4f04e84b99af4c8241bab6a5da",
      "b9e3b462e56e4f0cb9f14a9eb833e0f9",
      "5b3d861745cd4c95b4a5dd94ef284d7f",
      "8fc7e9f5abde4502b99de830762ce36c",
      "e4f17135aec142c08ebff1d6e32ce653",
      "2e3ad0acc5e54edca68a8e84139f5440",
      "d49fd5ba6e404a4199af710e9d3ce818",
      "ac3855a6e57b4d60900f75c4a4e1fb05",
      "d0a4d5df9da64465a20c41882b74f8a3",
      "6b22b3dcda584c8599504d1a42df092d",
      "9d0732565dc048f484148609470f2f95",
      "e540cb562a664aca8705c25c58f200a1",
      "9d83107c0ba4412c81a84262ea14cce7",
      "549d75b943ed47f8b6ffef5cf132f552",
      "e4d5be89be9149b4896cfca4302323e8",
      "f2953a2839cc4fe5ae00284ba8b69ccc",
      "e27c417fd9c74f9d922d61739c0d2c4d",
      "dc65603760bd4ce0a2cdbe4fda482998",
      "4a8de3c5aa47419dba3731aea99eb9e6",
      "19a058088fe74b9395dc5216c7d35e03",
      "0eba56fcb4e444b2b214a9696fe4d93c",
      "baf62ff0baac4cdb92b2d425639dfe7e",
      "d252bba7ae5340878051de487603aeea",
      "1a7eedb9fb874f15b79e502d8068d69c",
      "831b143189eb40af96cfed0a17eb94ed",
      "9c6b37bdb02a4f199f2c2cc1259da25b",
      "ac6929467cd043198050cfec8775b5e3",
      "5d15c6b4090b475294bc81bd1cf92b32",
      "0ccc917be33d4b61b56d01d6963b1a33",
      "036de8d9a21a4f8e8d3a5fe39de13e59",
      "ae94c520b82f445486bf72a825674263",
      "8fe1adbf4b334f29b52f22b76ebcc3ec"
     ]
    },
    "executionInfo": {
     "elapsed": 78388,
     "status": "ok",
     "timestamp": 1665646803040,
     "user": {
      "displayName": "Maria Gonzalez",
      "userId": "05698012333486838551"
     },
     "user_tz": -120
    },
    "id": "oAbdawTKLi3b",
    "outputId": "da2406d1-3757-4f8d-a67c-3af9ce07c7e0",
    "scrolled": true
   },
   "outputs": [
    {
     "data": {
      "application/json": {
       "ascii": false,
       "bar_format": null,
       "colour": null,
       "elapsed": 0.003219127655029297,
       "initial": 0,
       "n": 0,
       "ncols": null,
       "nrows": 64,
       "postfix": null,
       "prefix": "",
       "rate": null,
       "total": 3108,
       "unit": "it",
       "unit_divisor": 1000,
       "unit_scale": false
      },
      "application/vnd.jupyter.widget-view+json": {
       "model_id": "9ce78d8f20904ba3ac55d4e09728d623",
       "version_major": 2,
       "version_minor": 0
      },
      "text/plain": [
       "  0%|          | 0/3108 [00:00<?, ?it/s]"
      ]
     },
     "metadata": {},
     "output_type": "display_data"
    },
    {
     "name": "stdout",
     "output_type": "stream",
     "text": [
      "loaded 1100232 samples\n"
     ]
    },
    {
     "data": {
      "application/json": {
       "ascii": false,
       "bar_format": null,
       "colour": null,
       "elapsed": 0.0027780532836914062,
       "initial": 0,
       "n": 0,
       "ncols": null,
       "nrows": 64,
       "postfix": null,
       "prefix": "",
       "rate": null,
       "total": 3108,
       "unit": "it",
       "unit_divisor": 1000,
       "unit_scale": false
      },
      "application/vnd.jupyter.widget-view+json": {
       "model_id": "43b2954e7a6247a6bef3a1920f3603b1",
       "version_major": 2,
       "version_minor": 0
      },
      "text/plain": [
       "  0%|          | 0/3108 [00:00<?, ?it/s]"
      ]
     },
     "metadata": {},
     "output_type": "display_data"
    },
    {
     "name": "stdout",
     "output_type": "stream",
     "text": [
      "loaded 1100232 samples\n"
     ]
    },
    {
     "data": {
      "application/json": {
       "ascii": false,
       "bar_format": null,
       "colour": null,
       "elapsed": 0.0025908946990966797,
       "initial": 0,
       "n": 0,
       "ncols": null,
       "nrows": 64,
       "postfix": null,
       "prefix": "",
       "rate": null,
       "total": 2,
       "unit": "it",
       "unit_divisor": 1000,
       "unit_scale": false
      },
      "application/vnd.jupyter.widget-view+json": {
       "model_id": "a28ba0493fe34e4abc322cd9ea291aa2",
       "version_major": 2,
       "version_minor": 0
      },
      "text/plain": [
       "  0%|          | 0/2 [00:00<?, ?it/s]"
      ]
     },
     "metadata": {},
     "output_type": "display_data"
    },
    {
     "name": "stdout",
     "output_type": "stream",
     "text": [
      "[86.4291349460841, 13.5708650539159]\n"
     ]
    }
   ],
   "source": [
    "# Load the validation split for demonstration purposes\n",
    "config = setup(current_d + \"/configs/config_DroughtED_OutlierDetection.yaml\")\n",
    "data_val = eval('DroughtED')(config, period = 'val').__getallitems__()"
   ]
  },
  {
   "cell_type": "code",
   "execution_count": 9,
   "metadata": {
    "colab": {
     "base_uri": "https://localhost:8080/"
    },
    "executionInfo": {
     "elapsed": 14,
     "status": "ok",
     "timestamp": 1665646803042,
     "user": {
      "displayName": "Maria Gonzalez",
      "userId": "05698012333486838551"
     },
     "user_tz": -120
    },
    "id": "zfG_EhnbLi3b",
    "outputId": "786a8cd0-8197-4b6e-eae3-82fda497a8e1"
   },
   "outputs": [
    {
     "name": "stdout",
     "output_type": "stream",
     "text": [
      "{'x': array([[ 0.02916026,  0.01976876, -0.09439664, ..., -0.39198976,\n",
      "        -0.35119544, -0.32302094],\n",
      "       [ 0.16247325,  0.09338765, -0.06869778, ..., -0.42874002,\n",
      "        -0.4254186 , -0.45198998]]), 'labels': array([0., 0., 0., ..., 0., 0., 0.])}\n"
     ]
    }
   ],
   "source": [
    "# Show the returned objects from __getallitems__\n",
    "print(data_val)"
   ]
  },
  {
   "cell_type": "code",
   "execution_count": 10,
   "metadata": {
    "colab": {
     "base_uri": "https://localhost:8080/"
    },
    "executionInfo": {
     "elapsed": 9,
     "status": "ok",
     "timestamp": 1665646803043,
     "user": {
      "displayName": "Maria Gonzalez",
      "userId": "05698012333486838551"
     },
     "user_tz": -120
    },
    "id": "xjftwoIjLi3b",
    "outputId": "1212353a-17bc-41a4-b52d-5ef7c4bae92e"
   },
   "outputs": [
    {
     "name": "stdout",
     "output_type": "stream",
     "text": [
      "(2, 1100232)\n"
     ]
    }
   ],
   "source": [
    "# Show one sample of data\n",
    "print(data_val['x'].shape)"
   ]
  },
  {
   "cell_type": "code",
   "execution_count": 11,
   "metadata": {
    "colab": {
     "base_uri": "https://localhost:8080/"
    },
    "executionInfo": {
     "elapsed": 68,
     "status": "ok",
     "timestamp": 1665645132286,
     "user": {
      "displayName": "Maria Gonzalez",
      "userId": "05698012333486838551"
     },
     "user_tz": -120
    },
    "id": "apZjr9SfLi3c",
    "outputId": "1e9da3b7-3642-4403-c69b-173b7419e589"
   },
   "outputs": [
    {
     "name": "stdout",
     "output_type": "stream",
     "text": [
      "(1100232,)\n"
     ]
    }
   ],
   "source": [
    "# Show one sample of the ground-truth\n",
    "print(data_val['labels'].shape)"
   ]
  },
  {
   "cell_type": "markdown",
   "metadata": {
    "id": "o2YF-6DzLi3c"
   },
   "source": [
    "### 2.2 CHOOSING A MODEL"
   ]
  },
  {
   "cell_type": "markdown",
   "metadata": {
    "id": "40SQlbu4Li3c"
   },
   "source": [
    "Unsupervised outlier detection algorithms are powered by the Python library PyOD [Zhao, Y.]. The user can choose up to 30 anomaly detection algorithms:"
   ]
  },
  {
   "cell_type": "markdown",
   "metadata": {
    "id": "6mG86930Li3c"
   },
   "source": [
    "![](https://drive.google.com/uc?export=view&id=19WOmH8LUcCgDD5qZpRS4btcK7RUc89UL)\n"
   ]
  },
  {
   "cell_type": "markdown",
   "metadata": {
    "id": "BcJoCAu4Li3c"
   },
   "source": [
    "In this tutorial we will apply K-Nearest-Neighbor (KNN) [Angiulli, F.]"
   ]
  },
  {
   "cell_type": "markdown",
   "metadata": {
    "id": "AnS7YgxRLi3c"
   },
   "source": [
    "### 2.3 CONFIG FILE"
   ]
  },
  {
   "cell_type": "markdown",
   "metadata": {
    "id": "aebBTclPLi3d"
   },
   "source": [
    "User-defined file to specify the characteristics of the dataset and the chosen model. The following image shows the minimum required parameters that this file should contain: \n",
    "\n",
    "![](https://drive.google.com/uc?export=view&id=1qU28YDj7IhMqTr9W2K2Ct3IzCBq32nRn)"
   ]
  },
  {
   "cell_type": "markdown",
   "metadata": {
    "id": "q_Mkw322Li3d"
   },
   "source": [
    "For this turtorial, the architecture definition will be as follows:\n",
    "\n",
    "![](https://drive.google.com/uc?export=view&id=1hcXBX_gsAupZfmQDfQUlNW6PSB-aEnBT)\n",
    "\n",
    "\n",
    "The needed parameters for the architecture can be found in the [PyOD API Documentation](https://pyod.readthedocs.io/en/latest/).\n",
    "\n",
    "For the data section, we define the required arguments (name, data_dim and num_classes) but we can also make use of this configuration file to specify other parameters that will be used in the DroughtED_database.py file:\n",
    "\n",
    "![](https://drive.google.com/uc?export=view&id=1DZZsPlxnU34anJyNykGU9FpdUmIIHPa_)\n",
    "\n"
   ]
  },
  {
   "cell_type": "markdown",
   "metadata": {
    "id": "0RtAvKbtLi3d"
   },
   "source": [
    "---\n",
    "## 3. Training \n",
    "---"
   ]
  },
  {
   "cell_type": "markdown",
   "metadata": {
    "id": "Sj-U7SnkLi3e"
   },
   "source": [
    "#### a) Load the configuration file and create folder results"
   ]
  },
  {
   "cell_type": "code",
   "execution_count": 12,
   "metadata": {
    "colab": {
     "base_uri": "https://localhost:8080/"
    },
    "executionInfo": {
     "elapsed": 309,
     "status": "ok",
     "timestamp": 1665647326921,
     "user": {
      "displayName": "Maria Gonzalez",
      "userId": "05698012333486838551"
     },
     "user_tz": -120
    },
    "id": "Wwei2isPLi3e",
    "outputId": "6ea304ab-e6fe-4c0b-9cff-5f30e0a2ced1"
   },
   "outputs": [
    {
     "data": {
      "text/plain": [
       "'jupyter_DroughtED_OutlierDetection_1693831552.784045'"
      ]
     },
     "execution_count": 12,
     "metadata": {},
     "output_type": "execute_result"
    }
   ],
   "source": [
    "YOUR_CONFIG_FILE_NAME = \"config_DroughtED_OutlierDetection\"\n",
    "EXPERIMENT_ID = \"jupyter_\" + YOUR_CONFIG_FILE_NAME.split(\"_\")[1] + \"_\"+ YOUR_CONFIG_FILE_NAME.split(\"_\")[2] + \"_\" + str(time.time())\n",
    "config_path = current_d + \"/configs/\" + YOUR_CONFIG_FILE_NAME + \".yaml\"\n",
    "config = setup(config_path)\n",
    "config['experiment_id'] = EXPERIMENT_ID\n",
    "\n",
    "#We manually set the experiment ID\n",
    "config['experiment_id']= EXPERIMENT_ID\n",
    "config['experiment_id']"
   ]
  },
  {
   "cell_type": "code",
   "execution_count": 13,
   "metadata": {},
   "outputs": [
    {
     "data": {
      "text/plain": [
       "{'name': 'AIDE',\n",
       " 'task': 'OutlierDetection',\n",
       " 'from_scratch': True,\n",
       " 'best_run_path': '',\n",
       " 'save_path': 'experiments/',\n",
       " 'data': {'name': 'DroughtED',\n",
       "  'data_dim': 1,\n",
       "  'num_classes': 2,\n",
       "  'class_bound': 1,\n",
       "  'root': './databases/DroughtED',\n",
       "  'data_file': 'data',\n",
       "  'input_size_train': 2,\n",
       "  'window_size': 1,\n",
       "  'features': ['PRECTOT',\n",
       "   'PS',\n",
       "   'QV2M',\n",
       "   'T2M',\n",
       "   'T2MDEW',\n",
       "   'T2MWET',\n",
       "   'T2M_MAX',\n",
       "   'T2M_MIN',\n",
       "   'T2M_RANGE',\n",
       "   'TS',\n",
       "   'WS10M',\n",
       "   'WS10M_MAX',\n",
       "   'WS10M_MIN',\n",
       "   'WS10M_RANGE',\n",
       "   'WS50M',\n",
       "   'WS50M_MAX',\n",
       "   'WS50M_MIN',\n",
       "   'WS50M_RANGE'],\n",
       "  'features_selected': [3, 5],\n",
       "  'train_slice': {'start': '2018-01-01', 'end': '2018-12-31'},\n",
       "  'val_slice': {'start': '2019-01-01', 'end': '2019-12-31'},\n",
       "  'test_slice': {'start': '2020-01-01', 'end': '2020-12-31'}},\n",
       " 'arch': {'user_defined': False,\n",
       "  'type': 'knn.KNN',\n",
       "  'args': {'contamination': 0.1,\n",
       "   'n_neighbors': 1,\n",
       "   'method': 'largest',\n",
       "   'radius': 1.0,\n",
       "   'algorithm': 'auto',\n",
       "   'leaf_size': 10,\n",
       "   'metric': 'minkowski',\n",
       "   'p': 2,\n",
       "   'metric_params': None,\n",
       "   'n_jobs': 1},\n",
       "  'input_model_dim': 1,\n",
       "  'output_model_dim': 1,\n",
       "  'step_samples_train': 5000,\n",
       "  'step_samples_evaluation': 2000},\n",
       " 'implementation': {'trainer': {'batch_size': 8},\n",
       "  'data_loader': {'num_workers': 16}},\n",
       " 'evaluation': {'visualization': {'activate': True}},\n",
       " 'experiment_id': 'jupyter_DroughtED_OutlierDetection_1693831552.784045'}"
      ]
     },
     "execution_count": 13,
     "metadata": {},
     "output_type": "execute_result"
    }
   ],
   "source": [
    "config"
   ]
  },
  {
   "cell_type": "markdown",
   "metadata": {
    "id": "dB93gYPyLi3e"
   },
   "source": [
    "#### b) Gather the data, splited in three sets: train, validation and test "
   ]
  },
  {
   "cell_type": "code",
   "execution_count": 14,
   "metadata": {
    "colab": {
     "base_uri": "https://localhost:8080/",
     "height": 313,
     "referenced_widgets": [
      "93e8b8bcd9d6429e8183564c9cd8c4a3",
      "2309182e98dc44f989c4cbc02b590aec",
      "e3b1dc5d0ca14d89b3a84f9b7d653065",
      "35f402d30cc04b1a805a3925d6f670ab",
      "5a3a1f772f1e4f2b8d995511c98a6db5",
      "5179f6b119df47bd935022bd2fcb210a",
      "8a780289708c4822b1782c1e4b706871",
      "43553fc7228443a6bd92282218fbb365",
      "3dcc5857369a492296c744c4b6154929",
      "93817a8ae2024d1eaa91c3ded2a0b205",
      "881cfffdf5d94467bbb0746ca6fe9b09",
      "bf8252aa7b734763952b18c4990559e1",
      "23c59f16e8af485db0806bcfe4644330",
      "2ed3d32bc3eb40bfbd3b50f9369e628e",
      "04cb3fa7230f4f8586b7581dbf768b6d",
      "3f7b079751bc4f1796f8f9fa66e5bff5",
      "7fb312b4a2b044dc8bbabe78cd962de5",
      "638f94476f674848b62a42980fb55d48",
      "867e8f984c7b488d88730cbec1d28f9d",
      "4d4179d02b1542c687e32a70dd3a834a",
      "80bc298c93134f6985af3e2786c0794a",
      "39847673a24d473ea36a9ad2161c731d",
      "e0c708c6e230465b9eb908d52ab7400c",
      "b626d948b239411b8c33b046a4d864fb",
      "c1d4eb6c92cb42e88ad0dd6e15c536b8",
      "2cfc75ef36ec42ab89083d568ed0baa9",
      "b5df7ef388c0457faa2d803e7a1898e1",
      "d1301ee8079241d1a248c8ccbdc7fd4d",
      "3a0d16c112a746a9812ab635f05c83b2",
      "cc6cd82fcc154787ae73ad9bf839c58f",
      "f928aa2af82347d7a01bf1ad1f2374a8",
      "d92b9f0048c94b94a1f29feb13a487c3",
      "ec002ad2d1974d15988964af40862e42",
      "bd04d164d8204120a5f9b1696611035d",
      "2fa1a17e948f468a90fa4bf49b362038",
      "d7cd5137fc5c4c129efcaba4cf65e2a8",
      "07146501955347d1838dfd949f658308",
      "8e7565aeebd649d79781edf297d7ebdc",
      "9c817149b565410c90fe244bff53d0eb",
      "03699fcce2e64c4d9d97b65549a8c4c3",
      "bac2f756390846b1bced0023a483339f",
      "a556e8c1e372491686476f417365432e",
      "c776f82c2cc84866b65a82516d024047",
      "bd6cd9a6499e4713a3a09ce715fd5862",
      "37ea5af55e70475a9dca7a7e71d4e1bb",
      "1111414ea0454b82ab262ee00a736ceb",
      "331dffbef99e487aba518967b1f03012",
      "640ce5d27b42464d8d1e51fcec1f215c",
      "2eb33482eec044d08dcabd7ef6f7af74",
      "6a1d03711f764910851a5a3557c4c656",
      "64cb9835ab3a40d59e66eae3ae0e995d",
      "43cbaa54571240a28335911f223e5503",
      "bdc4df4bb7614d5e8b7f283b856fa8ad",
      "510c9ecf5a494aa9a051bdd25037f0f9",
      "e79e7755255343c39175ba5de630cc50",
      "d81df3a3c2df4ab1886694bd085bf4ac",
      "ce700e96745f4e0a9d529567adbfb536",
      "d6b9bea11ddb4b7fa6fd40c831a9104d",
      "cfd5d2e1d0c44b468c3df1785542f035",
      "e62608ae8e1f40ba9bc0f7e5440f3e3d",
      "5b34b3d2bd814fe698f53e8d6b8a8116",
      "b18b64e629e74f84a48391dc02e45cc4",
      "9e0cb7b3aa21417eb2138f841e75ecf9",
      "07843e4827a34777b31e326afde64761",
      "521f22170b26406891a48137a04c1b6d",
      "11acf9b4e63d455983a496a161d57b1c"
     ]
    },
    "executionInfo": {
     "elapsed": 163471,
     "status": "ok",
     "timestamp": 1665647509366,
     "user": {
      "displayName": "Maria Gonzalez",
      "userId": "05698012333486838551"
     },
     "user_tz": -120
    },
    "id": "xjyhPKmTLi3f",
    "outputId": "d638fa26-1265-4404-c62d-b32837c2497c"
   },
   "outputs": [
    {
     "name": "stdout",
     "output_type": "stream",
     "text": [
      "Logging experiment data at: experiments/jupyter_DroughtED_OutlierDetection_1693831552.784045\n"
     ]
    },
    {
     "data": {
      "application/json": {
       "ascii": false,
       "bar_format": null,
       "colour": null,
       "elapsed": 0.005000114440917969,
       "initial": 0,
       "n": 0,
       "ncols": null,
       "nrows": 64,
       "postfix": null,
       "prefix": "",
       "rate": null,
       "total": 3108,
       "unit": "it",
       "unit_divisor": 1000,
       "unit_scale": false
      },
      "application/vnd.jupyter.widget-view+json": {
       "model_id": "3198483093b74060b93811354ebfaebc",
       "version_major": 2,
       "version_minor": 0
      },
      "text/plain": [
       "  0%|          | 0/3108 [00:00<?, ?it/s]"
      ]
     },
     "metadata": {},
     "output_type": "display_data"
    },
    {
     "name": "stdout",
     "output_type": "stream",
     "text": [
      "loaded 1100232 samples\n"
     ]
    },
    {
     "data": {
      "application/json": {
       "ascii": false,
       "bar_format": null,
       "colour": null,
       "elapsed": 0.003186941146850586,
       "initial": 0,
       "n": 0,
       "ncols": null,
       "nrows": 64,
       "postfix": null,
       "prefix": "",
       "rate": null,
       "total": 3108,
       "unit": "it",
       "unit_divisor": 1000,
       "unit_scale": false
      },
      "application/vnd.jupyter.widget-view+json": {
       "model_id": "45bf7b390372423e8bdcc47201e4f7ed",
       "version_major": 2,
       "version_minor": 0
      },
      "text/plain": [
       "  0%|          | 0/3108 [00:00<?, ?it/s]"
      ]
     },
     "metadata": {},
     "output_type": "display_data"
    },
    {
     "name": "stdout",
     "output_type": "stream",
     "text": [
      "loaded 1100232 samples\n"
     ]
    },
    {
     "data": {
      "application/json": {
       "ascii": false,
       "bar_format": null,
       "colour": null,
       "elapsed": 0.0031769275665283203,
       "initial": 0,
       "n": 0,
       "ncols": null,
       "nrows": 64,
       "postfix": null,
       "prefix": "",
       "rate": null,
       "total": 2,
       "unit": "it",
       "unit_divisor": 1000,
       "unit_scale": false
      },
      "application/vnd.jupyter.widget-view+json": {
       "model_id": "6a6a4072175744f7b8a168f99190ef5c",
       "version_major": 2,
       "version_minor": 0
      },
      "text/plain": [
       "  0%|          | 0/2 [00:00<?, ?it/s]"
      ]
     },
     "metadata": {},
     "output_type": "display_data"
    },
    {
     "name": "stdout",
     "output_type": "stream",
     "text": [
      "[73.46059740127536, 26.53940259872463]\n"
     ]
    },
    {
     "data": {
      "application/json": {
       "ascii": false,
       "bar_format": null,
       "colour": null,
       "elapsed": 0.005239963531494141,
       "initial": 0,
       "n": 0,
       "ncols": null,
       "nrows": 64,
       "postfix": null,
       "prefix": "",
       "rate": null,
       "total": 3108,
       "unit": "it",
       "unit_divisor": 1000,
       "unit_scale": false
      },
      "application/vnd.jupyter.widget-view+json": {
       "model_id": "c39e0d84ba63424d94d0f999c8d5ffab",
       "version_major": 2,
       "version_minor": 0
      },
      "text/plain": [
       "  0%|          | 0/3108 [00:00<?, ?it/s]"
      ]
     },
     "metadata": {},
     "output_type": "display_data"
    },
    {
     "name": "stdout",
     "output_type": "stream",
     "text": [
      "loaded 1100232 samples\n"
     ]
    },
    {
     "data": {
      "application/json": {
       "ascii": false,
       "bar_format": null,
       "colour": null,
       "elapsed": 0.0029189586639404297,
       "initial": 0,
       "n": 0,
       "ncols": null,
       "nrows": 64,
       "postfix": null,
       "prefix": "",
       "rate": null,
       "total": 3108,
       "unit": "it",
       "unit_divisor": 1000,
       "unit_scale": false
      },
      "application/vnd.jupyter.widget-view+json": {
       "model_id": "f69b4b9381184b2abeed165add4ede91",
       "version_major": 2,
       "version_minor": 0
      },
      "text/plain": [
       "  0%|          | 0/3108 [00:00<?, ?it/s]"
      ]
     },
     "metadata": {},
     "output_type": "display_data"
    },
    {
     "name": "stdout",
     "output_type": "stream",
     "text": [
      "loaded 1100232 samples\n"
     ]
    },
    {
     "data": {
      "application/json": {
       "ascii": false,
       "bar_format": null,
       "colour": null,
       "elapsed": 0.0027189254760742188,
       "initial": 0,
       "n": 0,
       "ncols": null,
       "nrows": 64,
       "postfix": null,
       "prefix": "",
       "rate": null,
       "total": 2,
       "unit": "it",
       "unit_divisor": 1000,
       "unit_scale": false
      },
      "application/vnd.jupyter.widget-view+json": {
       "model_id": "d0a631bee71544e5938e1761325b448f",
       "version_major": 2,
       "version_minor": 0
      },
      "text/plain": [
       "  0%|          | 0/2 [00:00<?, ?it/s]"
      ]
     },
     "metadata": {},
     "output_type": "display_data"
    },
    {
     "name": "stdout",
     "output_type": "stream",
     "text": [
      "[86.4291349460841, 13.5708650539159]\n"
     ]
    },
    {
     "data": {
      "application/json": {
       "ascii": false,
       "bar_format": null,
       "colour": null,
       "elapsed": 0.004775047302246094,
       "initial": 0,
       "n": 0,
       "ncols": null,
       "nrows": 64,
       "postfix": null,
       "prefix": "",
       "rate": null,
       "total": 3108,
       "unit": "it",
       "unit_divisor": 1000,
       "unit_scale": false
      },
      "application/vnd.jupyter.widget-view+json": {
       "model_id": "ece26c68341849ce9511c5df0dad01fa",
       "version_major": 2,
       "version_minor": 0
      },
      "text/plain": [
       "  0%|          | 0/3108 [00:00<?, ?it/s]"
      ]
     },
     "metadata": {},
     "output_type": "display_data"
    },
    {
     "name": "stdout",
     "output_type": "stream",
     "text": [
      "loaded 1103340 samples\n"
     ]
    },
    {
     "data": {
      "application/json": {
       "ascii": false,
       "bar_format": null,
       "colour": null,
       "elapsed": 0.0029668807983398438,
       "initial": 0,
       "n": 0,
       "ncols": null,
       "nrows": 64,
       "postfix": null,
       "prefix": "",
       "rate": null,
       "total": 3108,
       "unit": "it",
       "unit_divisor": 1000,
       "unit_scale": false
      },
      "application/vnd.jupyter.widget-view+json": {
       "model_id": "c591d4ee83c24642a5016cb692f23110",
       "version_major": 2,
       "version_minor": 0
      },
      "text/plain": [
       "  0%|          | 0/3108 [00:00<?, ?it/s]"
      ]
     },
     "metadata": {},
     "output_type": "display_data"
    },
    {
     "name": "stdout",
     "output_type": "stream",
     "text": [
      "loaded 1103340 samples\n"
     ]
    },
    {
     "data": {
      "application/json": {
       "ascii": false,
       "bar_format": null,
       "colour": null,
       "elapsed": 0.003284931182861328,
       "initial": 0,
       "n": 0,
       "ncols": null,
       "nrows": 64,
       "postfix": null,
       "prefix": "",
       "rate": null,
       "total": 2,
       "unit": "it",
       "unit_divisor": 1000,
       "unit_scale": false
      },
      "application/vnd.jupyter.widget-view+json": {
       "model_id": "ea24dab3aff94e5e83ff2b69bb3395d9",
       "version_major": 2,
       "version_minor": 0
      },
      "text/plain": [
       "  0%|          | 0/2 [00:00<?, ?it/s]"
      ]
     },
     "metadata": {},
     "output_type": "display_data"
    },
    {
     "name": "stdout",
     "output_type": "stream",
     "text": [
      "[76.66920441568328, 23.33079558431671]\n"
     ]
    }
   ],
   "source": [
    "#Create experimental folder structure if it was not already created\n",
    "if not Path(config['save_path']).name == config['experiment_id'].replace('/', ''):\n",
    "    save_path= Path(config['save_path']) / Path(config['experiment_id'])\n",
    "    config['save_path']= str(save_path.resolve())\n",
    "    save_path.mkdir(exist_ok=True, parents=True) \n",
    "else:\n",
    "    save_path= Path(config['save_path'])\n",
    "print(f'Logging experiment data at: {save_path}')\n",
    "\n",
    "# Datasets\n",
    "classifier = PyodBackbone(config)\n",
    "classifier.load_data()"
   ]
  },
  {
   "cell_type": "markdown",
   "metadata": {
    "id": "ho9wwkR1Li3f"
   },
   "source": [
    "#### c) Create the model with the parameters specified in the configuration file\n",
    "\n",
    "TemplateModel1D is the python object that will be created. It does not require any modification from the user. "
   ]
  },
  {
   "cell_type": "code",
   "execution_count": 15,
   "metadata": {
    "executionInfo": {
     "elapsed": 4,
     "status": "ok",
     "timestamp": 1665647509366,
     "user": {
      "displayName": "Maria Gonzalez",
      "userId": "05698012333486838551"
     },
     "user_tz": -120
    },
    "id": "FXX2QJEiLi3f"
   },
   "outputs": [
    {
     "data": {
      "text/plain": [
       "<backbones.models.pyodModel.PyodModel at 0x7f7f7abdc850>"
      ]
     },
     "execution_count": 15,
     "metadata": {},
     "output_type": "execute_result"
    }
   ],
   "source": [
    "# Model\n",
    "classifier.implement_model()\n",
    "classifier.model"
   ]
  },
  {
   "cell_type": "markdown",
   "metadata": {
    "id": "PaUt5Of9Li3f"
   },
   "source": [
    "#### d) Training stage"
   ]
  },
  {
   "cell_type": "code",
   "execution_count": 16,
   "metadata": {
    "colab": {
     "base_uri": "https://localhost:8080/"
    },
    "executionInfo": {
     "elapsed": 12,
     "status": "ok",
     "timestamp": 1665645282329,
     "user": {
      "displayName": "Maria Gonzalez",
      "userId": "05698012333486838551"
     },
     "user_tz": -120
    },
    "id": "xl-4D25RLi3g",
    "outputId": "3104895e-dd2f-4e27-a26c-c7def9200e74"
   },
   "outputs": [
    {
     "name": "stdout",
     "output_type": "stream",
     "text": [
      "KNN_train ROC:0.5, accuracy:0.7421,  precision:0.0, recall:0.0, AUC-PR:0.2579\n",
      "KNN_val ROC:0.5035, accuracy:0.8312,  precision:0.1818, recall:0.0506, AUC-PR:0.1453\n"
     ]
    }
   ],
   "source": [
    "model= classifier.train()"
   ]
  },
  {
   "cell_type": "markdown",
   "metadata": {
    "id": "qEKHazQsLi3g"
   },
   "source": [
    "#### e) Test stage, evaluation and visualization of results"
   ]
  },
  {
   "cell_type": "code",
   "execution_count": 17,
   "metadata": {
    "colab": {
     "base_uri": "https://localhost:8080/"
    },
    "executionInfo": {
     "elapsed": 8,
     "status": "ok",
     "timestamp": 1665645282329,
     "user": {
      "displayName": "Maria Gonzalez",
      "userId": "05698012333486838551"
     },
     "user_tz": -120
    },
    "id": "MaU0BO-aLi3g",
    "outputId": "529d0300-a777-4276-9f4e-63f0aaf3a721"
   },
   "outputs": [
    {
     "name": "stdout",
     "output_type": "stream",
     "text": [
      "KNN_test ROC:0.6322, accuracy:0.7844,  precision:0.6522, recall:0.119, AUC-PR:0.2787\n"
     ]
    }
   ],
   "source": [
    "classifier.test()"
   ]
  },
  {
   "cell_type": "code",
   "execution_count": 18,
   "metadata": {
    "colab": {
     "base_uri": "https://localhost:8080/",
     "height": 354
    },
    "executionInfo": {
     "elapsed": 7558,
     "status": "ok",
     "timestamp": 1665645289882,
     "user": {
      "displayName": "Maria Gonzalez",
      "userId": "05698012333486838551"
     },
     "user_tz": -120
    },
    "id": "LvulgYHJLi3h",
    "outputId": "febfed10-39f0-4420-9f3e-68823e71ec64"
   },
   "outputs": [
    {
     "name": "stdout",
     "output_type": "stream",
     "text": [
      "Model 1 knn.KNN\n"
     ]
    },
    {
     "data": {
      "image/png": "[encoded data removed]",
      "text/plain": [
       "<Figure size 1920x1440 with 4 Axes>"
      ]
     },
     "metadata": {},
     "output_type": "display_data"
    }
   ],
   "source": [
    "output_data= classifier.inference()"
   ]
  },
  {
   "cell_type": "markdown",
   "metadata": {
    "id": "LNw2ZjX-Li3h"
   },
   "source": [
    "## Wrap-up: \n"
   ]
  },
  {
   "cell_type": "markdown",
   "metadata": {
    "id": "PBo5uQLFLi3h"
   },
   "source": [
    "In this tutorial we have seen: \n",
    "\n",
    "- How to use your dataset with the toolbox\n",
    "- How to choose your algorithm\n",
    "- Required files to prepare before working with the toolbox\n",
    "- How the algorithm is trained\n",
    "- How the algorithm is evaluated\n",
    "\n"
   ]
  },
  {
   "cell_type": "markdown",
   "metadata": {
    "id": "eYJH4B0QLi3h"
   },
   "source": [
    "Reminder: To run your code you only need your database.py and the config.yaml files. After setting up them, you only need to execute the toolbox using the following instruction:\n",
    "\n",
    "    python main.py --config=./configs/config.yaml"
   ]
  },
  {
   "cell_type": "markdown",
   "metadata": {
    "id": "PaP4M192Li3i"
   },
   "source": [
    "## References"
   ]
  },
  {
   "cell_type": "markdown",
   "metadata": {
    "id": "qz6LdrFtLi3i"
   },
   "source": [
    "Angiulli, F., and Pizzuti, C., 2002. Fast outlier detection in high dimensional\n",
    "spaces. European Conference on Principles of Data Mining and Knowl-\n",
    "edge Discovery, pp. 15–27, Springer.\n",
    "\n",
    "Minixhofer, C., Swan, M., McMeekin, C., & Andreadis, P. (2021, July). DroughtED: A dataset\n",
    "            and methodology for drought forecasting spanning multiple climate zones. In\n",
    "            Tackling Climate Change with Machine Learning: Workshop at ICML 2021\n",
    "\n",
    "Zhao, Y., Nasrullah, Z. and Li, Z., 2019. PyOD: A Python Toolbox for Scalable Outlier\n",
    "            Detection. Journal of machine learning research (JMLR), 20(96), pp.1-7."
   ]
  },
  {
   "cell_type": "code",
   "execution_count": null,
   "metadata": {},
   "outputs": [],
   "source": []
  },
  {
   "cell_type": "code",
   "execution_count": null,
   "metadata": {},
   "outputs": [],
   "source": []
  }
 ],
 "metadata": {
  "colab": {
   "provenance": []
  },
  "kernelspec": {
   "display_name": "Python 3 (ipykernel)",
   "language": "python",
   "name": "python3"
  },
  "language_info": {
   "codemirror_mode": {
    "name": "ipython",
    "version": 3
   },
   "file_extension": ".py",
   "mimetype": "text/x-python",
   "name": "python",
   "nbconvert_exporter": "python",
   "pygments_lexer": "ipython3",
   "version": "3.12.3"
  },
  "vscode": {
   "interpreter": {
    "hash": "a014fd652ccb4550ee36b7235b26ea5e08eca43cf4ae05c326111d62280bd990"
   }
  },
  "widgets": {
   "application/vnd.jupyter.widget-state+json": {
    "03699fcce2e64c4d9d97b65549a8c4c3": {
     "model_module": "@jupyter-widgets/controls",
     "model_module_version": "1.5.0",
     "model_name": "DescriptionStyleModel",
     "state": {
      "_model_module": "@jupyter-widgets/controls",
      "_model_module_version": "1.5.0",
      "_model_name": "DescriptionStyleModel",
      "_view_count": null,
      "_view_module": "@jupyter-widgets/base",
      "_view_module_version": "1.2.0",
      "_view_name": "StyleView",
      "description_width": ""
     }
    },
    "036de8d9a21a4f8e8d3a5fe39de13e59": {
     "model_module": "@jupyter-widgets/controls",
     "model_module_version": "1.5.0",
     "model_name": "ProgressStyleModel",
     "state": {
      "_model_module": "@jupyter-widgets/controls",
      "_model_module_version": "1.5.0",
      "_model_name": "ProgressStyleModel",
      "_view_count": null,
      "_view_module": "@jupyter-widgets/base",
      "_view_module_version": "1.2.0",
      "_view_name": "StyleView",
      "bar_color": null,
      "description_width": ""
     }
    },
    "04cb3fa7230f4f8586b7581dbf768b6d": {
     "model_module": "@jupyter-widgets/controls",
     "model_module_version": "1.5.0",
     "model_name": "HTMLModel",
     "state": {
      "_dom_classes": [],
      "_model_module": "@jupyter-widgets/controls",
      "_model_module_version": "1.5.0",
      "_model_name": "HTMLModel",
      "_view_count": null,
      "_view_module": "@jupyter-widgets/controls",
      "_view_module_version": "1.5.0",
      "_view_name": "HTMLView",
      "description": "",
      "description_tooltip": null,
      "layout": "IPY_MODEL_80bc298c93134f6985af3e2786c0794a",
      "placeholder": "​",
      "style": "IPY_MODEL_39847673a24d473ea36a9ad2161c731d",
      "value": " 3108/3108 [00:36&lt;00:00, 84.60it/s]"
     }
    },
    "07146501955347d1838dfd949f658308": {
     "model_module": "@jupyter-widgets/controls",
     "model_module_version": "1.5.0",
     "model_name": "HTMLModel",
     "state": {
      "_dom_classes": [],
      "_model_module": "@jupyter-widgets/controls",
      "_model_module_version": "1.5.0",
      "_model_name": "HTMLModel",
      "_view_count": null,
      "_view_module": "@jupyter-widgets/controls",
      "_view_module_version": "1.5.0",
      "_view_name": "HTMLView",
      "description": "",
      "description_tooltip": null,
      "layout": "IPY_MODEL_c776f82c2cc84866b65a82516d024047",
      "placeholder": "​",
      "style": "IPY_MODEL_bd6cd9a6499e4713a3a09ce715fd5862",
      "value": " 3108/3108 [00:37&lt;00:00, 85.15it/s]"
     }
    },
    "07843e4827a34777b31e326afde64761": {
     "model_module": "@jupyter-widgets/controls",
     "model_module_version": "1.5.0",
     "model_name": "ProgressStyleModel",
     "state": {
      "_model_module": "@jupyter-widgets/controls",
      "_model_module_version": "1.5.0",
      "_model_name": "ProgressStyleModel",
      "_view_count": null,
      "_view_module": "@jupyter-widgets/base",
      "_view_module_version": "1.2.0",
      "_view_name": "StyleView",
      "bar_color": null,
      "description_width": ""
     }
    },
    "0b859d4f04e84b99af4c8241bab6a5da": {
     "model_module": "@jupyter-widgets/controls",
     "model_module_version": "1.5.0",
     "model_name": "HTMLModel",
     "state": {
      "_dom_classes": [],
      "_model_module": "@jupyter-widgets/controls",
      "_model_module_version": "1.5.0",
      "_model_name": "HTMLModel",
      "_view_count": null,
      "_view_module": "@jupyter-widgets/controls",
      "_view_module_version": "1.5.0",
      "_view_name": "HTMLView",
      "description": "",
      "description_tooltip": null,
      "layout": "IPY_MODEL_e4f17135aec142c08ebff1d6e32ce653",
      "placeholder": "​",
      "style": "IPY_MODEL_2e3ad0acc5e54edca68a8e84139f5440",
      "value": "100%"
     }
    },
    "0ccc917be33d4b61b56d01d6963b1a33": {
     "model_module": "@jupyter-widgets/base",
     "model_module_version": "1.2.0",
     "model_name": "LayoutModel",
     "state": {
      "_model_module": "@jupyter-widgets/base",
      "_model_module_version": "1.2.0",
      "_model_name": "LayoutModel",
      "_view_count": null,
      "_view_module": "@jupyter-widgets/base",
      "_view_module_version": "1.2.0",
      "_view_name": "LayoutView",
      "align_content": null,
      "align_items": null,
      "align_self": null,
      "border": null,
      "bottom": null,
      "display": null,
      "flex": null,
      "flex_flow": null,
      "grid_area": null,
      "grid_auto_columns": null,
      "grid_auto_flow": null,
      "grid_auto_rows": null,
      "grid_column": null,
      "grid_gap": null,
      "grid_row": null,
      "grid_template_areas": null,
      "grid_template_columns": null,
      "grid_template_rows": null,
      "height": null,
      "justify_content": null,
      "justify_items": null,
      "left": null,
      "margin": null,
      "max_height": null,
      "max_width": null,
      "min_height": null,
      "min_width": null,
      "object_fit": null,
      "object_position": null,
      "order": null,
      "overflow": null,
      "overflow_x": null,
      "overflow_y": null,
      "padding": null,
      "right": null,
      "top": null,
      "visibility": null,
      "width": null
     }
    },
    "0eba56fcb4e444b2b214a9696fe4d93c": {
     "model_module": "@jupyter-widgets/controls",
     "model_module_version": "1.5.0",
     "model_name": "DescriptionStyleModel",
     "state": {
      "_model_module": "@jupyter-widgets/controls",
      "_model_module_version": "1.5.0",
      "_model_name": "DescriptionStyleModel",
      "_view_count": null,
      "_view_module": "@jupyter-widgets/base",
      "_view_module_version": "1.2.0",
      "_view_name": "StyleView",
      "description_width": ""
     }
    },
    "1111414ea0454b82ab262ee00a736ceb": {
     "model_module": "@jupyter-widgets/controls",
     "model_module_version": "1.5.0",
     "model_name": "HTMLModel",
     "state": {
      "_dom_classes": [],
      "_model_module": "@jupyter-widgets/controls",
      "_model_module_version": "1.5.0",
      "_model_name": "HTMLModel",
      "_view_count": null,
      "_view_module": "@jupyter-widgets/controls",
      "_view_module_version": "1.5.0",
      "_view_name": "HTMLView",
      "description": "",
      "description_tooltip": null,
      "layout": "IPY_MODEL_6a1d03711f764910851a5a3557c4c656",
      "placeholder": "​",
      "style": "IPY_MODEL_64cb9835ab3a40d59e66eae3ae0e995d",
      "value": "100%"
     }
    },
    "11acf9b4e63d455983a496a161d57b1c": {
     "model_module": "@jupyter-widgets/controls",
     "model_module_version": "1.5.0",
     "model_name": "DescriptionStyleModel",
     "state": {
      "_model_module": "@jupyter-widgets/controls",
      "_model_module_version": "1.5.0",
      "_model_name": "DescriptionStyleModel",
      "_view_count": null,
      "_view_module": "@jupyter-widgets/base",
      "_view_module_version": "1.2.0",
      "_view_name": "StyleView",
      "description_width": ""
     }
    },
    "19a058088fe74b9395dc5216c7d35e03": {
     "model_module": "@jupyter-widgets/base",
     "model_module_version": "1.2.0",
     "model_name": "LayoutModel",
     "state": {
      "_model_module": "@jupyter-widgets/base",
      "_model_module_version": "1.2.0",
      "_model_name": "LayoutModel",
      "_view_count": null,
      "_view_module": "@jupyter-widgets/base",
      "_view_module_version": "1.2.0",
      "_view_name": "LayoutView",
      "align_content": null,
      "align_items": null,
      "align_self": null,
      "border": null,
      "bottom": null,
      "display": null,
      "flex": null,
      "flex_flow": null,
      "grid_area": null,
      "grid_auto_columns": null,
      "grid_auto_flow": null,
      "grid_auto_rows": null,
      "grid_column": null,
      "grid_gap": null,
      "grid_row": null,
      "grid_template_areas": null,
      "grid_template_columns": null,
      "grid_template_rows": null,
      "height": null,
      "justify_content": null,
      "justify_items": null,
      "left": null,
      "margin": null,
      "max_height": null,
      "max_width": null,
      "min_height": null,
      "min_width": null,
      "object_fit": null,
      "object_position": null,
      "order": null,
      "overflow": null,
      "overflow_x": null,
      "overflow_y": null,
      "padding": null,
      "right": null,
      "top": null,
      "visibility": null,
      "width": null
     }
    },
    "1a7eedb9fb874f15b79e502d8068d69c": {
     "model_module": "@jupyter-widgets/controls",
     "model_module_version": "1.5.0",
     "model_name": "FloatProgressModel",
     "state": {
      "_dom_classes": [],
      "_model_module": "@jupyter-widgets/controls",
      "_model_module_version": "1.5.0",
      "_model_name": "FloatProgressModel",
      "_view_count": null,
      "_view_module": "@jupyter-widgets/controls",
      "_view_module_version": "1.5.0",
      "_view_name": "ProgressView",
      "bar_style": "success",
      "description": "",
      "description_tooltip": null,
      "layout": "IPY_MODEL_0ccc917be33d4b61b56d01d6963b1a33",
      "max": 2,
      "min": 0,
      "orientation": "horizontal",
      "style": "IPY_MODEL_036de8d9a21a4f8e8d3a5fe39de13e59",
      "value": 2
     }
    },
    "2309182e98dc44f989c4cbc02b590aec": {
     "model_module": "@jupyter-widgets/controls",
     "model_module_version": "1.5.0",
     "model_name": "HTMLModel",
     "state": {
      "_dom_classes": [],
      "_model_module": "@jupyter-widgets/controls",
      "_model_module_version": "1.5.0",
      "_model_name": "HTMLModel",
      "_view_count": null,
      "_view_module": "@jupyter-widgets/controls",
      "_view_module_version": "1.5.0",
      "_view_name": "HTMLView",
      "description": "",
      "description_tooltip": null,
      "layout": "IPY_MODEL_5179f6b119df47bd935022bd2fcb210a",
      "placeholder": "​",
      "style": "IPY_MODEL_8a780289708c4822b1782c1e4b706871",
      "value": "100%"
     }
    },
    "23c59f16e8af485db0806bcfe4644330": {
     "model_module": "@jupyter-widgets/controls",
     "model_module_version": "1.5.0",
     "model_name": "HTMLModel",
     "state": {
      "_dom_classes": [],
      "_model_module": "@jupyter-widgets/controls",
      "_model_module_version": "1.5.0",
      "_model_name": "HTMLModel",
      "_view_count": null,
      "_view_module": "@jupyter-widgets/controls",
      "_view_module_version": "1.5.0",
      "_view_name": "HTMLView",
      "description": "",
      "description_tooltip": null,
      "layout": "IPY_MODEL_7fb312b4a2b044dc8bbabe78cd962de5",
      "placeholder": "​",
      "style": "IPY_MODEL_638f94476f674848b62a42980fb55d48",
      "value": "100%"
     }
    },
    "2cfc75ef36ec42ab89083d568ed0baa9": {
     "model_module": "@jupyter-widgets/controls",
     "model_module_version": "1.5.0",
     "model_name": "HTMLModel",
     "state": {
      "_dom_classes": [],
      "_model_module": "@jupyter-widgets/controls",
      "_model_module_version": "1.5.0",
      "_model_name": "HTMLModel",
      "_view_count": null,
      "_view_module": "@jupyter-widgets/controls",
      "_view_module_version": "1.5.0",
      "_view_name": "HTMLView",
      "description": "",
      "description_tooltip": null,
      "layout": "IPY_MODEL_d92b9f0048c94b94a1f29feb13a487c3",
      "placeholder": "​",
      "style": "IPY_MODEL_ec002ad2d1974d15988964af40862e42",
      "value": " 2/2 [00:00&lt;00:00, 14.64it/s]"
     }
    },
    "2e3ad0acc5e54edca68a8e84139f5440": {
     "model_module": "@jupyter-widgets/controls",
     "model_module_version": "1.5.0",
     "model_name": "DescriptionStyleModel",
     "state": {
      "_model_module": "@jupyter-widgets/controls",
      "_model_module_version": "1.5.0",
      "_model_name": "DescriptionStyleModel",
      "_view_count": null,
      "_view_module": "@jupyter-widgets/base",
      "_view_module_version": "1.2.0",
      "_view_name": "StyleView",
      "description_width": ""
     }
    },
    "2eb33482eec044d08dcabd7ef6f7af74": {
     "model_module": "@jupyter-widgets/base",
     "model_module_version": "1.2.0",
     "model_name": "LayoutModel",
     "state": {
      "_model_module": "@jupyter-widgets/base",
      "_model_module_version": "1.2.0",
      "_model_name": "LayoutModel",
      "_view_count": null,
      "_view_module": "@jupyter-widgets/base",
      "_view_module_version": "1.2.0",
      "_view_name": "LayoutView",
      "align_content": null,
      "align_items": null,
      "align_self": null,
      "border": null,
      "bottom": null,
      "display": null,
      "flex": null,
      "flex_flow": null,
      "grid_area": null,
      "grid_auto_columns": null,
      "grid_auto_flow": null,
      "grid_auto_rows": null,
      "grid_column": null,
      "grid_gap": null,
      "grid_row": null,
      "grid_template_areas": null,
      "grid_template_columns": null,
      "grid_template_rows": null,
      "height": null,
      "justify_content": null,
      "justify_items": null,
      "left": null,
      "margin": null,
      "max_height": null,
      "max_width": null,
      "min_height": null,
      "min_width": null,
      "object_fit": null,
      "object_position": null,
      "order": null,
      "overflow": null,
      "overflow_x": null,
      "overflow_y": null,
      "padding": null,
      "right": null,
      "top": null,
      "visibility": null,
      "width": null
     }
    },
    "2ed3d32bc3eb40bfbd3b50f9369e628e": {
     "model_module": "@jupyter-widgets/controls",
     "model_module_version": "1.5.0",
     "model_name": "FloatProgressModel",
     "state": {
      "_dom_classes": [],
      "_model_module": "@jupyter-widgets/controls",
      "_model_module_version": "1.5.0",
      "_model_name": "FloatProgressModel",
      "_view_count": null,
      "_view_module": "@jupyter-widgets/controls",
      "_view_module_version": "1.5.0",
      "_view_name": "ProgressView",
      "bar_style": "success",
      "description": "",
      "description_tooltip": null,
      "layout": "IPY_MODEL_867e8f984c7b488d88730cbec1d28f9d",
      "max": 3108,
      "min": 0,
      "orientation": "horizontal",
      "style": "IPY_MODEL_4d4179d02b1542c687e32a70dd3a834a",
      "value": 3108
     }
    },
    "2fa1a17e948f468a90fa4bf49b362038": {
     "model_module": "@jupyter-widgets/controls",
     "model_module_version": "1.5.0",
     "model_name": "HTMLModel",
     "state": {
      "_dom_classes": [],
      "_model_module": "@jupyter-widgets/controls",
      "_model_module_version": "1.5.0",
      "_model_name": "HTMLModel",
      "_view_count": null,
      "_view_module": "@jupyter-widgets/controls",
      "_view_module_version": "1.5.0",
      "_view_name": "HTMLView",
      "description": "",
      "description_tooltip": null,
      "layout": "IPY_MODEL_9c817149b565410c90fe244bff53d0eb",
      "placeholder": "​",
      "style": "IPY_MODEL_03699fcce2e64c4d9d97b65549a8c4c3",
      "value": "100%"
     }
    },
    "331dffbef99e487aba518967b1f03012": {
     "model_module": "@jupyter-widgets/controls",
     "model_module_version": "1.5.0",
     "model_name": "FloatProgressModel",
     "state": {
      "_dom_classes": [],
      "_model_module": "@jupyter-widgets/controls",
      "_model_module_version": "1.5.0",
      "_model_name": "FloatProgressModel",
      "_view_count": null,
      "_view_module": "@jupyter-widgets/controls",
      "_view_module_version": "1.5.0",
      "_view_name": "ProgressView",
      "bar_style": "success",
      "description": "",
      "description_tooltip": null,
      "layout": "IPY_MODEL_43cbaa54571240a28335911f223e5503",
      "max": 3108,
      "min": 0,
      "orientation": "horizontal",
      "style": "IPY_MODEL_bdc4df4bb7614d5e8b7f283b856fa8ad",
      "value": 3108
     }
    },
    "35f402d30cc04b1a805a3925d6f670ab": {
     "model_module": "@jupyter-widgets/controls",
     "model_module_version": "1.5.0",
     "model_name": "HTMLModel",
     "state": {
      "_dom_classes": [],
      "_model_module": "@jupyter-widgets/controls",
      "_model_module_version": "1.5.0",
      "_model_name": "HTMLModel",
      "_view_count": null,
      "_view_module": "@jupyter-widgets/controls",
      "_view_module_version": "1.5.0",
      "_view_name": "HTMLView",
      "description": "",
      "description_tooltip": null,
      "layout": "IPY_MODEL_93817a8ae2024d1eaa91c3ded2a0b205",
      "placeholder": "​",
      "style": "IPY_MODEL_881cfffdf5d94467bbb0746ca6fe9b09",
      "value": " 3108/3108 [00:35&lt;00:00, 85.05it/s]"
     }
    },
    "37ea5af55e70475a9dca7a7e71d4e1bb": {
     "model_module": "@jupyter-widgets/controls",
     "model_module_version": "1.5.0",
     "model_name": "HBoxModel",
     "state": {
      "_dom_classes": [],
      "_model_module": "@jupyter-widgets/controls",
      "_model_module_version": "1.5.0",
      "_model_name": "HBoxModel",
      "_view_count": null,
      "_view_module": "@jupyter-widgets/controls",
      "_view_module_version": "1.5.0",
      "_view_name": "HBoxView",
      "box_style": "",
      "children": [
       "IPY_MODEL_1111414ea0454b82ab262ee00a736ceb",
       "IPY_MODEL_331dffbef99e487aba518967b1f03012",
       "IPY_MODEL_640ce5d27b42464d8d1e51fcec1f215c"
      ],
      "layout": "IPY_MODEL_2eb33482eec044d08dcabd7ef6f7af74"
     }
    },
    "39847673a24d473ea36a9ad2161c731d": {
     "model_module": "@jupyter-widgets/controls",
     "model_module_version": "1.5.0",
     "model_name": "DescriptionStyleModel",
     "state": {
      "_model_module": "@jupyter-widgets/controls",
      "_model_module_version": "1.5.0",
      "_model_name": "DescriptionStyleModel",
      "_view_count": null,
      "_view_module": "@jupyter-widgets/base",
      "_view_module_version": "1.2.0",
      "_view_name": "StyleView",
      "description_width": ""
     }
    },
    "3a0d16c112a746a9812ab635f05c83b2": {
     "model_module": "@jupyter-widgets/controls",
     "model_module_version": "1.5.0",
     "model_name": "DescriptionStyleModel",
     "state": {
      "_model_module": "@jupyter-widgets/controls",
      "_model_module_version": "1.5.0",
      "_model_name": "DescriptionStyleModel",
      "_view_count": null,
      "_view_module": "@jupyter-widgets/base",
      "_view_module_version": "1.2.0",
      "_view_name": "StyleView",
      "description_width": ""
     }
    },
    "3dcc5857369a492296c744c4b6154929": {
     "model_module": "@jupyter-widgets/controls",
     "model_module_version": "1.5.0",
     "model_name": "ProgressStyleModel",
     "state": {
      "_model_module": "@jupyter-widgets/controls",
      "_model_module_version": "1.5.0",
      "_model_name": "ProgressStyleModel",
      "_view_count": null,
      "_view_module": "@jupyter-widgets/base",
      "_view_module_version": "1.2.0",
      "_view_name": "StyleView",
      "bar_color": null,
      "description_width": ""
     }
    },
    "3f7b079751bc4f1796f8f9fa66e5bff5": {
     "model_module": "@jupyter-widgets/base",
     "model_module_version": "1.2.0",
     "model_name": "LayoutModel",
     "state": {
      "_model_module": "@jupyter-widgets/base",
      "_model_module_version": "1.2.0",
      "_model_name": "LayoutModel",
      "_view_count": null,
      "_view_module": "@jupyter-widgets/base",
      "_view_module_version": "1.2.0",
      "_view_name": "LayoutView",
      "align_content": null,
      "align_items": null,
      "align_self": null,
      "border": null,
      "bottom": null,
      "display": null,
      "flex": null,
      "flex_flow": null,
      "grid_area": null,
      "grid_auto_columns": null,
      "grid_auto_flow": null,
      "grid_auto_rows": null,
      "grid_column": null,
      "grid_gap": null,
      "grid_row": null,
      "grid_template_areas": null,
      "grid_template_columns": null,
      "grid_template_rows": null,
      "height": null,
      "justify_content": null,
      "justify_items": null,
      "left": null,
      "margin": null,
      "max_height": null,
      "max_width": null,
      "min_height": null,
      "min_width": null,
      "object_fit": null,
      "object_position": null,
      "order": null,
      "overflow": null,
      "overflow_x": null,
      "overflow_y": null,
      "padding": null,
      "right": null,
      "top": null,
      "visibility": null,
      "width": null
     }
    },
    "43553fc7228443a6bd92282218fbb365": {
     "model_module": "@jupyter-widgets/base",
     "model_module_version": "1.2.0",
     "model_name": "LayoutModel",
     "state": {
      "_model_module": "@jupyter-widgets/base",
      "_model_module_version": "1.2.0",
      "_model_name": "LayoutModel",
      "_view_count": null,
      "_view_module": "@jupyter-widgets/base",
      "_view_module_version": "1.2.0",
      "_view_name": "LayoutView",
      "align_content": null,
      "align_items": null,
      "align_self": null,
      "border": null,
      "bottom": null,
      "display": null,
      "flex": null,
      "flex_flow": null,
      "grid_area": null,
      "grid_auto_columns": null,
      "grid_auto_flow": null,
      "grid_auto_rows": null,
      "grid_column": null,
      "grid_gap": null,
      "grid_row": null,
      "grid_template_areas": null,
      "grid_template_columns": null,
      "grid_template_rows": null,
      "height": null,
      "justify_content": null,
      "justify_items": null,
      "left": null,
      "margin": null,
      "max_height": null,
      "max_width": null,
      "min_height": null,
      "min_width": null,
      "object_fit": null,
      "object_position": null,
      "order": null,
      "overflow": null,
      "overflow_x": null,
      "overflow_y": null,
      "padding": null,
      "right": null,
      "top": null,
      "visibility": null,
      "width": null
     }
    },
    "43cbaa54571240a28335911f223e5503": {
     "model_module": "@jupyter-widgets/base",
     "model_module_version": "1.2.0",
     "model_name": "LayoutModel",
     "state": {
      "_model_module": "@jupyter-widgets/base",
      "_model_module_version": "1.2.0",
      "_model_name": "LayoutModel",
      "_view_count": null,
      "_view_module": "@jupyter-widgets/base",
      "_view_module_version": "1.2.0",
      "_view_name": "LayoutView",
      "align_content": null,
      "align_items": null,
      "align_self": null,
      "border": null,
      "bottom": null,
      "display": null,
      "flex": null,
      "flex_flow": null,
      "grid_area": null,
      "grid_auto_columns": null,
      "grid_auto_flow": null,
      "grid_auto_rows": null,
      "grid_column": null,
      "grid_gap": null,
      "grid_row": null,
      "grid_template_areas": null,
      "grid_template_columns": null,
      "grid_template_rows": null,
      "height": null,
      "justify_content": null,
      "justify_items": null,
      "left": null,
      "margin": null,
      "max_height": null,
      "max_width": null,
      "min_height": null,
      "min_width": null,
      "object_fit": null,
      "object_position": null,
      "order": null,
      "overflow": null,
      "overflow_x": null,
      "overflow_y": null,
      "padding": null,
      "right": null,
      "top": null,
      "visibility": null,
      "width": null
     }
    },
    "4a8de3c5aa47419dba3731aea99eb9e6": {
     "model_module": "@jupyter-widgets/controls",
     "model_module_version": "1.5.0",
     "model_name": "ProgressStyleModel",
     "state": {
      "_model_module": "@jupyter-widgets/controls",
      "_model_module_version": "1.5.0",
      "_model_name": "ProgressStyleModel",
      "_view_count": null,
      "_view_module": "@jupyter-widgets/base",
      "_view_module_version": "1.2.0",
      "_view_name": "StyleView",
      "bar_color": null,
      "description_width": ""
     }
    },
    "4d4179d02b1542c687e32a70dd3a834a": {
     "model_module": "@jupyter-widgets/controls",
     "model_module_version": "1.5.0",
     "model_name": "ProgressStyleModel",
     "state": {
      "_model_module": "@jupyter-widgets/controls",
      "_model_module_version": "1.5.0",
      "_model_name": "ProgressStyleModel",
      "_view_count": null,
      "_view_module": "@jupyter-widgets/base",
      "_view_module_version": "1.2.0",
      "_view_name": "StyleView",
      "bar_color": null,
      "description_width": ""
     }
    },
    "510c9ecf5a494aa9a051bdd25037f0f9": {
     "model_module": "@jupyter-widgets/base",
     "model_module_version": "1.2.0",
     "model_name": "LayoutModel",
     "state": {
      "_model_module": "@jupyter-widgets/base",
      "_model_module_version": "1.2.0",
      "_model_name": "LayoutModel",
      "_view_count": null,
      "_view_module": "@jupyter-widgets/base",
      "_view_module_version": "1.2.0",
      "_view_name": "LayoutView",
      "align_content": null,
      "align_items": null,
      "align_self": null,
      "border": null,
      "bottom": null,
      "display": null,
      "flex": null,
      "flex_flow": null,
      "grid_area": null,
      "grid_auto_columns": null,
      "grid_auto_flow": null,
      "grid_auto_rows": null,
      "grid_column": null,
      "grid_gap": null,
      "grid_row": null,
      "grid_template_areas": null,
      "grid_template_columns": null,
      "grid_template_rows": null,
      "height": null,
      "justify_content": null,
      "justify_items": null,
      "left": null,
      "margin": null,
      "max_height": null,
      "max_width": null,
      "min_height": null,
      "min_width": null,
      "object_fit": null,
      "object_position": null,
      "order": null,
      "overflow": null,
      "overflow_x": null,
      "overflow_y": null,
      "padding": null,
      "right": null,
      "top": null,
      "visibility": null,
      "width": null
     }
    },
    "5179f6b119df47bd935022bd2fcb210a": {
     "model_module": "@jupyter-widgets/base",
     "model_module_version": "1.2.0",
     "model_name": "LayoutModel",
     "state": {
      "_model_module": "@jupyter-widgets/base",
      "_model_module_version": "1.2.0",
      "_model_name": "LayoutModel",
      "_view_count": null,
      "_view_module": "@jupyter-widgets/base",
      "_view_module_version": "1.2.0",
      "_view_name": "LayoutView",
      "align_content": null,
      "align_items": null,
      "align_self": null,
      "border": null,
      "bottom": null,
      "display": null,
      "flex": null,
      "flex_flow": null,
      "grid_area": null,
      "grid_auto_columns": null,
      "grid_auto_flow": null,
      "grid_auto_rows": null,
      "grid_column": null,
      "grid_gap": null,
      "grid_row": null,
      "grid_template_areas": null,
      "grid_template_columns": null,
      "grid_template_rows": null,
      "height": null,
      "justify_content": null,
      "justify_items": null,
      "left": null,
      "margin": null,
      "max_height": null,
      "max_width": null,
      "min_height": null,
      "min_width": null,
      "object_fit": null,
      "object_position": null,
      "order": null,
      "overflow": null,
      "overflow_x": null,
      "overflow_y": null,
      "padding": null,
      "right": null,
      "top": null,
      "visibility": null,
      "width": null
     }
    },
    "521f22170b26406891a48137a04c1b6d": {
     "model_module": "@jupyter-widgets/base",
     "model_module_version": "1.2.0",
     "model_name": "LayoutModel",
     "state": {
      "_model_module": "@jupyter-widgets/base",
      "_model_module_version": "1.2.0",
      "_model_name": "LayoutModel",
      "_view_count": null,
      "_view_module": "@jupyter-widgets/base",
      "_view_module_version": "1.2.0",
      "_view_name": "LayoutView",
      "align_content": null,
      "align_items": null,
      "align_self": null,
      "border": null,
      "bottom": null,
      "display": null,
      "flex": null,
      "flex_flow": null,
      "grid_area": null,
      "grid_auto_columns": null,
      "grid_auto_flow": null,
      "grid_auto_rows": null,
      "grid_column": null,
      "grid_gap": null,
      "grid_row": null,
      "grid_template_areas": null,
      "grid_template_columns": null,
      "grid_template_rows": null,
      "height": null,
      "justify_content": null,
      "justify_items": null,
      "left": null,
      "margin": null,
      "max_height": null,
      "max_width": null,
      "min_height": null,
      "min_width": null,
      "object_fit": null,
      "object_position": null,
      "order": null,
      "overflow": null,
      "overflow_x": null,
      "overflow_y": null,
      "padding": null,
      "right": null,
      "top": null,
      "visibility": null,
      "width": null
     }
    },
    "549d75b943ed47f8b6ffef5cf132f552": {
     "model_module": "@jupyter-widgets/controls",
     "model_module_version": "1.5.0",
     "model_name": "HTMLModel",
     "state": {
      "_dom_classes": [],
      "_model_module": "@jupyter-widgets/controls",
      "_model_module_version": "1.5.0",
      "_model_name": "HTMLModel",
      "_view_count": null,
      "_view_module": "@jupyter-widgets/controls",
      "_view_module_version": "1.5.0",
      "_view_name": "HTMLView",
      "description": "",
      "description_tooltip": null,
      "layout": "IPY_MODEL_19a058088fe74b9395dc5216c7d35e03",
      "placeholder": "​",
      "style": "IPY_MODEL_0eba56fcb4e444b2b214a9696fe4d93c",
      "value": " 3108/3108 [00:33&lt;00:00, 92.22it/s]"
     }
    },
    "5a3a1f772f1e4f2b8d995511c98a6db5": {
     "model_module": "@jupyter-widgets/base",
     "model_module_version": "1.2.0",
     "model_name": "LayoutModel",
     "state": {
      "_model_module": "@jupyter-widgets/base",
      "_model_module_version": "1.2.0",
      "_model_name": "LayoutModel",
      "_view_count": null,
      "_view_module": "@jupyter-widgets/base",
      "_view_module_version": "1.2.0",
      "_view_name": "LayoutView",
      "align_content": null,
      "align_items": null,
      "align_self": null,
      "border": null,
      "bottom": null,
      "display": null,
      "flex": null,
      "flex_flow": null,
      "grid_area": null,
      "grid_auto_columns": null,
      "grid_auto_flow": null,
      "grid_auto_rows": null,
      "grid_column": null,
      "grid_gap": null,
      "grid_row": null,
      "grid_template_areas": null,
      "grid_template_columns": null,
      "grid_template_rows": null,
      "height": null,
      "justify_content": null,
      "justify_items": null,
      "left": null,
      "margin": null,
      "max_height": null,
      "max_width": null,
      "min_height": null,
      "min_width": null,
      "object_fit": null,
      "object_position": null,
      "order": null,
      "overflow": null,
      "overflow_x": null,
      "overflow_y": null,
      "padding": null,
      "right": null,
      "top": null,
      "visibility": null,
      "width": null
     }
    },
    "5b34b3d2bd814fe698f53e8d6b8a8116": {
     "model_module": "@jupyter-widgets/base",
     "model_module_version": "1.2.0",
     "model_name": "LayoutModel",
     "state": {
      "_model_module": "@jupyter-widgets/base",
      "_model_module_version": "1.2.0",
      "_model_name": "LayoutModel",
      "_view_count": null,
      "_view_module": "@jupyter-widgets/base",
      "_view_module_version": "1.2.0",
      "_view_name": "LayoutView",
      "align_content": null,
      "align_items": null,
      "align_self": null,
      "border": null,
      "bottom": null,
      "display": null,
      "flex": null,
      "flex_flow": null,
      "grid_area": null,
      "grid_auto_columns": null,
      "grid_auto_flow": null,
      "grid_auto_rows": null,
      "grid_column": null,
      "grid_gap": null,
      "grid_row": null,
      "grid_template_areas": null,
      "grid_template_columns": null,
      "grid_template_rows": null,
      "height": null,
      "justify_content": null,
      "justify_items": null,
      "left": null,
      "margin": null,
      "max_height": null,
      "max_width": null,
      "min_height": null,
      "min_width": null,
      "object_fit": null,
      "object_position": null,
      "order": null,
      "overflow": null,
      "overflow_x": null,
      "overflow_y": null,
      "padding": null,
      "right": null,
      "top": null,
      "visibility": null,
      "width": null
     }
    },
    "5b3d861745cd4c95b4a5dd94ef284d7f": {
     "model_module": "@jupyter-widgets/controls",
     "model_module_version": "1.5.0",
     "model_name": "HTMLModel",
     "state": {
      "_dom_classes": [],
      "_model_module": "@jupyter-widgets/controls",
      "_model_module_version": "1.5.0",
      "_model_name": "HTMLModel",
      "_view_count": null,
      "_view_module": "@jupyter-widgets/controls",
      "_view_module_version": "1.5.0",
      "_view_name": "HTMLView",
      "description": "",
      "description_tooltip": null,
      "layout": "IPY_MODEL_d0a4d5df9da64465a20c41882b74f8a3",
      "placeholder": "​",
      "style": "IPY_MODEL_6b22b3dcda584c8599504d1a42df092d",
      "value": " 3108/3108 [00:34&lt;00:00, 88.22it/s]"
     }
    },
    "5d15c6b4090b475294bc81bd1cf92b32": {
     "model_module": "@jupyter-widgets/controls",
     "model_module_version": "1.5.0",
     "model_name": "DescriptionStyleModel",
     "state": {
      "_model_module": "@jupyter-widgets/controls",
      "_model_module_version": "1.5.0",
      "_model_name": "DescriptionStyleModel",
      "_view_count": null,
      "_view_module": "@jupyter-widgets/base",
      "_view_module_version": "1.2.0",
      "_view_name": "StyleView",
      "description_width": ""
     }
    },
    "638f94476f674848b62a42980fb55d48": {
     "model_module": "@jupyter-widgets/controls",
     "model_module_version": "1.5.0",
     "model_name": "DescriptionStyleModel",
     "state": {
      "_model_module": "@jupyter-widgets/controls",
      "_model_module_version": "1.5.0",
      "_model_name": "DescriptionStyleModel",
      "_view_count": null,
      "_view_module": "@jupyter-widgets/base",
      "_view_module_version": "1.2.0",
      "_view_name": "StyleView",
      "description_width": ""
     }
    },
    "640ce5d27b42464d8d1e51fcec1f215c": {
     "model_module": "@jupyter-widgets/controls",
     "model_module_version": "1.5.0",
     "model_name": "HTMLModel",
     "state": {
      "_dom_classes": [],
      "_model_module": "@jupyter-widgets/controls",
      "_model_module_version": "1.5.0",
      "_model_name": "HTMLModel",
      "_view_count": null,
      "_view_module": "@jupyter-widgets/controls",
      "_view_module_version": "1.5.0",
      "_view_name": "HTMLView",
      "description": "",
      "description_tooltip": null,
      "layout": "IPY_MODEL_510c9ecf5a494aa9a051bdd25037f0f9",
      "placeholder": "​",
      "style": "IPY_MODEL_e79e7755255343c39175ba5de630cc50",
      "value": " 3108/3108 [00:34&lt;00:00, 91.73it/s]"
     }
    },
    "64cb9835ab3a40d59e66eae3ae0e995d": {
     "model_module": "@jupyter-widgets/controls",
     "model_module_version": "1.5.0",
     "model_name": "DescriptionStyleModel",
     "state": {
      "_model_module": "@jupyter-widgets/controls",
      "_model_module_version": "1.5.0",
      "_model_name": "DescriptionStyleModel",
      "_view_count": null,
      "_view_module": "@jupyter-widgets/base",
      "_view_module_version": "1.2.0",
      "_view_name": "StyleView",
      "description_width": ""
     }
    },
    "6a1d03711f764910851a5a3557c4c656": {
     "model_module": "@jupyter-widgets/base",
     "model_module_version": "1.2.0",
     "model_name": "LayoutModel",
     "state": {
      "_model_module": "@jupyter-widgets/base",
      "_model_module_version": "1.2.0",
      "_model_name": "LayoutModel",
      "_view_count": null,
      "_view_module": "@jupyter-widgets/base",
      "_view_module_version": "1.2.0",
      "_view_name": "LayoutView",
      "align_content": null,
      "align_items": null,
      "align_self": null,
      "border": null,
      "bottom": null,
      "display": null,
      "flex": null,
      "flex_flow": null,
      "grid_area": null,
      "grid_auto_columns": null,
      "grid_auto_flow": null,
      "grid_auto_rows": null,
      "grid_column": null,
      "grid_gap": null,
      "grid_row": null,
      "grid_template_areas": null,
      "grid_template_columns": null,
      "grid_template_rows": null,
      "height": null,
      "justify_content": null,
      "justify_items": null,
      "left": null,
      "margin": null,
      "max_height": null,
      "max_width": null,
      "min_height": null,
      "min_width": null,
      "object_fit": null,
      "object_position": null,
      "order": null,
      "overflow": null,
      "overflow_x": null,
      "overflow_y": null,
      "padding": null,
      "right": null,
      "top": null,
      "visibility": null,
      "width": null
     }
    },
    "6b22b3dcda584c8599504d1a42df092d": {
     "model_module": "@jupyter-widgets/controls",
     "model_module_version": "1.5.0",
     "model_name": "DescriptionStyleModel",
     "state": {
      "_model_module": "@jupyter-widgets/controls",
      "_model_module_version": "1.5.0",
      "_model_name": "DescriptionStyleModel",
      "_view_count": null,
      "_view_module": "@jupyter-widgets/base",
      "_view_module_version": "1.2.0",
      "_view_name": "StyleView",
      "description_width": ""
     }
    },
    "7fb312b4a2b044dc8bbabe78cd962de5": {
     "model_module": "@jupyter-widgets/base",
     "model_module_version": "1.2.0",
     "model_name": "LayoutModel",
     "state": {
      "_model_module": "@jupyter-widgets/base",
      "_model_module_version": "1.2.0",
      "_model_name": "LayoutModel",
      "_view_count": null,
      "_view_module": "@jupyter-widgets/base",
      "_view_module_version": "1.2.0",
      "_view_name": "LayoutView",
      "align_content": null,
      "align_items": null,
      "align_self": null,
      "border": null,
      "bottom": null,
      "display": null,
      "flex": null,
      "flex_flow": null,
      "grid_area": null,
      "grid_auto_columns": null,
      "grid_auto_flow": null,
      "grid_auto_rows": null,
      "grid_column": null,
      "grid_gap": null,
      "grid_row": null,
      "grid_template_areas": null,
      "grid_template_columns": null,
      "grid_template_rows": null,
      "height": null,
      "justify_content": null,
      "justify_items": null,
      "left": null,
      "margin": null,
      "max_height": null,
      "max_width": null,
      "min_height": null,
      "min_width": null,
      "object_fit": null,
      "object_position": null,
      "order": null,
      "overflow": null,
      "overflow_x": null,
      "overflow_y": null,
      "padding": null,
      "right": null,
      "top": null,
      "visibility": null,
      "width": null
     }
    },
    "80bc298c93134f6985af3e2786c0794a": {
     "model_module": "@jupyter-widgets/base",
     "model_module_version": "1.2.0",
     "model_name": "LayoutModel",
     "state": {
      "_model_module": "@jupyter-widgets/base",
      "_model_module_version": "1.2.0",
      "_model_name": "LayoutModel",
      "_view_count": null,
      "_view_module": "@jupyter-widgets/base",
      "_view_module_version": "1.2.0",
      "_view_name": "LayoutView",
      "align_content": null,
      "align_items": null,
      "align_self": null,
      "border": null,
      "bottom": null,
      "display": null,
      "flex": null,
      "flex_flow": null,
      "grid_area": null,
      "grid_auto_columns": null,
      "grid_auto_flow": null,
      "grid_auto_rows": null,
      "grid_column": null,
      "grid_gap": null,
      "grid_row": null,
      "grid_template_areas": null,
      "grid_template_columns": null,
      "grid_template_rows": null,
      "height": null,
      "justify_content": null,
      "justify_items": null,
      "left": null,
      "margin": null,
      "max_height": null,
      "max_width": null,
      "min_height": null,
      "min_width": null,
      "object_fit": null,
      "object_position": null,
      "order": null,
      "overflow": null,
      "overflow_x": null,
      "overflow_y": null,
      "padding": null,
      "right": null,
      "top": null,
      "visibility": null,
      "width": null
     }
    },
    "831b143189eb40af96cfed0a17eb94ed": {
     "model_module": "@jupyter-widgets/controls",
     "model_module_version": "1.5.0",
     "model_name": "HTMLModel",
     "state": {
      "_dom_classes": [],
      "_model_module": "@jupyter-widgets/controls",
      "_model_module_version": "1.5.0",
      "_model_name": "HTMLModel",
      "_view_count": null,
      "_view_module": "@jupyter-widgets/controls",
      "_view_module_version": "1.5.0",
      "_view_name": "HTMLView",
      "description": "",
      "description_tooltip": null,
      "layout": "IPY_MODEL_ae94c520b82f445486bf72a825674263",
      "placeholder": "​",
      "style": "IPY_MODEL_8fe1adbf4b334f29b52f22b76ebcc3ec",
      "value": " 2/2 [00:00&lt;00:00,  9.94it/s]"
     }
    },
    "867e8f984c7b488d88730cbec1d28f9d": {
     "model_module": "@jupyter-widgets/base",
     "model_module_version": "1.2.0",
     "model_name": "LayoutModel",
     "state": {
      "_model_module": "@jupyter-widgets/base",
      "_model_module_version": "1.2.0",
      "_model_name": "LayoutModel",
      "_view_count": null,
      "_view_module": "@jupyter-widgets/base",
      "_view_module_version": "1.2.0",
      "_view_name": "LayoutView",
      "align_content": null,
      "align_items": null,
      "align_self": null,
      "border": null,
      "bottom": null,
      "display": null,
      "flex": null,
      "flex_flow": null,
      "grid_area": null,
      "grid_auto_columns": null,
      "grid_auto_flow": null,
      "grid_auto_rows": null,
      "grid_column": null,
      "grid_gap": null,
      "grid_row": null,
      "grid_template_areas": null,
      "grid_template_columns": null,
      "grid_template_rows": null,
      "height": null,
      "justify_content": null,
      "justify_items": null,
      "left": null,
      "margin": null,
      "max_height": null,
      "max_width": null,
      "min_height": null,
      "min_width": null,
      "object_fit": null,
      "object_position": null,
      "order": null,
      "overflow": null,
      "overflow_x": null,
      "overflow_y": null,
      "padding": null,
      "right": null,
      "top": null,
      "visibility": null,
      "width": null
     }
    },
    "881cfffdf5d94467bbb0746ca6fe9b09": {
     "model_module": "@jupyter-widgets/controls",
     "model_module_version": "1.5.0",
     "model_name": "DescriptionStyleModel",
     "state": {
      "_model_module": "@jupyter-widgets/controls",
      "_model_module_version": "1.5.0",
      "_model_name": "DescriptionStyleModel",
      "_view_count": null,
      "_view_module": "@jupyter-widgets/base",
      "_view_module_version": "1.2.0",
      "_view_name": "StyleView",
      "description_width": ""
     }
    },
    "8a780289708c4822b1782c1e4b706871": {
     "model_module": "@jupyter-widgets/controls",
     "model_module_version": "1.5.0",
     "model_name": "DescriptionStyleModel",
     "state": {
      "_model_module": "@jupyter-widgets/controls",
      "_model_module_version": "1.5.0",
      "_model_name": "DescriptionStyleModel",
      "_view_count": null,
      "_view_module": "@jupyter-widgets/base",
      "_view_module_version": "1.2.0",
      "_view_name": "StyleView",
      "description_width": ""
     }
    },
    "8e7565aeebd649d79781edf297d7ebdc": {
     "model_module": "@jupyter-widgets/base",
     "model_module_version": "1.2.0",
     "model_name": "LayoutModel",
     "state": {
      "_model_module": "@jupyter-widgets/base",
      "_model_module_version": "1.2.0",
      "_model_name": "LayoutModel",
      "_view_count": null,
      "_view_module": "@jupyter-widgets/base",
      "_view_module_version": "1.2.0",
      "_view_name": "LayoutView",
      "align_content": null,
      "align_items": null,
      "align_self": null,
      "border": null,
      "bottom": null,
      "display": null,
      "flex": null,
      "flex_flow": null,
      "grid_area": null,
      "grid_auto_columns": null,
      "grid_auto_flow": null,
      "grid_auto_rows": null,
      "grid_column": null,
      "grid_gap": null,
      "grid_row": null,
      "grid_template_areas": null,
      "grid_template_columns": null,
      "grid_template_rows": null,
      "height": null,
      "justify_content": null,
      "justify_items": null,
      "left": null,
      "margin": null,
      "max_height": null,
      "max_width": null,
      "min_height": null,
      "min_width": null,
      "object_fit": null,
      "object_position": null,
      "order": null,
      "overflow": null,
      "overflow_x": null,
      "overflow_y": null,
      "padding": null,
      "right": null,
      "top": null,
      "visibility": null,
      "width": null
     }
    },
    "8fc7e9f5abde4502b99de830762ce36c": {
     "model_module": "@jupyter-widgets/base",
     "model_module_version": "1.2.0",
     "model_name": "LayoutModel",
     "state": {
      "_model_module": "@jupyter-widgets/base",
      "_model_module_version": "1.2.0",
      "_model_name": "LayoutModel",
      "_view_count": null,
      "_view_module": "@jupyter-widgets/base",
      "_view_module_version": "1.2.0",
      "_view_name": "LayoutView",
      "align_content": null,
      "align_items": null,
      "align_self": null,
      "border": null,
      "bottom": null,
      "display": null,
      "flex": null,
      "flex_flow": null,
      "grid_area": null,
      "grid_auto_columns": null,
      "grid_auto_flow": null,
      "grid_auto_rows": null,
      "grid_column": null,
      "grid_gap": null,
      "grid_row": null,
      "grid_template_areas": null,
      "grid_template_columns": null,
      "grid_template_rows": null,
      "height": null,
      "justify_content": null,
      "justify_items": null,
      "left": null,
      "margin": null,
      "max_height": null,
      "max_width": null,
      "min_height": null,
      "min_width": null,
      "object_fit": null,
      "object_position": null,
      "order": null,
      "overflow": null,
      "overflow_x": null,
      "overflow_y": null,
      "padding": null,
      "right": null,
      "top": null,
      "visibility": null,
      "width": null
     }
    },
    "8fe1adbf4b334f29b52f22b76ebcc3ec": {
     "model_module": "@jupyter-widgets/controls",
     "model_module_version": "1.5.0",
     "model_name": "DescriptionStyleModel",
     "state": {
      "_model_module": "@jupyter-widgets/controls",
      "_model_module_version": "1.5.0",
      "_model_name": "DescriptionStyleModel",
      "_view_count": null,
      "_view_module": "@jupyter-widgets/base",
      "_view_module_version": "1.2.0",
      "_view_name": "StyleView",
      "description_width": ""
     }
    },
    "93817a8ae2024d1eaa91c3ded2a0b205": {
     "model_module": "@jupyter-widgets/base",
     "model_module_version": "1.2.0",
     "model_name": "LayoutModel",
     "state": {
      "_model_module": "@jupyter-widgets/base",
      "_model_module_version": "1.2.0",
      "_model_name": "LayoutModel",
      "_view_count": null,
      "_view_module": "@jupyter-widgets/base",
      "_view_module_version": "1.2.0",
      "_view_name": "LayoutView",
      "align_content": null,
      "align_items": null,
      "align_self": null,
      "border": null,
      "bottom": null,
      "display": null,
      "flex": null,
      "flex_flow": null,
      "grid_area": null,
      "grid_auto_columns": null,
      "grid_auto_flow": null,
      "grid_auto_rows": null,
      "grid_column": null,
      "grid_gap": null,
      "grid_row": null,
      "grid_template_areas": null,
      "grid_template_columns": null,
      "grid_template_rows": null,
      "height": null,
      "justify_content": null,
      "justify_items": null,
      "left": null,
      "margin": null,
      "max_height": null,
      "max_width": null,
      "min_height": null,
      "min_width": null,
      "object_fit": null,
      "object_position": null,
      "order": null,
      "overflow": null,
      "overflow_x": null,
      "overflow_y": null,
      "padding": null,
      "right": null,
      "top": null,
      "visibility": null,
      "width": null
     }
    },
    "93e8b8bcd9d6429e8183564c9cd8c4a3": {
     "model_module": "@jupyter-widgets/controls",
     "model_module_version": "1.5.0",
     "model_name": "HBoxModel",
     "state": {
      "_dom_classes": [],
      "_model_module": "@jupyter-widgets/controls",
      "_model_module_version": "1.5.0",
      "_model_name": "HBoxModel",
      "_view_count": null,
      "_view_module": "@jupyter-widgets/controls",
      "_view_module_version": "1.5.0",
      "_view_name": "HBoxView",
      "box_style": "",
      "children": [
       "IPY_MODEL_2309182e98dc44f989c4cbc02b590aec",
       "IPY_MODEL_e3b1dc5d0ca14d89b3a84f9b7d653065",
       "IPY_MODEL_35f402d30cc04b1a805a3925d6f670ab"
      ],
      "layout": "IPY_MODEL_5a3a1f772f1e4f2b8d995511c98a6db5"
     }
    },
    "9c6b37bdb02a4f199f2c2cc1259da25b": {
     "model_module": "@jupyter-widgets/base",
     "model_module_version": "1.2.0",
     "model_name": "LayoutModel",
     "state": {
      "_model_module": "@jupyter-widgets/base",
      "_model_module_version": "1.2.0",
      "_model_name": "LayoutModel",
      "_view_count": null,
      "_view_module": "@jupyter-widgets/base",
      "_view_module_version": "1.2.0",
      "_view_name": "LayoutView",
      "align_content": null,
      "align_items": null,
      "align_self": null,
      "border": null,
      "bottom": null,
      "display": null,
      "flex": null,
      "flex_flow": null,
      "grid_area": null,
      "grid_auto_columns": null,
      "grid_auto_flow": null,
      "grid_auto_rows": null,
      "grid_column": null,
      "grid_gap": null,
      "grid_row": null,
      "grid_template_areas": null,
      "grid_template_columns": null,
      "grid_template_rows": null,
      "height": null,
      "justify_content": null,
      "justify_items": null,
      "left": null,
      "margin": null,
      "max_height": null,
      "max_width": null,
      "min_height": null,
      "min_width": null,
      "object_fit": null,
      "object_position": null,
      "order": null,
      "overflow": null,
      "overflow_x": null,
      "overflow_y": null,
      "padding": null,
      "right": null,
      "top": null,
      "visibility": null,
      "width": null
     }
    },
    "9c817149b565410c90fe244bff53d0eb": {
     "model_module": "@jupyter-widgets/base",
     "model_module_version": "1.2.0",
     "model_name": "LayoutModel",
     "state": {
      "_model_module": "@jupyter-widgets/base",
      "_model_module_version": "1.2.0",
      "_model_name": "LayoutModel",
      "_view_count": null,
      "_view_module": "@jupyter-widgets/base",
      "_view_module_version": "1.2.0",
      "_view_name": "LayoutView",
      "align_content": null,
      "align_items": null,
      "align_self": null,
      "border": null,
      "bottom": null,
      "display": null,
      "flex": null,
      "flex_flow": null,
      "grid_area": null,
      "grid_auto_columns": null,
      "grid_auto_flow": null,
      "grid_auto_rows": null,
      "grid_column": null,
      "grid_gap": null,
      "grid_row": null,
      "grid_template_areas": null,
      "grid_template_columns": null,
      "grid_template_rows": null,
      "height": null,
      "justify_content": null,
      "justify_items": null,
      "left": null,
      "margin": null,
      "max_height": null,
      "max_width": null,
      "min_height": null,
      "min_width": null,
      "object_fit": null,
      "object_position": null,
      "order": null,
      "overflow": null,
      "overflow_x": null,
      "overflow_y": null,
      "padding": null,
      "right": null,
      "top": null,
      "visibility": null,
      "width": null
     }
    },
    "9d0732565dc048f484148609470f2f95": {
     "model_module": "@jupyter-widgets/controls",
     "model_module_version": "1.5.0",
     "model_name": "HBoxModel",
     "state": {
      "_dom_classes": [],
      "_model_module": "@jupyter-widgets/controls",
      "_model_module_version": "1.5.0",
      "_model_name": "HBoxModel",
      "_view_count": null,
      "_view_module": "@jupyter-widgets/controls",
      "_view_module_version": "1.5.0",
      "_view_name": "HBoxView",
      "box_style": "",
      "children": [
       "IPY_MODEL_e540cb562a664aca8705c25c58f200a1",
       "IPY_MODEL_9d83107c0ba4412c81a84262ea14cce7",
       "IPY_MODEL_549d75b943ed47f8b6ffef5cf132f552"
      ],
      "layout": "IPY_MODEL_e4d5be89be9149b4896cfca4302323e8"
     }
    },
    "9d83107c0ba4412c81a84262ea14cce7": {
     "model_module": "@jupyter-widgets/controls",
     "model_module_version": "1.5.0",
     "model_name": "FloatProgressModel",
     "state": {
      "_dom_classes": [],
      "_model_module": "@jupyter-widgets/controls",
      "_model_module_version": "1.5.0",
      "_model_name": "FloatProgressModel",
      "_view_count": null,
      "_view_module": "@jupyter-widgets/controls",
      "_view_module_version": "1.5.0",
      "_view_name": "ProgressView",
      "bar_style": "success",
      "description": "",
      "description_tooltip": null,
      "layout": "IPY_MODEL_dc65603760bd4ce0a2cdbe4fda482998",
      "max": 3108,
      "min": 0,
      "orientation": "horizontal",
      "style": "IPY_MODEL_4a8de3c5aa47419dba3731aea99eb9e6",
      "value": 3108
     }
    },
    "9e0cb7b3aa21417eb2138f841e75ecf9": {
     "model_module": "@jupyter-widgets/base",
     "model_module_version": "1.2.0",
     "model_name": "LayoutModel",
     "state": {
      "_model_module": "@jupyter-widgets/base",
      "_model_module_version": "1.2.0",
      "_model_name": "LayoutModel",
      "_view_count": null,
      "_view_module": "@jupyter-widgets/base",
      "_view_module_version": "1.2.0",
      "_view_name": "LayoutView",
      "align_content": null,
      "align_items": null,
      "align_self": null,
      "border": null,
      "bottom": null,
      "display": null,
      "flex": null,
      "flex_flow": null,
      "grid_area": null,
      "grid_auto_columns": null,
      "grid_auto_flow": null,
      "grid_auto_rows": null,
      "grid_column": null,
      "grid_gap": null,
      "grid_row": null,
      "grid_template_areas": null,
      "grid_template_columns": null,
      "grid_template_rows": null,
      "height": null,
      "justify_content": null,
      "justify_items": null,
      "left": null,
      "margin": null,
      "max_height": null,
      "max_width": null,
      "min_height": null,
      "min_width": null,
      "object_fit": null,
      "object_position": null,
      "order": null,
      "overflow": null,
      "overflow_x": null,
      "overflow_y": null,
      "padding": null,
      "right": null,
      "top": null,
      "visibility": null,
      "width": null
     }
    },
    "a556e8c1e372491686476f417365432e": {
     "model_module": "@jupyter-widgets/controls",
     "model_module_version": "1.5.0",
     "model_name": "ProgressStyleModel",
     "state": {
      "_model_module": "@jupyter-widgets/controls",
      "_model_module_version": "1.5.0",
      "_model_name": "ProgressStyleModel",
      "_view_count": null,
      "_view_module": "@jupyter-widgets/base",
      "_view_module_version": "1.2.0",
      "_view_name": "StyleView",
      "bar_color": null,
      "description_width": ""
     }
    },
    "ac3855a6e57b4d60900f75c4a4e1fb05": {
     "model_module": "@jupyter-widgets/controls",
     "model_module_version": "1.5.0",
     "model_name": "ProgressStyleModel",
     "state": {
      "_model_module": "@jupyter-widgets/controls",
      "_model_module_version": "1.5.0",
      "_model_name": "ProgressStyleModel",
      "_view_count": null,
      "_view_module": "@jupyter-widgets/base",
      "_view_module_version": "1.2.0",
      "_view_name": "StyleView",
      "bar_color": null,
      "description_width": ""
     }
    },
    "ac6929467cd043198050cfec8775b5e3": {
     "model_module": "@jupyter-widgets/base",
     "model_module_version": "1.2.0",
     "model_name": "LayoutModel",
     "state": {
      "_model_module": "@jupyter-widgets/base",
      "_model_module_version": "1.2.0",
      "_model_name": "LayoutModel",
      "_view_count": null,
      "_view_module": "@jupyter-widgets/base",
      "_view_module_version": "1.2.0",
      "_view_name": "LayoutView",
      "align_content": null,
      "align_items": null,
      "align_self": null,
      "border": null,
      "bottom": null,
      "display": null,
      "flex": null,
      "flex_flow": null,
      "grid_area": null,
      "grid_auto_columns": null,
      "grid_auto_flow": null,
      "grid_auto_rows": null,
      "grid_column": null,
      "grid_gap": null,
      "grid_row": null,
      "grid_template_areas": null,
      "grid_template_columns": null,
      "grid_template_rows": null,
      "height": null,
      "justify_content": null,
      "justify_items": null,
      "left": null,
      "margin": null,
      "max_height": null,
      "max_width": null,
      "min_height": null,
      "min_width": null,
      "object_fit": null,
      "object_position": null,
      "order": null,
      "overflow": null,
      "overflow_x": null,
      "overflow_y": null,
      "padding": null,
      "right": null,
      "top": null,
      "visibility": null,
      "width": null
     }
    },
    "ae94c520b82f445486bf72a825674263": {
     "model_module": "@jupyter-widgets/base",
     "model_module_version": "1.2.0",
     "model_name": "LayoutModel",
     "state": {
      "_model_module": "@jupyter-widgets/base",
      "_model_module_version": "1.2.0",
      "_model_name": "LayoutModel",
      "_view_count": null,
      "_view_module": "@jupyter-widgets/base",
      "_view_module_version": "1.2.0",
      "_view_name": "LayoutView",
      "align_content": null,
      "align_items": null,
      "align_self": null,
      "border": null,
      "bottom": null,
      "display": null,
      "flex": null,
      "flex_flow": null,
      "grid_area": null,
      "grid_auto_columns": null,
      "grid_auto_flow": null,
      "grid_auto_rows": null,
      "grid_column": null,
      "grid_gap": null,
      "grid_row": null,
      "grid_template_areas": null,
      "grid_template_columns": null,
      "grid_template_rows": null,
      "height": null,
      "justify_content": null,
      "justify_items": null,
      "left": null,
      "margin": null,
      "max_height": null,
      "max_width": null,
      "min_height": null,
      "min_width": null,
      "object_fit": null,
      "object_position": null,
      "order": null,
      "overflow": null,
      "overflow_x": null,
      "overflow_y": null,
      "padding": null,
      "right": null,
      "top": null,
      "visibility": null,
      "width": null
     }
    },
    "b18b64e629e74f84a48391dc02e45cc4": {
     "model_module": "@jupyter-widgets/controls",
     "model_module_version": "1.5.0",
     "model_name": "DescriptionStyleModel",
     "state": {
      "_model_module": "@jupyter-widgets/controls",
      "_model_module_version": "1.5.0",
      "_model_name": "DescriptionStyleModel",
      "_view_count": null,
      "_view_module": "@jupyter-widgets/base",
      "_view_module_version": "1.2.0",
      "_view_name": "StyleView",
      "description_width": ""
     }
    },
    "b5df7ef388c0457faa2d803e7a1898e1": {
     "model_module": "@jupyter-widgets/base",
     "model_module_version": "1.2.0",
     "model_name": "LayoutModel",
     "state": {
      "_model_module": "@jupyter-widgets/base",
      "_model_module_version": "1.2.0",
      "_model_name": "LayoutModel",
      "_view_count": null,
      "_view_module": "@jupyter-widgets/base",
      "_view_module_version": "1.2.0",
      "_view_name": "LayoutView",
      "align_content": null,
      "align_items": null,
      "align_self": null,
      "border": null,
      "bottom": null,
      "display": null,
      "flex": null,
      "flex_flow": null,
      "grid_area": null,
      "grid_auto_columns": null,
      "grid_auto_flow": null,
      "grid_auto_rows": null,
      "grid_column": null,
      "grid_gap": null,
      "grid_row": null,
      "grid_template_areas": null,
      "grid_template_columns": null,
      "grid_template_rows": null,
      "height": null,
      "justify_content": null,
      "justify_items": null,
      "left": null,
      "margin": null,
      "max_height": null,
      "max_width": null,
      "min_height": null,
      "min_width": null,
      "object_fit": null,
      "object_position": null,
      "order": null,
      "overflow": null,
      "overflow_x": null,
      "overflow_y": null,
      "padding": null,
      "right": null,
      "top": null,
      "visibility": null,
      "width": null
     }
    },
    "b626d948b239411b8c33b046a4d864fb": {
     "model_module": "@jupyter-widgets/controls",
     "model_module_version": "1.5.0",
     "model_name": "HTMLModel",
     "state": {
      "_dom_classes": [],
      "_model_module": "@jupyter-widgets/controls",
      "_model_module_version": "1.5.0",
      "_model_name": "HTMLModel",
      "_view_count": null,
      "_view_module": "@jupyter-widgets/controls",
      "_view_module_version": "1.5.0",
      "_view_name": "HTMLView",
      "description": "",
      "description_tooltip": null,
      "layout": "IPY_MODEL_d1301ee8079241d1a248c8ccbdc7fd4d",
      "placeholder": "​",
      "style": "IPY_MODEL_3a0d16c112a746a9812ab635f05c83b2",
      "value": "100%"
     }
    },
    "b9e3b462e56e4f0cb9f14a9eb833e0f9": {
     "model_module": "@jupyter-widgets/controls",
     "model_module_version": "1.5.0",
     "model_name": "FloatProgressModel",
     "state": {
      "_dom_classes": [],
      "_model_module": "@jupyter-widgets/controls",
      "_model_module_version": "1.5.0",
      "_model_name": "FloatProgressModel",
      "_view_count": null,
      "_view_module": "@jupyter-widgets/controls",
      "_view_module_version": "1.5.0",
      "_view_name": "ProgressView",
      "bar_style": "success",
      "description": "",
      "description_tooltip": null,
      "layout": "IPY_MODEL_d49fd5ba6e404a4199af710e9d3ce818",
      "max": 3108,
      "min": 0,
      "orientation": "horizontal",
      "style": "IPY_MODEL_ac3855a6e57b4d60900f75c4a4e1fb05",
      "value": 3108
     }
    },
    "bac2f756390846b1bced0023a483339f": {
     "model_module": "@jupyter-widgets/base",
     "model_module_version": "1.2.0",
     "model_name": "LayoutModel",
     "state": {
      "_model_module": "@jupyter-widgets/base",
      "_model_module_version": "1.2.0",
      "_model_name": "LayoutModel",
      "_view_count": null,
      "_view_module": "@jupyter-widgets/base",
      "_view_module_version": "1.2.0",
      "_view_name": "LayoutView",
      "align_content": null,
      "align_items": null,
      "align_self": null,
      "border": null,
      "bottom": null,
      "display": null,
      "flex": null,
      "flex_flow": null,
      "grid_area": null,
      "grid_auto_columns": null,
      "grid_auto_flow": null,
      "grid_auto_rows": null,
      "grid_column": null,
      "grid_gap": null,
      "grid_row": null,
      "grid_template_areas": null,
      "grid_template_columns": null,
      "grid_template_rows": null,
      "height": null,
      "justify_content": null,
      "justify_items": null,
      "left": null,
      "margin": null,
      "max_height": null,
      "max_width": null,
      "min_height": null,
      "min_width": null,
      "object_fit": null,
      "object_position": null,
      "order": null,
      "overflow": null,
      "overflow_x": null,
      "overflow_y": null,
      "padding": null,
      "right": null,
      "top": null,
      "visibility": null,
      "width": null
     }
    },
    "baf62ff0baac4cdb92b2d425639dfe7e": {
     "model_module": "@jupyter-widgets/controls",
     "model_module_version": "1.5.0",
     "model_name": "HBoxModel",
     "state": {
      "_dom_classes": [],
      "_model_module": "@jupyter-widgets/controls",
      "_model_module_version": "1.5.0",
      "_model_name": "HBoxModel",
      "_view_count": null,
      "_view_module": "@jupyter-widgets/controls",
      "_view_module_version": "1.5.0",
      "_view_name": "HBoxView",
      "box_style": "",
      "children": [
       "IPY_MODEL_d252bba7ae5340878051de487603aeea",
       "IPY_MODEL_1a7eedb9fb874f15b79e502d8068d69c",
       "IPY_MODEL_831b143189eb40af96cfed0a17eb94ed"
      ],
      "layout": "IPY_MODEL_9c6b37bdb02a4f199f2c2cc1259da25b"
     }
    },
    "bd04d164d8204120a5f9b1696611035d": {
     "model_module": "@jupyter-widgets/controls",
     "model_module_version": "1.5.0",
     "model_name": "HBoxModel",
     "state": {
      "_dom_classes": [],
      "_model_module": "@jupyter-widgets/controls",
      "_model_module_version": "1.5.0",
      "_model_name": "HBoxModel",
      "_view_count": null,
      "_view_module": "@jupyter-widgets/controls",
      "_view_module_version": "1.5.0",
      "_view_name": "HBoxView",
      "box_style": "",
      "children": [
       "IPY_MODEL_2fa1a17e948f468a90fa4bf49b362038",
       "IPY_MODEL_d7cd5137fc5c4c129efcaba4cf65e2a8",
       "IPY_MODEL_07146501955347d1838dfd949f658308"
      ],
      "layout": "IPY_MODEL_8e7565aeebd649d79781edf297d7ebdc"
     }
    },
    "bd6cd9a6499e4713a3a09ce715fd5862": {
     "model_module": "@jupyter-widgets/controls",
     "model_module_version": "1.5.0",
     "model_name": "DescriptionStyleModel",
     "state": {
      "_model_module": "@jupyter-widgets/controls",
      "_model_module_version": "1.5.0",
      "_model_name": "DescriptionStyleModel",
      "_view_count": null,
      "_view_module": "@jupyter-widgets/base",
      "_view_module_version": "1.2.0",
      "_view_name": "StyleView",
      "description_width": ""
     }
    },
    "bdc4df4bb7614d5e8b7f283b856fa8ad": {
     "model_module": "@jupyter-widgets/controls",
     "model_module_version": "1.5.0",
     "model_name": "ProgressStyleModel",
     "state": {
      "_model_module": "@jupyter-widgets/controls",
      "_model_module_version": "1.5.0",
      "_model_name": "ProgressStyleModel",
      "_view_count": null,
      "_view_module": "@jupyter-widgets/base",
      "_view_module_version": "1.2.0",
      "_view_name": "StyleView",
      "bar_color": null,
      "description_width": ""
     }
    },
    "bf8252aa7b734763952b18c4990559e1": {
     "model_module": "@jupyter-widgets/controls",
     "model_module_version": "1.5.0",
     "model_name": "HBoxModel",
     "state": {
      "_dom_classes": [],
      "_model_module": "@jupyter-widgets/controls",
      "_model_module_version": "1.5.0",
      "_model_name": "HBoxModel",
      "_view_count": null,
      "_view_module": "@jupyter-widgets/controls",
      "_view_module_version": "1.5.0",
      "_view_name": "HBoxView",
      "box_style": "",
      "children": [
       "IPY_MODEL_23c59f16e8af485db0806bcfe4644330",
       "IPY_MODEL_2ed3d32bc3eb40bfbd3b50f9369e628e",
       "IPY_MODEL_04cb3fa7230f4f8586b7581dbf768b6d"
      ],
      "layout": "IPY_MODEL_3f7b079751bc4f1796f8f9fa66e5bff5"
     }
    },
    "c1d4eb6c92cb42e88ad0dd6e15c536b8": {
     "model_module": "@jupyter-widgets/controls",
     "model_module_version": "1.5.0",
     "model_name": "FloatProgressModel",
     "state": {
      "_dom_classes": [],
      "_model_module": "@jupyter-widgets/controls",
      "_model_module_version": "1.5.0",
      "_model_name": "FloatProgressModel",
      "_view_count": null,
      "_view_module": "@jupyter-widgets/controls",
      "_view_module_version": "1.5.0",
      "_view_name": "ProgressView",
      "bar_style": "success",
      "description": "",
      "description_tooltip": null,
      "layout": "IPY_MODEL_cc6cd82fcc154787ae73ad9bf839c58f",
      "max": 2,
      "min": 0,
      "orientation": "horizontal",
      "style": "IPY_MODEL_f928aa2af82347d7a01bf1ad1f2374a8",
      "value": 2
     }
    },
    "c776f82c2cc84866b65a82516d024047": {
     "model_module": "@jupyter-widgets/base",
     "model_module_version": "1.2.0",
     "model_name": "LayoutModel",
     "state": {
      "_model_module": "@jupyter-widgets/base",
      "_model_module_version": "1.2.0",
      "_model_name": "LayoutModel",
      "_view_count": null,
      "_view_module": "@jupyter-widgets/base",
      "_view_module_version": "1.2.0",
      "_view_name": "LayoutView",
      "align_content": null,
      "align_items": null,
      "align_self": null,
      "border": null,
      "bottom": null,
      "display": null,
      "flex": null,
      "flex_flow": null,
      "grid_area": null,
      "grid_auto_columns": null,
      "grid_auto_flow": null,
      "grid_auto_rows": null,
      "grid_column": null,
      "grid_gap": null,
      "grid_row": null,
      "grid_template_areas": null,
      "grid_template_columns": null,
      "grid_template_rows": null,
      "height": null,
      "justify_content": null,
      "justify_items": null,
      "left": null,
      "margin": null,
      "max_height": null,
      "max_width": null,
      "min_height": null,
      "min_width": null,
      "object_fit": null,
      "object_position": null,
      "order": null,
      "overflow": null,
      "overflow_x": null,
      "overflow_y": null,
      "padding": null,
      "right": null,
      "top": null,
      "visibility": null,
      "width": null
     }
    },
    "cc6cd82fcc154787ae73ad9bf839c58f": {
     "model_module": "@jupyter-widgets/base",
     "model_module_version": "1.2.0",
     "model_name": "LayoutModel",
     "state": {
      "_model_module": "@jupyter-widgets/base",
      "_model_module_version": "1.2.0",
      "_model_name": "LayoutModel",
      "_view_count": null,
      "_view_module": "@jupyter-widgets/base",
      "_view_module_version": "1.2.0",
      "_view_name": "LayoutView",
      "align_content": null,
      "align_items": null,
      "align_self": null,
      "border": null,
      "bottom": null,
      "display": null,
      "flex": null,
      "flex_flow": null,
      "grid_area": null,
      "grid_auto_columns": null,
      "grid_auto_flow": null,
      "grid_auto_rows": null,
      "grid_column": null,
      "grid_gap": null,
      "grid_row": null,
      "grid_template_areas": null,
      "grid_template_columns": null,
      "grid_template_rows": null,
      "height": null,
      "justify_content": null,
      "justify_items": null,
      "left": null,
      "margin": null,
      "max_height": null,
      "max_width": null,
      "min_height": null,
      "min_width": null,
      "object_fit": null,
      "object_position": null,
      "order": null,
      "overflow": null,
      "overflow_x": null,
      "overflow_y": null,
      "padding": null,
      "right": null,
      "top": null,
      "visibility": null,
      "width": null
     }
    },
    "ce700e96745f4e0a9d529567adbfb536": {
     "model_module": "@jupyter-widgets/controls",
     "model_module_version": "1.5.0",
     "model_name": "HTMLModel",
     "state": {
      "_dom_classes": [],
      "_model_module": "@jupyter-widgets/controls",
      "_model_module_version": "1.5.0",
      "_model_name": "HTMLModel",
      "_view_count": null,
      "_view_module": "@jupyter-widgets/controls",
      "_view_module_version": "1.5.0",
      "_view_name": "HTMLView",
      "description": "",
      "description_tooltip": null,
      "layout": "IPY_MODEL_5b34b3d2bd814fe698f53e8d6b8a8116",
      "placeholder": "​",
      "style": "IPY_MODEL_b18b64e629e74f84a48391dc02e45cc4",
      "value": "100%"
     }
    },
    "cfd5d2e1d0c44b468c3df1785542f035": {
     "model_module": "@jupyter-widgets/controls",
     "model_module_version": "1.5.0",
     "model_name": "HTMLModel",
     "state": {
      "_dom_classes": [],
      "_model_module": "@jupyter-widgets/controls",
      "_model_module_version": "1.5.0",
      "_model_name": "HTMLModel",
      "_view_count": null,
      "_view_module": "@jupyter-widgets/controls",
      "_view_module_version": "1.5.0",
      "_view_name": "HTMLView",
      "description": "",
      "description_tooltip": null,
      "layout": "IPY_MODEL_521f22170b26406891a48137a04c1b6d",
      "placeholder": "​",
      "style": "IPY_MODEL_11acf9b4e63d455983a496a161d57b1c",
      "value": " 2/2 [00:00&lt;00:00,  9.89it/s]"
     }
    },
    "d0a4d5df9da64465a20c41882b74f8a3": {
     "model_module": "@jupyter-widgets/base",
     "model_module_version": "1.2.0",
     "model_name": "LayoutModel",
     "state": {
      "_model_module": "@jupyter-widgets/base",
      "_model_module_version": "1.2.0",
      "_model_name": "LayoutModel",
      "_view_count": null,
      "_view_module": "@jupyter-widgets/base",
      "_view_module_version": "1.2.0",
      "_view_name": "LayoutView",
      "align_content": null,
      "align_items": null,
      "align_self": null,
      "border": null,
      "bottom": null,
      "display": null,
      "flex": null,
      "flex_flow": null,
      "grid_area": null,
      "grid_auto_columns": null,
      "grid_auto_flow": null,
      "grid_auto_rows": null,
      "grid_column": null,
      "grid_gap": null,
      "grid_row": null,
      "grid_template_areas": null,
      "grid_template_columns": null,
      "grid_template_rows": null,
      "height": null,
      "justify_content": null,
      "justify_items": null,
      "left": null,
      "margin": null,
      "max_height": null,
      "max_width": null,
      "min_height": null,
      "min_width": null,
      "object_fit": null,
      "object_position": null,
      "order": null,
      "overflow": null,
      "overflow_x": null,
      "overflow_y": null,
      "padding": null,
      "right": null,
      "top": null,
      "visibility": null,
      "width": null
     }
    },
    "d1301ee8079241d1a248c8ccbdc7fd4d": {
     "model_module": "@jupyter-widgets/base",
     "model_module_version": "1.2.0",
     "model_name": "LayoutModel",
     "state": {
      "_model_module": "@jupyter-widgets/base",
      "_model_module_version": "1.2.0",
      "_model_name": "LayoutModel",
      "_view_count": null,
      "_view_module": "@jupyter-widgets/base",
      "_view_module_version": "1.2.0",
      "_view_name": "LayoutView",
      "align_content": null,
      "align_items": null,
      "align_self": null,
      "border": null,
      "bottom": null,
      "display": null,
      "flex": null,
      "flex_flow": null,
      "grid_area": null,
      "grid_auto_columns": null,
      "grid_auto_flow": null,
      "grid_auto_rows": null,
      "grid_column": null,
      "grid_gap": null,
      "grid_row": null,
      "grid_template_areas": null,
      "grid_template_columns": null,
      "grid_template_rows": null,
      "height": null,
      "justify_content": null,
      "justify_items": null,
      "left": null,
      "margin": null,
      "max_height": null,
      "max_width": null,
      "min_height": null,
      "min_width": null,
      "object_fit": null,
      "object_position": null,
      "order": null,
      "overflow": null,
      "overflow_x": null,
      "overflow_y": null,
      "padding": null,
      "right": null,
      "top": null,
      "visibility": null,
      "width": null
     }
    },
    "d252bba7ae5340878051de487603aeea": {
     "model_module": "@jupyter-widgets/controls",
     "model_module_version": "1.5.0",
     "model_name": "HTMLModel",
     "state": {
      "_dom_classes": [],
      "_model_module": "@jupyter-widgets/controls",
      "_model_module_version": "1.5.0",
      "_model_name": "HTMLModel",
      "_view_count": null,
      "_view_module": "@jupyter-widgets/controls",
      "_view_module_version": "1.5.0",
      "_view_name": "HTMLView",
      "description": "",
      "description_tooltip": null,
      "layout": "IPY_MODEL_ac6929467cd043198050cfec8775b5e3",
      "placeholder": "​",
      "style": "IPY_MODEL_5d15c6b4090b475294bc81bd1cf92b32",
      "value": "100%"
     }
    },
    "d4916ce5943a434cb8e73678cffbd875": {
     "model_module": "@jupyter-widgets/controls",
     "model_module_version": "1.5.0",
     "model_name": "HBoxModel",
     "state": {
      "_dom_classes": [],
      "_model_module": "@jupyter-widgets/controls",
      "_model_module_version": "1.5.0",
      "_model_name": "HBoxModel",
      "_view_count": null,
      "_view_module": "@jupyter-widgets/controls",
      "_view_module_version": "1.5.0",
      "_view_name": "HBoxView",
      "box_style": "",
      "children": [
       "IPY_MODEL_0b859d4f04e84b99af4c8241bab6a5da",
       "IPY_MODEL_b9e3b462e56e4f0cb9f14a9eb833e0f9",
       "IPY_MODEL_5b3d861745cd4c95b4a5dd94ef284d7f"
      ],
      "layout": "IPY_MODEL_8fc7e9f5abde4502b99de830762ce36c"
     }
    },
    "d49fd5ba6e404a4199af710e9d3ce818": {
     "model_module": "@jupyter-widgets/base",
     "model_module_version": "1.2.0",
     "model_name": "LayoutModel",
     "state": {
      "_model_module": "@jupyter-widgets/base",
      "_model_module_version": "1.2.0",
      "_model_name": "LayoutModel",
      "_view_count": null,
      "_view_module": "@jupyter-widgets/base",
      "_view_module_version": "1.2.0",
      "_view_name": "LayoutView",
      "align_content": null,
      "align_items": null,
      "align_self": null,
      "border": null,
      "bottom": null,
      "display": null,
      "flex": null,
      "flex_flow": null,
      "grid_area": null,
      "grid_auto_columns": null,
      "grid_auto_flow": null,
      "grid_auto_rows": null,
      "grid_column": null,
      "grid_gap": null,
      "grid_row": null,
      "grid_template_areas": null,
      "grid_template_columns": null,
      "grid_template_rows": null,
      "height": null,
      "justify_content": null,
      "justify_items": null,
      "left": null,
      "margin": null,
      "max_height": null,
      "max_width": null,
      "min_height": null,
      "min_width": null,
      "object_fit": null,
      "object_position": null,
      "order": null,
      "overflow": null,
      "overflow_x": null,
      "overflow_y": null,
      "padding": null,
      "right": null,
      "top": null,
      "visibility": null,
      "width": null
     }
    },
    "d6b9bea11ddb4b7fa6fd40c831a9104d": {
     "model_module": "@jupyter-widgets/controls",
     "model_module_version": "1.5.0",
     "model_name": "FloatProgressModel",
     "state": {
      "_dom_classes": [],
      "_model_module": "@jupyter-widgets/controls",
      "_model_module_version": "1.5.0",
      "_model_name": "FloatProgressModel",
      "_view_count": null,
      "_view_module": "@jupyter-widgets/controls",
      "_view_module_version": "1.5.0",
      "_view_name": "ProgressView",
      "bar_style": "success",
      "description": "",
      "description_tooltip": null,
      "layout": "IPY_MODEL_9e0cb7b3aa21417eb2138f841e75ecf9",
      "max": 2,
      "min": 0,
      "orientation": "horizontal",
      "style": "IPY_MODEL_07843e4827a34777b31e326afde64761",
      "value": 2
     }
    },
    "d7cd5137fc5c4c129efcaba4cf65e2a8": {
     "model_module": "@jupyter-widgets/controls",
     "model_module_version": "1.5.0",
     "model_name": "FloatProgressModel",
     "state": {
      "_dom_classes": [],
      "_model_module": "@jupyter-widgets/controls",
      "_model_module_version": "1.5.0",
      "_model_name": "FloatProgressModel",
      "_view_count": null,
      "_view_module": "@jupyter-widgets/controls",
      "_view_module_version": "1.5.0",
      "_view_name": "ProgressView",
      "bar_style": "success",
      "description": "",
      "description_tooltip": null,
      "layout": "IPY_MODEL_bac2f756390846b1bced0023a483339f",
      "max": 3108,
      "min": 0,
      "orientation": "horizontal",
      "style": "IPY_MODEL_a556e8c1e372491686476f417365432e",
      "value": 3108
     }
    },
    "d81df3a3c2df4ab1886694bd085bf4ac": {
     "model_module": "@jupyter-widgets/controls",
     "model_module_version": "1.5.0",
     "model_name": "HBoxModel",
     "state": {
      "_dom_classes": [],
      "_model_module": "@jupyter-widgets/controls",
      "_model_module_version": "1.5.0",
      "_model_name": "HBoxModel",
      "_view_count": null,
      "_view_module": "@jupyter-widgets/controls",
      "_view_module_version": "1.5.0",
      "_view_name": "HBoxView",
      "box_style": "",
      "children": [
       "IPY_MODEL_ce700e96745f4e0a9d529567adbfb536",
       "IPY_MODEL_d6b9bea11ddb4b7fa6fd40c831a9104d",
       "IPY_MODEL_cfd5d2e1d0c44b468c3df1785542f035"
      ],
      "layout": "IPY_MODEL_e62608ae8e1f40ba9bc0f7e5440f3e3d"
     }
    },
    "d92b9f0048c94b94a1f29feb13a487c3": {
     "model_module": "@jupyter-widgets/base",
     "model_module_version": "1.2.0",
     "model_name": "LayoutModel",
     "state": {
      "_model_module": "@jupyter-widgets/base",
      "_model_module_version": "1.2.0",
      "_model_name": "LayoutModel",
      "_view_count": null,
      "_view_module": "@jupyter-widgets/base",
      "_view_module_version": "1.2.0",
      "_view_name": "LayoutView",
      "align_content": null,
      "align_items": null,
      "align_self": null,
      "border": null,
      "bottom": null,
      "display": null,
      "flex": null,
      "flex_flow": null,
      "grid_area": null,
      "grid_auto_columns": null,
      "grid_auto_flow": null,
      "grid_auto_rows": null,
      "grid_column": null,
      "grid_gap": null,
      "grid_row": null,
      "grid_template_areas": null,
      "grid_template_columns": null,
      "grid_template_rows": null,
      "height": null,
      "justify_content": null,
      "justify_items": null,
      "left": null,
      "margin": null,
      "max_height": null,
      "max_width": null,
      "min_height": null,
      "min_width": null,
      "object_fit": null,
      "object_position": null,
      "order": null,
      "overflow": null,
      "overflow_x": null,
      "overflow_y": null,
      "padding": null,
      "right": null,
      "top": null,
      "visibility": null,
      "width": null
     }
    },
    "dc65603760bd4ce0a2cdbe4fda482998": {
     "model_module": "@jupyter-widgets/base",
     "model_module_version": "1.2.0",
     "model_name": "LayoutModel",
     "state": {
      "_model_module": "@jupyter-widgets/base",
      "_model_module_version": "1.2.0",
      "_model_name": "LayoutModel",
      "_view_count": null,
      "_view_module": "@jupyter-widgets/base",
      "_view_module_version": "1.2.0",
      "_view_name": "LayoutView",
      "align_content": null,
      "align_items": null,
      "align_self": null,
      "border": null,
      "bottom": null,
      "display": null,
      "flex": null,
      "flex_flow": null,
      "grid_area": null,
      "grid_auto_columns": null,
      "grid_auto_flow": null,
      "grid_auto_rows": null,
      "grid_column": null,
      "grid_gap": null,
      "grid_row": null,
      "grid_template_areas": null,
      "grid_template_columns": null,
      "grid_template_rows": null,
      "height": null,
      "justify_content": null,
      "justify_items": null,
      "left": null,
      "margin": null,
      "max_height": null,
      "max_width": null,
      "min_height": null,
      "min_width": null,
      "object_fit": null,
      "object_position": null,
      "order": null,
      "overflow": null,
      "overflow_x": null,
      "overflow_y": null,
      "padding": null,
      "right": null,
      "top": null,
      "visibility": null,
      "width": null
     }
    },
    "e0c708c6e230465b9eb908d52ab7400c": {
     "model_module": "@jupyter-widgets/controls",
     "model_module_version": "1.5.0",
     "model_name": "HBoxModel",
     "state": {
      "_dom_classes": [],
      "_model_module": "@jupyter-widgets/controls",
      "_model_module_version": "1.5.0",
      "_model_name": "HBoxModel",
      "_view_count": null,
      "_view_module": "@jupyter-widgets/controls",
      "_view_module_version": "1.5.0",
      "_view_name": "HBoxView",
      "box_style": "",
      "children": [
       "IPY_MODEL_b626d948b239411b8c33b046a4d864fb",
       "IPY_MODEL_c1d4eb6c92cb42e88ad0dd6e15c536b8",
       "IPY_MODEL_2cfc75ef36ec42ab89083d568ed0baa9"
      ],
      "layout": "IPY_MODEL_b5df7ef388c0457faa2d803e7a1898e1"
     }
    },
    "e27c417fd9c74f9d922d61739c0d2c4d": {
     "model_module": "@jupyter-widgets/controls",
     "model_module_version": "1.5.0",
     "model_name": "DescriptionStyleModel",
     "state": {
      "_model_module": "@jupyter-widgets/controls",
      "_model_module_version": "1.5.0",
      "_model_name": "DescriptionStyleModel",
      "_view_count": null,
      "_view_module": "@jupyter-widgets/base",
      "_view_module_version": "1.2.0",
      "_view_name": "StyleView",
      "description_width": ""
     }
    },
    "e3b1dc5d0ca14d89b3a84f9b7d653065": {
     "model_module": "@jupyter-widgets/controls",
     "model_module_version": "1.5.0",
     "model_name": "FloatProgressModel",
     "state": {
      "_dom_classes": [],
      "_model_module": "@jupyter-widgets/controls",
      "_model_module_version": "1.5.0",
      "_model_name": "FloatProgressModel",
      "_view_count": null,
      "_view_module": "@jupyter-widgets/controls",
      "_view_module_version": "1.5.0",
      "_view_name": "ProgressView",
      "bar_style": "success",
      "description": "",
      "description_tooltip": null,
      "layout": "IPY_MODEL_43553fc7228443a6bd92282218fbb365",
      "max": 3108,
      "min": 0,
      "orientation": "horizontal",
      "style": "IPY_MODEL_3dcc5857369a492296c744c4b6154929",
      "value": 3108
     }
    },
    "e4d5be89be9149b4896cfca4302323e8": {
     "model_module": "@jupyter-widgets/base",
     "model_module_version": "1.2.0",
     "model_name": "LayoutModel",
     "state": {
      "_model_module": "@jupyter-widgets/base",
      "_model_module_version": "1.2.0",
      "_model_name": "LayoutModel",
      "_view_count": null,
      "_view_module": "@jupyter-widgets/base",
      "_view_module_version": "1.2.0",
      "_view_name": "LayoutView",
      "align_content": null,
      "align_items": null,
      "align_self": null,
      "border": null,
      "bottom": null,
      "display": null,
      "flex": null,
      "flex_flow": null,
      "grid_area": null,
      "grid_auto_columns": null,
      "grid_auto_flow": null,
      "grid_auto_rows": null,
      "grid_column": null,
      "grid_gap": null,
      "grid_row": null,
      "grid_template_areas": null,
      "grid_template_columns": null,
      "grid_template_rows": null,
      "height": null,
      "justify_content": null,
      "justify_items": null,
      "left": null,
      "margin": null,
      "max_height": null,
      "max_width": null,
      "min_height": null,
      "min_width": null,
      "object_fit": null,
      "object_position": null,
      "order": null,
      "overflow": null,
      "overflow_x": null,
      "overflow_y": null,
      "padding": null,
      "right": null,
      "top": null,
      "visibility": null,
      "width": null
     }
    },
    "e4f17135aec142c08ebff1d6e32ce653": {
     "model_module": "@jupyter-widgets/base",
     "model_module_version": "1.2.0",
     "model_name": "LayoutModel",
     "state": {
      "_model_module": "@jupyter-widgets/base",
      "_model_module_version": "1.2.0",
      "_model_name": "LayoutModel",
      "_view_count": null,
      "_view_module": "@jupyter-widgets/base",
      "_view_module_version": "1.2.0",
      "_view_name": "LayoutView",
      "align_content": null,
      "align_items": null,
      "align_self": null,
      "border": null,
      "bottom": null,
      "display": null,
      "flex": null,
      "flex_flow": null,
      "grid_area": null,
      "grid_auto_columns": null,
      "grid_auto_flow": null,
      "grid_auto_rows": null,
      "grid_column": null,
      "grid_gap": null,
      "grid_row": null,
      "grid_template_areas": null,
      "grid_template_columns": null,
      "grid_template_rows": null,
      "height": null,
      "justify_content": null,
      "justify_items": null,
      "left": null,
      "margin": null,
      "max_height": null,
      "max_width": null,
      "min_height": null,
      "min_width": null,
      "object_fit": null,
      "object_position": null,
      "order": null,
      "overflow": null,
      "overflow_x": null,
      "overflow_y": null,
      "padding": null,
      "right": null,
      "top": null,
      "visibility": null,
      "width": null
     }
    },
    "e540cb562a664aca8705c25c58f200a1": {
     "model_module": "@jupyter-widgets/controls",
     "model_module_version": "1.5.0",
     "model_name": "HTMLModel",
     "state": {
      "_dom_classes": [],
      "_model_module": "@jupyter-widgets/controls",
      "_model_module_version": "1.5.0",
      "_model_name": "HTMLModel",
      "_view_count": null,
      "_view_module": "@jupyter-widgets/controls",
      "_view_module_version": "1.5.0",
      "_view_name": "HTMLView",
      "description": "",
      "description_tooltip": null,
      "layout": "IPY_MODEL_f2953a2839cc4fe5ae00284ba8b69ccc",
      "placeholder": "​",
      "style": "IPY_MODEL_e27c417fd9c74f9d922d61739c0d2c4d",
      "value": "100%"
     }
    },
    "e62608ae8e1f40ba9bc0f7e5440f3e3d": {
     "model_module": "@jupyter-widgets/base",
     "model_module_version": "1.2.0",
     "model_name": "LayoutModel",
     "state": {
      "_model_module": "@jupyter-widgets/base",
      "_model_module_version": "1.2.0",
      "_model_name": "LayoutModel",
      "_view_count": null,
      "_view_module": "@jupyter-widgets/base",
      "_view_module_version": "1.2.0",
      "_view_name": "LayoutView",
      "align_content": null,
      "align_items": null,
      "align_self": null,
      "border": null,
      "bottom": null,
      "display": null,
      "flex": null,
      "flex_flow": null,
      "grid_area": null,
      "grid_auto_columns": null,
      "grid_auto_flow": null,
      "grid_auto_rows": null,
      "grid_column": null,
      "grid_gap": null,
      "grid_row": null,
      "grid_template_areas": null,
      "grid_template_columns": null,
      "grid_template_rows": null,
      "height": null,
      "justify_content": null,
      "justify_items": null,
      "left": null,
      "margin": null,
      "max_height": null,
      "max_width": null,
      "min_height": null,
      "min_width": null,
      "object_fit": null,
      "object_position": null,
      "order": null,
      "overflow": null,
      "overflow_x": null,
      "overflow_y": null,
      "padding": null,
      "right": null,
      "top": null,
      "visibility": null,
      "width": null
     }
    },
    "e79e7755255343c39175ba5de630cc50": {
     "model_module": "@jupyter-widgets/controls",
     "model_module_version": "1.5.0",
     "model_name": "DescriptionStyleModel",
     "state": {
      "_model_module": "@jupyter-widgets/controls",
      "_model_module_version": "1.5.0",
      "_model_name": "DescriptionStyleModel",
      "_view_count": null,
      "_view_module": "@jupyter-widgets/base",
      "_view_module_version": "1.2.0",
      "_view_name": "StyleView",
      "description_width": ""
     }
    },
    "ec002ad2d1974d15988964af40862e42": {
     "model_module": "@jupyter-widgets/controls",
     "model_module_version": "1.5.0",
     "model_name": "DescriptionStyleModel",
     "state": {
      "_model_module": "@jupyter-widgets/controls",
      "_model_module_version": "1.5.0",
      "_model_name": "DescriptionStyleModel",
      "_view_count": null,
      "_view_module": "@jupyter-widgets/base",
      "_view_module_version": "1.2.0",
      "_view_name": "StyleView",
      "description_width": ""
     }
    },
    "f2953a2839cc4fe5ae00284ba8b69ccc": {
     "model_module": "@jupyter-widgets/base",
     "model_module_version": "1.2.0",
     "model_name": "LayoutModel",
     "state": {
      "_model_module": "@jupyter-widgets/base",
      "_model_module_version": "1.2.0",
      "_model_name": "LayoutModel",
      "_view_count": null,
      "_view_module": "@jupyter-widgets/base",
      "_view_module_version": "1.2.0",
      "_view_name": "LayoutView",
      "align_content": null,
      "align_items": null,
      "align_self": null,
      "border": null,
      "bottom": null,
      "display": null,
      "flex": null,
      "flex_flow": null,
      "grid_area": null,
      "grid_auto_columns": null,
      "grid_auto_flow": null,
      "grid_auto_rows": null,
      "grid_column": null,
      "grid_gap": null,
      "grid_row": null,
      "grid_template_areas": null,
      "grid_template_columns": null,
      "grid_template_rows": null,
      "height": null,
      "justify_content": null,
      "justify_items": null,
      "left": null,
      "margin": null,
      "max_height": null,
      "max_width": null,
      "min_height": null,
      "min_width": null,
      "object_fit": null,
      "object_position": null,
      "order": null,
      "overflow": null,
      "overflow_x": null,
      "overflow_y": null,
      "padding": null,
      "right": null,
      "top": null,
      "visibility": null,
      "width": null
     }
    },
    "f928aa2af82347d7a01bf1ad1f2374a8": {
     "model_module": "@jupyter-widgets/controls",
     "model_module_version": "1.5.0",
     "model_name": "ProgressStyleModel",
     "state": {
      "_model_module": "@jupyter-widgets/controls",
      "_model_module_version": "1.5.0",
      "_model_name": "ProgressStyleModel",
      "_view_count": null,
      "_view_module": "@jupyter-widgets/base",
      "_view_module_version": "1.2.0",
      "_view_name": "StyleView",
      "bar_color": null,
      "description_width": ""
     }
    }
   }
  }
 },
 "nbformat": 4,
 "nbformat_minor": 4
}
